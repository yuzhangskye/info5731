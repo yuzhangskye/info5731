{
  "nbformat": 4,
  "nbformat_minor": 0,
  "metadata": {
    "colab": {
      "name": "lesson-2-code.py.ipynb",
      "version": "0.3.2",
      "provenance": []
    },
    "kernelspec": {
      "display_name": "Python 3",
      "language": "python",
      "name": "python3"
    }
  },
  "cells": [
    {
      "metadata": {
        "id": "inU3X6DDo2-h",
        "colab_type": "code",
        "colab": {}
      },
      "cell_type": "code",
      "source": [
        "message='And now for something completely different'"
      ],
      "execution_count": 0,
      "outputs": []
    },
    {
      "metadata": {
        "id": "LyqkyzQ-o2-n",
        "colab_type": "code",
        "colab": {}
      },
      "cell_type": "code",
      "source": [
        "n=17"
      ],
      "execution_count": 0,
      "outputs": []
    },
    {
      "metadata": {
        "id": "If05izT3o2-s",
        "colab_type": "code",
        "colab": {}
      },
      "cell_type": "code",
      "source": [
        "pi=3.141592653589793"
      ],
      "execution_count": 0,
      "outputs": []
    },
    {
      "metadata": {
        "id": "tRMq061Wo2-v",
        "colab_type": "code",
        "colab": {},
        "outputId": "eff25101-64b5-45c7-e052-82646e920212"
      },
      "cell_type": "code",
      "source": [
        "42"
      ],
      "execution_count": 0,
      "outputs": [
        {
          "output_type": "execute_result",
          "data": {
            "text/plain": [
              "42"
            ]
          },
          "metadata": {
            "tags": []
          },
          "execution_count": 4
        }
      ]
    },
    {
      "metadata": {
        "id": "USHXtZAao2-0",
        "colab_type": "code",
        "colab": {},
        "outputId": "be1d04a4-c36b-47ae-bc00-9bdf0863dcef"
      },
      "cell_type": "code",
      "source": [
        "n"
      ],
      "execution_count": 0,
      "outputs": [
        {
          "output_type": "execute_result",
          "data": {
            "text/plain": [
              "17"
            ]
          },
          "metadata": {
            "tags": []
          },
          "execution_count": 5
        }
      ]
    },
    {
      "metadata": {
        "id": "HVJ7DEfbo2-6",
        "colab_type": "code",
        "colab": {},
        "outputId": "bd2ea4fc-59d1-492e-c9eb-dec20e7cfb5e"
      },
      "cell_type": "code",
      "source": [
        "n+25"
      ],
      "execution_count": 0,
      "outputs": [
        {
          "output_type": "execute_result",
          "data": {
            "text/plain": [
              "42"
            ]
          },
          "metadata": {
            "tags": []
          },
          "execution_count": 6
        }
      ]
    },
    {
      "metadata": {
        "id": "jfoR9mLNo2-_",
        "colab_type": "code",
        "colab": {}
      },
      "cell_type": "code",
      "source": [
        "n=17"
      ],
      "execution_count": 0,
      "outputs": []
    },
    {
      "metadata": {
        "id": "ylBCNsdzo2_C",
        "colab_type": "code",
        "colab": {},
        "outputId": "2a05974e-07e9-403d-c898-15e23e25e839"
      },
      "cell_type": "code",
      "source": [
        "print(n)"
      ],
      "execution_count": 0,
      "outputs": [
        {
          "output_type": "stream",
          "text": [
            "17\n"
          ],
          "name": "stdout"
        }
      ]
    },
    {
      "metadata": {
        "id": "DNUtbMV4o2_G",
        "colab_type": "code",
        "colab": {}
      },
      "cell_type": "code",
      "source": [
        "miles=26.2"
      ],
      "execution_count": 0,
      "outputs": []
    },
    {
      "metadata": {
        "id": "k7wWXm1Go2_I",
        "colab_type": "code",
        "colab": {},
        "outputId": "9322378a-23fb-405a-c82c-6eca44957427"
      },
      "cell_type": "code",
      "source": [
        "miles*1.61"
      ],
      "execution_count": 0,
      "outputs": [
        {
          "output_type": "execute_result",
          "data": {
            "text/plain": [
              "42.182"
            ]
          },
          "metadata": {
            "tags": []
          },
          "execution_count": 10
        }
      ]
    },
    {
      "metadata": {
        "id": "rInIWQiso2_L",
        "colab_type": "code",
        "colab": {}
      },
      "cell_type": "code",
      "source": [
        "first='throat'"
      ],
      "execution_count": 0,
      "outputs": []
    },
    {
      "metadata": {
        "id": "W2P7ROO2o2_N",
        "colab_type": "code",
        "colab": {}
      },
      "cell_type": "code",
      "source": [
        "second='warbler'"
      ],
      "execution_count": 0,
      "outputs": []
    },
    {
      "metadata": {
        "id": "MbWMsBFro2_P",
        "colab_type": "code",
        "colab": {},
        "outputId": "e7a96a00-2499-41eb-9740-4aaedbb15db0"
      },
      "cell_type": "code",
      "source": [
        "first+second"
      ],
      "execution_count": 0,
      "outputs": [
        {
          "output_type": "execute_result",
          "data": {
            "text/plain": [
              "'throatwarbler'"
            ]
          },
          "metadata": {
            "tags": []
          },
          "execution_count": 3
        }
      ]
    },
    {
      "metadata": {
        "id": "_L4C-KaPo2_R",
        "colab_type": "code",
        "colab": {},
        "outputId": "cc0111c5-826e-4048-8511-03790f695b17"
      },
      "cell_type": "code",
      "source": [
        "type(42)"
      ],
      "execution_count": 0,
      "outputs": [
        {
          "output_type": "execute_result",
          "data": {
            "text/plain": [
              "int"
            ]
          },
          "metadata": {
            "tags": []
          },
          "execution_count": 4
        }
      ]
    },
    {
      "metadata": {
        "id": "WyJEGl2Uo2_T",
        "colab_type": "code",
        "colab": {},
        "outputId": "bca48e14-9380-4492-a977-f3bb87f93d85"
      },
      "cell_type": "code",
      "source": [
        "int(32)"
      ],
      "execution_count": 0,
      "outputs": [
        {
          "output_type": "execute_result",
          "data": {
            "text/plain": [
              "32"
            ]
          },
          "metadata": {
            "tags": []
          },
          "execution_count": 5
        }
      ]
    },
    {
      "metadata": {
        "id": "VzNa-Cozo2_W",
        "colab_type": "code",
        "colab": {},
        "outputId": "5add9297-7451-4441-8dc0-b0130b5cc1e3"
      },
      "cell_type": "code",
      "source": [
        "int(3.9999)"
      ],
      "execution_count": 0,
      "outputs": [
        {
          "output_type": "execute_result",
          "data": {
            "text/plain": [
              "3"
            ]
          },
          "metadata": {
            "tags": []
          },
          "execution_count": 7
        }
      ]
    },
    {
      "metadata": {
        "id": "ndyw6XCYo2_Y",
        "colab_type": "code",
        "colab": {},
        "outputId": "a0486d1f-3621-44a5-ebad-dd4fd5b74d47"
      },
      "cell_type": "code",
      "source": [
        "int(-2.3)"
      ],
      "execution_count": 0,
      "outputs": [
        {
          "output_type": "execute_result",
          "data": {
            "text/plain": [
              "-2"
            ]
          },
          "metadata": {
            "tags": []
          },
          "execution_count": 8
        }
      ]
    },
    {
      "metadata": {
        "id": "XCz9plCYo2_a",
        "colab_type": "code",
        "colab": {},
        "outputId": "0672976e-798c-40fd-f5af-11634159b389"
      },
      "cell_type": "code",
      "source": [
        "float(32)"
      ],
      "execution_count": 0,
      "outputs": [
        {
          "output_type": "execute_result",
          "data": {
            "text/plain": [
              "32.0"
            ]
          },
          "metadata": {
            "tags": []
          },
          "execution_count": 9
        }
      ]
    },
    {
      "metadata": {
        "id": "OOpDGncmo2_c",
        "colab_type": "code",
        "colab": {},
        "outputId": "e2a5c356-28c9-41e3-f0d8-41875f251bfa"
      },
      "cell_type": "code",
      "source": [
        "float('3.14159')"
      ],
      "execution_count": 0,
      "outputs": [
        {
          "output_type": "execute_result",
          "data": {
            "text/plain": [
              "3.14159"
            ]
          },
          "metadata": {
            "tags": []
          },
          "execution_count": 10
        }
      ]
    },
    {
      "metadata": {
        "id": "mhpENYBLo2_e",
        "colab_type": "code",
        "colab": {},
        "outputId": "8d07865f-2f70-448f-c9cc-86b328c3549a"
      },
      "cell_type": "code",
      "source": [
        "str(32)"
      ],
      "execution_count": 0,
      "outputs": [
        {
          "output_type": "execute_result",
          "data": {
            "text/plain": [
              "'32'"
            ]
          },
          "metadata": {
            "tags": []
          },
          "execution_count": 11
        }
      ]
    },
    {
      "metadata": {
        "id": "GAhGC1Pvo2_h",
        "colab_type": "code",
        "colab": {},
        "outputId": "9579399c-3aca-43a1-c91b-5bd5506aacfa"
      },
      "cell_type": "code",
      "source": [
        "str(3.14156)"
      ],
      "execution_count": 0,
      "outputs": [
        {
          "output_type": "execute_result",
          "data": {
            "text/plain": [
              "'3.14156'"
            ]
          },
          "metadata": {
            "tags": []
          },
          "execution_count": 12
        }
      ]
    },
    {
      "metadata": {
        "id": "yvj7X80Yo2_i",
        "colab_type": "code",
        "colab": {}
      },
      "cell_type": "code",
      "source": [
        "import math"
      ],
      "execution_count": 0,
      "outputs": []
    },
    {
      "metadata": {
        "id": "Z2GpXqUTo2_j",
        "colab_type": "code",
        "colab": {},
        "outputId": "8d89e0ec-c940-4901-9325-35481e77703a"
      },
      "cell_type": "code",
      "source": [
        "math"
      ],
      "execution_count": 0,
      "outputs": [
        {
          "output_type": "execute_result",
          "data": {
            "text/plain": [
              "<module 'math' from '/anaconda3/lib/python3.7/lib-dynload/math.cpython-37m-darwin.so'>"
            ]
          },
          "metadata": {
            "tags": []
          },
          "execution_count": 19
        }
      ]
    },
    {
      "metadata": {
        "id": "IvuMsUfHo2_l",
        "colab_type": "code",
        "colab": {}
      },
      "cell_type": "code",
      "source": [
        "def signal_power():\n",
        "    math.sin()"
      ],
      "execution_count": 0,
      "outputs": []
    },
    {
      "metadata": {
        "id": "KWUK0gIQo2_m",
        "colab_type": "code",
        "colab": {}
      },
      "cell_type": "code",
      "source": [
        "def noise_power():\n",
        "    math.exp()"
      ],
      "execution_count": 0,
      "outputs": []
    },
    {
      "metadata": {
        "id": "yoEwNBBFo2_m",
        "colab_type": "code",
        "colab": {},
        "outputId": "9326e35c-8264-4989-93cf-7afb3b611fbe"
      },
      "cell_type": "code",
      "source": [
        "ratio=signal_power/noise_power"
      ],
      "execution_count": 0,
      "outputs": [
        {
          "output_type": "error",
          "ename": "TypeError",
          "evalue": "unsupported operand type(s) for /: 'function' and 'function'",
          "traceback": [
            "\u001b[0;31m---------------------------------------------------------------------------\u001b[0m",
            "\u001b[0;31mTypeError\u001b[0m                                 Traceback (most recent call last)",
            "\u001b[0;32m<ipython-input-58-cc582679bea0>\u001b[0m in \u001b[0;36m<module>\u001b[0;34m\u001b[0m\n\u001b[0;32m----> 1\u001b[0;31m \u001b[0mratio\u001b[0m\u001b[0;34m=\u001b[0m\u001b[0msignal_power\u001b[0m\u001b[0;34m/\u001b[0m\u001b[0mnoise_power\u001b[0m\u001b[0;34m\u001b[0m\u001b[0;34m\u001b[0m\u001b[0m\n\u001b[0m",
            "\u001b[0;31mTypeError\u001b[0m: unsupported operand type(s) for /: 'function' and 'function'"
          ]
        }
      ]
    },
    {
      "metadata": {
        "id": "LHmsXwQto2_o",
        "colab_type": "code",
        "colab": {},
        "outputId": "21d0bdaa-0dc0-4f87-d462-ae6790dbedb9"
      },
      "cell_type": "code",
      "source": [
        "decibels=10*math.log10(ratio)"
      ],
      "execution_count": 0,
      "outputs": [
        {
          "output_type": "error",
          "ename": "NameError",
          "evalue": "name 'ratio' is not defined",
          "traceback": [
            "\u001b[0;31m---------------------------------------------------------------------------\u001b[0m",
            "\u001b[0;31mNameError\u001b[0m                                 Traceback (most recent call last)",
            "\u001b[0;32m<ipython-input-59-163e4cc9ff44>\u001b[0m in \u001b[0;36m<module>\u001b[0;34m\u001b[0m\n\u001b[0;32m----> 1\u001b[0;31m \u001b[0mdecibels\u001b[0m\u001b[0;34m=\u001b[0m\u001b[0;36m10\u001b[0m\u001b[0;34m*\u001b[0m\u001b[0mmath\u001b[0m\u001b[0;34m.\u001b[0m\u001b[0mlog10\u001b[0m\u001b[0;34m(\u001b[0m\u001b[0mratio\u001b[0m\u001b[0;34m)\u001b[0m\u001b[0;34m\u001b[0m\u001b[0;34m\u001b[0m\u001b[0m\n\u001b[0m",
            "\u001b[0;31mNameError\u001b[0m: name 'ratio' is not defined"
          ]
        }
      ]
    },
    {
      "metadata": {
        "id": "6bNTnmP0o2_p",
        "colab_type": "code",
        "colab": {}
      },
      "cell_type": "code",
      "source": [
        "radians=0.7"
      ],
      "execution_count": 0,
      "outputs": []
    },
    {
      "metadata": {
        "id": "XJgJyBsYo2_q",
        "colab_type": "code",
        "colab": {}
      },
      "cell_type": "code",
      "source": [
        "height=math.sin(radians)"
      ],
      "execution_count": 0,
      "outputs": []
    },
    {
      "metadata": {
        "id": "56zvMiUPo2_s",
        "colab_type": "code",
        "colab": {}
      },
      "cell_type": "code",
      "source": [
        "degrees=45"
      ],
      "execution_count": 0,
      "outputs": []
    },
    {
      "metadata": {
        "id": "7WFJH93Yo2_t",
        "colab_type": "code",
        "colab": {}
      },
      "cell_type": "code",
      "source": [
        "radians=degrees/180.0*math.pi"
      ],
      "execution_count": 0,
      "outputs": []
    },
    {
      "metadata": {
        "id": "nk7y_rjBo2_u",
        "colab_type": "code",
        "colab": {},
        "outputId": "86a682b6-ee90-4351-bc2b-b99f179748b0"
      },
      "cell_type": "code",
      "source": [
        "math.sin(radians)"
      ],
      "execution_count": 0,
      "outputs": [
        {
          "output_type": "execute_result",
          "data": {
            "text/plain": [
              "0.7071067811865475"
            ]
          },
          "metadata": {
            "tags": []
          },
          "execution_count": 44
        }
      ]
    },
    {
      "metadata": {
        "id": "oGhtHC7vo2_w",
        "colab_type": "code",
        "colab": {},
        "outputId": "12bfd573-d512-4664-a302-0bbfabfe97d1"
      },
      "cell_type": "code",
      "source": [
        "math.sqrt(2)/2.0"
      ],
      "execution_count": 0,
      "outputs": [
        {
          "output_type": "execute_result",
          "data": {
            "text/plain": [
              "0.7071067811865476"
            ]
          },
          "metadata": {
            "tags": []
          },
          "execution_count": 45
        }
      ]
    },
    {
      "metadata": {
        "id": "9C8v8AKho2_y",
        "colab_type": "code",
        "colab": {}
      },
      "cell_type": "code",
      "source": [
        "x=math.sin(degrees/360.0*2*math.pi)"
      ],
      "execution_count": 0,
      "outputs": []
    },
    {
      "metadata": {
        "id": "EKpIhEKLo2_z",
        "colab_type": "code",
        "colab": {}
      },
      "cell_type": "code",
      "source": [
        "x=math.exp(math.log(x+1))"
      ],
      "execution_count": 0,
      "outputs": []
    },
    {
      "metadata": {
        "id": "sIqqH0oWo2_0",
        "colab_type": "code",
        "colab": {}
      },
      "cell_type": "code",
      "source": [
        "def print_lyrics():\n",
        "    print(\"I'm a lumberjack, and I'm okay.\")\n",
        "    print(\"I sleep all night and I work all day.\")"
      ],
      "execution_count": 0,
      "outputs": []
    },
    {
      "metadata": {
        "id": "o9DNJugTo2_2",
        "colab_type": "code",
        "colab": {},
        "outputId": "6babca2c-9c5a-4f97-eac2-d17f5c65c7ef"
      },
      "cell_type": "code",
      "source": [
        "print(print_lyrics)"
      ],
      "execution_count": 0,
      "outputs": [
        {
          "output_type": "stream",
          "text": [
            "<function print_lyrics at 0x10b9276a8>\n"
          ],
          "name": "stdout"
        }
      ]
    },
    {
      "metadata": {
        "id": "GOv-wDfvo2_4",
        "colab_type": "code",
        "colab": {},
        "outputId": "9daa68d0-5b11-4c03-b3a8-2d7bfe2958b8"
      },
      "cell_type": "code",
      "source": [
        "type(print_lyrics)"
      ],
      "execution_count": 0,
      "outputs": [
        {
          "output_type": "execute_result",
          "data": {
            "text/plain": [
              "function"
            ]
          },
          "metadata": {
            "tags": []
          },
          "execution_count": 51
        }
      ]
    },
    {
      "metadata": {
        "id": "H_QuZV0Mo2_6",
        "colab_type": "code",
        "colab": {},
        "outputId": "898cd345-81d0-4635-fbdf-982e81eb932c"
      },
      "cell_type": "code",
      "source": [
        "print_lyrics()"
      ],
      "execution_count": 0,
      "outputs": [
        {
          "output_type": "stream",
          "text": [
            "I'm a lumberjack, and I'm okay.\n",
            "I sleep all night and I work all day.\n"
          ],
          "name": "stdout"
        }
      ]
    },
    {
      "metadata": {
        "id": "uAsutQa9o2_8",
        "colab_type": "code",
        "colab": {}
      },
      "cell_type": "code",
      "source": [
        "def repeat_lyrics():\n",
        "    print_lyrics()\n",
        "    print_lyrics()"
      ],
      "execution_count": 0,
      "outputs": []
    },
    {
      "metadata": {
        "id": "l8KZfUzEo2__",
        "colab_type": "code",
        "colab": {},
        "outputId": "19d714f0-6e9f-4426-bfc1-db0a4a586186"
      },
      "cell_type": "code",
      "source": [
        "repeat_lyrics()"
      ],
      "execution_count": 0,
      "outputs": [
        {
          "output_type": "stream",
          "text": [
            "I'm a lumberjack, and I'm okay.\n",
            "I sleep all night and I work all day.\n",
            "I'm a lumberjack, and I'm okay.\n",
            "I sleep all night and I work all day.\n"
          ],
          "name": "stdout"
        }
      ]
    },
    {
      "metadata": {
        "id": "uJTp-d6ro3AB",
        "colab_type": "code",
        "colab": {}
      },
      "cell_type": "code",
      "source": [
        "def print_twice():\n",
        "    print(\"spam\")\n",
        "    print(bruce)"
      ],
      "execution_count": 0,
      "outputs": []
    },
    {
      "metadata": {
        "id": "OSbtDg0To3AC",
        "colab_type": "code",
        "colab": {},
        "outputId": "c60907e6-b350-4f65-8d18-e854474fe106"
      },
      "cell_type": "code",
      "source": [
        "print_twice('spam')"
      ],
      "execution_count": 0,
      "outputs": [
        {
          "output_type": "stream",
          "text": [
            "spam\n",
            "spam\n"
          ],
          "name": "stdout"
        }
      ]
    },
    {
      "metadata": {
        "id": "K-EqGskYo3AD",
        "colab_type": "code",
        "colab": {},
        "outputId": "5296e543-2c61-4c2b-a4ce-7b0ee807b536"
      },
      "cell_type": "code",
      "source": [
        "print_twice(42)"
      ],
      "execution_count": 0,
      "outputs": [
        {
          "output_type": "stream",
          "text": [
            "42\n",
            "42\n"
          ],
          "name": "stdout"
        }
      ]
    },
    {
      "metadata": {
        "id": "bl91fLWwo3AF",
        "colab_type": "code",
        "colab": {},
        "outputId": "afbdade6-d989-4051-8064-0de06dba8332"
      },
      "cell_type": "code",
      "source": [
        "print_twice(math.pi)"
      ],
      "execution_count": 0,
      "outputs": [
        {
          "output_type": "stream",
          "text": [
            "3.141592653589793\n",
            "3.141592653589793\n"
          ],
          "name": "stdout"
        }
      ]
    },
    {
      "metadata": {
        "id": "QZmFHqtzo3AG",
        "colab_type": "code",
        "colab": {},
        "outputId": "2eb75e01-77f0-4be5-c654-e36621ca8c17"
      },
      "cell_type": "code",
      "source": [
        "print_twice('spam '*4)"
      ],
      "execution_count": 0,
      "outputs": [
        {
          "output_type": "stream",
          "text": [
            "spam spam spam spam \n",
            "spam spam spam spam \n"
          ],
          "name": "stdout"
        }
      ]
    },
    {
      "metadata": {
        "id": "oqHqrHtfo3AI",
        "colab_type": "code",
        "colab": {},
        "outputId": "6ff7ba81-5222-49ec-cbf0-251b99049a31"
      },
      "cell_type": "code",
      "source": [
        "print_twice(math.cos(math.pi))"
      ],
      "execution_count": 0,
      "outputs": [
        {
          "output_type": "stream",
          "text": [
            "-1.0\n",
            "-1.0\n"
          ],
          "name": "stdout"
        }
      ]
    },
    {
      "metadata": {
        "id": "m2W-R4cAo3AJ",
        "colab_type": "code",
        "colab": {}
      },
      "cell_type": "code",
      "source": [
        "michael='Eric, the half a bee'"
      ],
      "execution_count": 0,
      "outputs": []
    },
    {
      "metadata": {
        "id": "T6J9dR57o3AJ",
        "colab_type": "code",
        "colab": {},
        "outputId": "802ff66f-8069-4a2e-f921-6bbe10135a4e"
      },
      "cell_type": "code",
      "source": [
        "print_twice(michael)"
      ],
      "execution_count": 0,
      "outputs": [
        {
          "output_type": "stream",
          "text": [
            "Eric, the half a bee\n",
            "Eric, the half a bee\n"
          ],
          "name": "stdout"
        }
      ]
    },
    {
      "metadata": {
        "id": "WcfNbfaqo3AL",
        "colab_type": "code",
        "colab": {}
      },
      "cell_type": "code",
      "source": [
        "def cat_twice(part1,part2):\n",
        "    cat=part1+part2\n",
        "    print_twice(cat)"
      ],
      "execution_count": 0,
      "outputs": []
    },
    {
      "metadata": {
        "id": "u-9pvNcvo3AL",
        "colab_type": "code",
        "colab": {}
      },
      "cell_type": "code",
      "source": [
        "line1='Bing tiddle '"
      ],
      "execution_count": 0,
      "outputs": []
    },
    {
      "metadata": {
        "id": "ux3XiF2go3AM",
        "colab_type": "code",
        "colab": {}
      },
      "cell_type": "code",
      "source": [
        "line2='tiddle bang.'"
      ],
      "execution_count": 0,
      "outputs": []
    },
    {
      "metadata": {
        "id": "hGKwmr5eo3AN",
        "colab_type": "code",
        "colab": {},
        "outputId": "ab977a85-fad6-4ccb-ce6e-b2536bb85a5d"
      },
      "cell_type": "code",
      "source": [
        "cat_twice(line1,line2)"
      ],
      "execution_count": 0,
      "outputs": [
        {
          "output_type": "stream",
          "text": [
            "Bing tiddle tiddle bang.\n",
            "Bing tiddle tiddle bang.\n"
          ],
          "name": "stdout"
        }
      ]
    },
    {
      "metadata": {
        "id": "x-D78cRDo3AP",
        "colab_type": "code",
        "colab": {},
        "outputId": "bb9196d3-0ec4-47be-c2fc-204128b91c7f"
      },
      "cell_type": "code",
      "source": [
        "math.sqrt(5)"
      ],
      "execution_count": 0,
      "outputs": [
        {
          "output_type": "execute_result",
          "data": {
            "text/plain": [
              "2.23606797749979"
            ]
          },
          "metadata": {
            "tags": []
          },
          "execution_count": 80
        }
      ]
    },
    {
      "metadata": {
        "id": "2WXZD6rZo3AQ",
        "colab_type": "code",
        "colab": {},
        "outputId": "1651847e-9a59-4c1d-f09f-6dd6242ca07e"
      },
      "cell_type": "code",
      "source": [
        "result=print_twice('Bing')"
      ],
      "execution_count": 0,
      "outputs": [
        {
          "output_type": "stream",
          "text": [
            "Bing\n",
            "Bing\n"
          ],
          "name": "stdout"
        }
      ]
    },
    {
      "metadata": {
        "id": "2zFLN1b-o3AR",
        "colab_type": "code",
        "colab": {},
        "outputId": "a3f2928f-3091-4147-8b19-2fdf1c0b6c5f"
      },
      "cell_type": "code",
      "source": [
        "print(result)"
      ],
      "execution_count": 0,
      "outputs": [
        {
          "output_type": "stream",
          "text": [
            "None\n"
          ],
          "name": "stdout"
        }
      ]
    },
    {
      "metadata": {
        "id": "R0J9hmmwo3AS",
        "colab_type": "code",
        "colab": {},
        "outputId": "1b28e312-9838-41ad-f657-6eeeda9c4190"
      },
      "cell_type": "code",
      "source": [
        "print(type(None))"
      ],
      "execution_count": 0,
      "outputs": [
        {
          "output_type": "stream",
          "text": [
            "<class 'NoneType'>\n"
          ],
          "name": "stdout"
        }
      ]
    },
    {
      "metadata": {
        "id": "T_SfBGcFo3AT",
        "colab_type": "code",
        "colab": {}
      },
      "cell_type": "code",
      "source": [
        "import turtle"
      ],
      "execution_count": 0,
      "outputs": []
    },
    {
      "metadata": {
        "id": "EcBLg_Ieo3AU",
        "colab_type": "code",
        "colab": {}
      },
      "cell_type": "code",
      "source": [
        "bob=turtle.Turtle()"
      ],
      "execution_count": 0,
      "outputs": []
    },
    {
      "metadata": {
        "id": "CsMKNC0qo3AV",
        "colab_type": "code",
        "colab": {},
        "outputId": "9bb68e07-59eb-47ce-bcfb-9e7a7406b09a"
      },
      "cell_type": "code",
      "source": [
        "print(bob)"
      ],
      "execution_count": 0,
      "outputs": [
        {
          "output_type": "stream",
          "text": [
            "<turtle.Turtle object at 0x110234780>\n"
          ],
          "name": "stdout"
        }
      ]
    },
    {
      "metadata": {
        "id": "31B0ehN8o3AW",
        "colab_type": "code",
        "colab": {}
      },
      "cell_type": "code",
      "source": [
        "bob.fd(100)"
      ],
      "execution_count": 0,
      "outputs": []
    },
    {
      "metadata": {
        "id": "NrvyYirwo3AX",
        "colab_type": "code",
        "colab": {}
      },
      "cell_type": "code",
      "source": [
        "bob.lt(90)"
      ],
      "execution_count": 0,
      "outputs": []
    },
    {
      "metadata": {
        "id": "fgBJBvnAo3AX",
        "colab_type": "code",
        "colab": {}
      },
      "cell_type": "code",
      "source": [
        "bob.fd(100)"
      ],
      "execution_count": 0,
      "outputs": []
    },
    {
      "metadata": {
        "id": "RHX6bCJYo3AY",
        "colab_type": "code",
        "colab": {}
      },
      "cell_type": "code",
      "source": [
        "bob.lt(90)"
      ],
      "execution_count": 0,
      "outputs": []
    },
    {
      "metadata": {
        "id": "jO_DELp1o3AZ",
        "colab_type": "code",
        "colab": {}
      },
      "cell_type": "code",
      "source": [
        "bob.fd(100)"
      ],
      "execution_count": 0,
      "outputs": []
    },
    {
      "metadata": {
        "id": "wSW4Tthho3AZ",
        "colab_type": "code",
        "colab": {}
      },
      "cell_type": "code",
      "source": [
        "bob.lt(90)"
      ],
      "execution_count": 0,
      "outputs": []
    },
    {
      "metadata": {
        "id": "AVCvTSLOo3Aa",
        "colab_type": "code",
        "colab": {}
      },
      "cell_type": "code",
      "source": [
        "bob.fd(100)"
      ],
      "execution_count": 0,
      "outputs": []
    },
    {
      "metadata": {
        "id": "xxjwpFEUo3Ab",
        "colab_type": "code",
        "colab": {}
      },
      "cell_type": "code",
      "source": [
        "turtle.mainloop()"
      ],
      "execution_count": 0,
      "outputs": []
    },
    {
      "metadata": {
        "id": "E9fbO2JWo3Ac",
        "colab_type": "code",
        "colab": {},
        "outputId": "83b29d5f-27fe-47ae-aa02-e45b68053b56"
      },
      "cell_type": "code",
      "source": [
        "for i in range(4):\n",
        "    print('Hello!')"
      ],
      "execution_count": 0,
      "outputs": [
        {
          "output_type": "stream",
          "text": [
            "Hello!\n",
            "Hello!\n",
            "Hello!\n",
            "Hello!\n"
          ],
          "name": "stdout"
        }
      ]
    },
    {
      "metadata": {
        "id": "zZJRwV0io3Ad",
        "colab_type": "code",
        "colab": {}
      },
      "cell_type": "code",
      "source": [
        "import turtle"
      ],
      "execution_count": 0,
      "outputs": []
    },
    {
      "metadata": {
        "id": "lyRCOMB_o3Ae",
        "colab_type": "code",
        "colab": {}
      },
      "cell_type": "code",
      "source": [
        "bob=turtle.Turtle()"
      ],
      "execution_count": 0,
      "outputs": []
    },
    {
      "metadata": {
        "id": "eaTDWu5Io3Af",
        "colab_type": "code",
        "colab": {},
        "outputId": "5634386b-4ba0-4ecf-af71-0bc20f1161fb"
      },
      "cell_type": "code",
      "source": [
        "print(bob)"
      ],
      "execution_count": 0,
      "outputs": [
        {
          "output_type": "stream",
          "text": [
            "<turtle.Turtle object at 0x10fffe048>\n"
          ],
          "name": "stdout"
        }
      ]
    },
    {
      "metadata": {
        "id": "7bcr7qmho3Ah",
        "colab_type": "code",
        "colab": {}
      },
      "cell_type": "code",
      "source": [
        "def square(t):\n",
        "    for i in range(4):\n",
        "        t.fd(100)\n",
        "        t.lt(90)"
      ],
      "execution_count": 0,
      "outputs": []
    },
    {
      "metadata": {
        "id": "Mk0o9aoio3Ai",
        "colab_type": "code",
        "colab": {}
      },
      "cell_type": "code",
      "source": [
        "square(bob)"
      ],
      "execution_count": 0,
      "outputs": []
    },
    {
      "metadata": {
        "id": "_HQHIxsVo3Aj",
        "colab_type": "code",
        "colab": {}
      },
      "cell_type": "code",
      "source": [
        "turtle.mainloop()"
      ],
      "execution_count": 0,
      "outputs": []
    },
    {
      "metadata": {
        "id": "xM29oZGio3Ak",
        "colab_type": "code",
        "colab": {}
      },
      "cell_type": "code",
      "source": [
        "def square(t,length):\n",
        "    for i in range(4):\n",
        "        t.fd(length)\n",
        "        t.lt(90)"
      ],
      "execution_count": 0,
      "outputs": []
    },
    {
      "metadata": {
        "id": "xJ8K-2_Ao3Al",
        "colab_type": "code",
        "colab": {},
        "outputId": "bce88f59-5c97-4ebb-ab6d-19ef5e1a6b19"
      },
      "cell_type": "code",
      "source": [
        "square(bob,100)"
      ],
      "execution_count": 0,
      "outputs": [
        {
          "output_type": "error",
          "ename": "TypeError",
          "evalue": "square() takes 1 positional argument but 2 were given",
          "traceback": [
            "\u001b[0;31m---------------------------------------------------------------------------\u001b[0m",
            "\u001b[0;31mTypeError\u001b[0m                                 Traceback (most recent call last)",
            "\u001b[0;32m<ipython-input-14-8f710e333222>\u001b[0m in \u001b[0;36m<module>\u001b[0;34m\u001b[0m\n\u001b[0;32m----> 1\u001b[0;31m \u001b[0msquare\u001b[0m\u001b[0;34m(\u001b[0m\u001b[0mbob\u001b[0m\u001b[0;34m,\u001b[0m\u001b[0;36m100\u001b[0m\u001b[0;34m)\u001b[0m\u001b[0;34m\u001b[0m\u001b[0;34m\u001b[0m\u001b[0m\n\u001b[0m",
            "\u001b[0;31mTypeError\u001b[0m: square() takes 1 positional argument but 2 were given"
          ]
        }
      ]
    },
    {
      "metadata": {
        "id": "o_KIk0Ypo3Am",
        "colab_type": "code",
        "colab": {}
      },
      "cell_type": "code",
      "source": [
        "minutes=105"
      ],
      "execution_count": 0,
      "outputs": []
    },
    {
      "metadata": {
        "id": "_o6vmeEJo3Am",
        "colab_type": "code",
        "colab": {},
        "outputId": "41c53f6d-3e2b-4589-a7dc-2d2c05a8cb1f"
      },
      "cell_type": "code",
      "source": [
        "minutes/60"
      ],
      "execution_count": 0,
      "outputs": [
        {
          "output_type": "execute_result",
          "data": {
            "text/plain": [
              "1.75"
            ]
          },
          "metadata": {
            "tags": []
          },
          "execution_count": 46
        }
      ]
    },
    {
      "metadata": {
        "id": "-DgCFQV9o3Ao",
        "colab_type": "code",
        "colab": {}
      },
      "cell_type": "code",
      "source": [
        "hours=minutes//60"
      ],
      "execution_count": 0,
      "outputs": []
    },
    {
      "metadata": {
        "id": "BOQ0i4DAo3Ao",
        "colab_type": "code",
        "colab": {},
        "outputId": "2ee1f1ce-5499-4c9c-cdef-68a4875b983b"
      },
      "cell_type": "code",
      "source": [
        "hours"
      ],
      "execution_count": 0,
      "outputs": [
        {
          "output_type": "execute_result",
          "data": {
            "text/plain": [
              "1"
            ]
          },
          "metadata": {
            "tags": []
          },
          "execution_count": 48
        }
      ]
    },
    {
      "metadata": {
        "id": "SsXACh_oo3Ap",
        "colab_type": "code",
        "colab": {}
      },
      "cell_type": "code",
      "source": [
        "remainder=minutes-hours*60"
      ],
      "execution_count": 0,
      "outputs": []
    },
    {
      "metadata": {
        "id": "_CsPCPyWo3Aq",
        "colab_type": "code",
        "colab": {},
        "outputId": "542051ce-b352-4afe-9ca8-1c687feae56c"
      },
      "cell_type": "code",
      "source": [
        "remainder"
      ],
      "execution_count": 0,
      "outputs": [
        {
          "output_type": "execute_result",
          "data": {
            "text/plain": [
              "45"
            ]
          },
          "metadata": {
            "tags": []
          },
          "execution_count": 50
        }
      ]
    },
    {
      "metadata": {
        "id": "X7YnMeROo3Ar",
        "colab_type": "code",
        "colab": {}
      },
      "cell_type": "code",
      "source": [
        "remainder=minutes%60"
      ],
      "execution_count": 0,
      "outputs": []
    },
    {
      "metadata": {
        "id": "53rlWX69o3As",
        "colab_type": "code",
        "colab": {},
        "outputId": "f6336f8b-21cc-4594-acb4-66272e0b3069"
      },
      "cell_type": "code",
      "source": [
        "remainder"
      ],
      "execution_count": 0,
      "outputs": [
        {
          "output_type": "execute_result",
          "data": {
            "text/plain": [
              "45"
            ]
          },
          "metadata": {
            "tags": []
          },
          "execution_count": 52
        }
      ]
    },
    {
      "metadata": {
        "id": "j_98Fbclo3At",
        "colab_type": "code",
        "colab": {},
        "outputId": "9dd4e48f-ac90-4a16-efba-9c57117678b0"
      },
      "cell_type": "code",
      "source": [
        "5==5"
      ],
      "execution_count": 0,
      "outputs": [
        {
          "output_type": "execute_result",
          "data": {
            "text/plain": [
              "True"
            ]
          },
          "metadata": {
            "tags": []
          },
          "execution_count": 53
        }
      ]
    },
    {
      "metadata": {
        "id": "xprdTafho3Au",
        "colab_type": "code",
        "colab": {},
        "outputId": "7b4b44d4-2ee8-4005-a2d8-2c01ade1aa2d"
      },
      "cell_type": "code",
      "source": [
        "5==6"
      ],
      "execution_count": 0,
      "outputs": [
        {
          "output_type": "execute_result",
          "data": {
            "text/plain": [
              "False"
            ]
          },
          "metadata": {
            "tags": []
          },
          "execution_count": 54
        }
      ]
    },
    {
      "metadata": {
        "id": "LB-zkG25o3Av",
        "colab_type": "code",
        "colab": {},
        "outputId": "56b2765f-732b-409e-bf77-27f7b397efbf"
      },
      "cell_type": "code",
      "source": [
        "type(True)"
      ],
      "execution_count": 0,
      "outputs": [
        {
          "output_type": "execute_result",
          "data": {
            "text/plain": [
              "bool"
            ]
          },
          "metadata": {
            "tags": []
          },
          "execution_count": 55
        }
      ]
    },
    {
      "metadata": {
        "id": "4nagn6OTo3Aw",
        "colab_type": "code",
        "colab": {},
        "outputId": "964902eb-ef8a-48fa-badd-d73ed53abad8"
      },
      "cell_type": "code",
      "source": [
        "type(False)"
      ],
      "execution_count": 0,
      "outputs": [
        {
          "output_type": "execute_result",
          "data": {
            "text/plain": [
              "bool"
            ]
          },
          "metadata": {
            "tags": []
          },
          "execution_count": 56
        }
      ]
    },
    {
      "metadata": {
        "id": "JPG73xzVo3Ax",
        "colab_type": "code",
        "colab": {},
        "outputId": "5c1c77d8-7a30-4303-a9a9-a063187fe889"
      },
      "cell_type": "code",
      "source": [
        "42 and True"
      ],
      "execution_count": 0,
      "outputs": [
        {
          "output_type": "execute_result",
          "data": {
            "text/plain": [
              "True"
            ]
          },
          "metadata": {
            "tags": []
          },
          "execution_count": 57
        }
      ]
    },
    {
      "metadata": {
        "id": "CNzGaEnxo3Ay",
        "colab_type": "code",
        "colab": {},
        "outputId": "6218c213-7268-454a-f2b8-5657da1d840f"
      },
      "cell_type": "code",
      "source": [
        "text=input()"
      ],
      "execution_count": 0,
      "outputs": [
        {
          "output_type": "stream",
          "text": [
            "What are you waiting for?\n"
          ],
          "name": "stdout"
        }
      ]
    },
    {
      "metadata": {
        "id": "vY3dR6Kqo3Az",
        "colab_type": "code",
        "colab": {},
        "outputId": "986428cc-9e66-4689-ec44-51d93a712340"
      },
      "cell_type": "code",
      "source": [
        "text"
      ],
      "execution_count": 0,
      "outputs": [
        {
          "output_type": "execute_result",
          "data": {
            "text/plain": [
              "'What are you waiting for?'"
            ]
          },
          "metadata": {
            "tags": []
          },
          "execution_count": 60
        }
      ]
    },
    {
      "metadata": {
        "id": "YWvaw3m5o3A0",
        "colab_type": "code",
        "colab": {},
        "outputId": "43f60451-b62d-4746-f17a-62044cda814b"
      },
      "cell_type": "code",
      "source": [
        "name=input('What...is your name?\\n')"
      ],
      "execution_count": 0,
      "outputs": [
        {
          "output_type": "stream",
          "text": [
            "What...is your name?\n",
            "Arthur,King of the Britons!\n"
          ],
          "name": "stdout"
        }
      ]
    },
    {
      "metadata": {
        "id": "_5Yclv8Do3A1",
        "colab_type": "code",
        "colab": {},
        "outputId": "2d77842e-c413-45ba-fee9-3d7979fe9a2f"
      },
      "cell_type": "code",
      "source": [
        "name"
      ],
      "execution_count": 0,
      "outputs": [
        {
          "output_type": "execute_result",
          "data": {
            "text/plain": [
              "'Arthur,King of the Britons!'"
            ]
          },
          "metadata": {
            "tags": []
          },
          "execution_count": 62
        }
      ]
    },
    {
      "metadata": {
        "id": "MX8UR1lko3A2",
        "colab_type": "code",
        "colab": {}
      },
      "cell_type": "code",
      "source": [
        "prompt='What...is the airspeed velocity of an unladen swallow?\\n'"
      ],
      "execution_count": 0,
      "outputs": []
    },
    {
      "metadata": {
        "id": "sdxO5LMwo3A3",
        "colab_type": "code",
        "colab": {},
        "outputId": "a5176220-ac83-401c-b563-052a66871eca"
      },
      "cell_type": "code",
      "source": [
        "speed=input(prompt)"
      ],
      "execution_count": 0,
      "outputs": [
        {
          "output_type": "stream",
          "text": [
            "What...is the airspeed velocity of an unladen swallow?\n",
            "42\n"
          ],
          "name": "stdout"
        }
      ]
    },
    {
      "metadata": {
        "id": "PgjyM1f_o3A4",
        "colab_type": "code",
        "colab": {},
        "outputId": "1a63b829-f997-4eff-d73e-b021b3b3e57a"
      },
      "cell_type": "code",
      "source": [
        "int(speed)"
      ],
      "execution_count": 0,
      "outputs": [
        {
          "output_type": "execute_result",
          "data": {
            "text/plain": [
              "42"
            ]
          },
          "metadata": {
            "tags": []
          },
          "execution_count": 65
        }
      ]
    },
    {
      "metadata": {
        "id": "4AWkCP5Fo3A5",
        "colab_type": "code",
        "colab": {}
      },
      "cell_type": "code",
      "source": [
        "import math"
      ],
      "execution_count": 0,
      "outputs": []
    },
    {
      "metadata": {
        "id": "E6nClwwZo3A6",
        "colab_type": "code",
        "colab": {}
      },
      "cell_type": "code",
      "source": [
        "signal_power=9"
      ],
      "execution_count": 0,
      "outputs": []
    },
    {
      "metadata": {
        "id": "ulj_yQ7vo3A6",
        "colab_type": "code",
        "colab": {}
      },
      "cell_type": "code",
      "source": [
        "noise_power=10"
      ],
      "execution_count": 0,
      "outputs": []
    },
    {
      "metadata": {
        "id": "so-BiAlWo3A7",
        "colab_type": "code",
        "colab": {}
      },
      "cell_type": "code",
      "source": [
        "ratio=signal_power//noise_power"
      ],
      "execution_count": 0,
      "outputs": []
    },
    {
      "metadata": {
        "id": "X_C1rPTFo3A7",
        "colab_type": "code",
        "colab": {},
        "outputId": "c6bda1e8-e87e-44a9-cab6-b683d97757e8"
      },
      "cell_type": "code",
      "source": [
        "decibels=10*math.log10(ratio)"
      ],
      "execution_count": 0,
      "outputs": [
        {
          "output_type": "error",
          "ename": "ValueError",
          "evalue": "math domain error",
          "traceback": [
            "\u001b[0;31m---------------------------------------------------------------------------\u001b[0m",
            "\u001b[0;31mValueError\u001b[0m                                Traceback (most recent call last)",
            "\u001b[0;32m<ipython-input-11-163e4cc9ff44>\u001b[0m in \u001b[0;36m<module>\u001b[0;34m\u001b[0m\n\u001b[0;32m----> 1\u001b[0;31m \u001b[0mdecibels\u001b[0m\u001b[0;34m=\u001b[0m\u001b[0;36m10\u001b[0m\u001b[0;34m*\u001b[0m\u001b[0mmath\u001b[0m\u001b[0;34m.\u001b[0m\u001b[0mlog10\u001b[0m\u001b[0;34m(\u001b[0m\u001b[0mratio\u001b[0m\u001b[0;34m)\u001b[0m\u001b[0;34m\u001b[0m\u001b[0;34m\u001b[0m\u001b[0m\n\u001b[0m",
            "\u001b[0;31mValueError\u001b[0m: math domain error"
          ]
        }
      ]
    },
    {
      "metadata": {
        "id": "j_RwNwiZo3A8",
        "colab_type": "code",
        "colab": {},
        "outputId": "9e5240b3-0e7a-4dc1-aaf2-87704359013b"
      },
      "cell_type": "code",
      "source": [
        "print(decibels)"
      ],
      "execution_count": 0,
      "outputs": [
        {
          "output_type": "error",
          "ename": "NameError",
          "evalue": "name 'decibels' is not defined",
          "traceback": [
            "\u001b[0;31m---------------------------------------------------------------------------\u001b[0m",
            "\u001b[0;31mNameError\u001b[0m                                 Traceback (most recent call last)",
            "\u001b[0;32m<ipython-input-12-610cd24b5082>\u001b[0m in \u001b[0;36m<module>\u001b[0;34m\u001b[0m\n\u001b[0;32m----> 1\u001b[0;31m \u001b[0mprint\u001b[0m\u001b[0;34m(\u001b[0m\u001b[0mdecibels\u001b[0m\u001b[0;34m)\u001b[0m\u001b[0;34m\u001b[0m\u001b[0;34m\u001b[0m\u001b[0m\n\u001b[0m",
            "\u001b[0;31mNameError\u001b[0m: name 'decibels' is not defined"
          ]
        }
      ]
    },
    {
      "metadata": {
        "id": "r2ySrLkSo3A9",
        "colab_type": "code",
        "colab": {}
      },
      "cell_type": "code",
      "source": [
        "def distance(x1,y1,x2,y2):\n",
        "    dx=x2-x1\n",
        "    dy=y2-y1\n",
        "    print('dx is',dx)\n",
        "    print('dy is', dy)\n",
        "    dsquared=dx**2+dy**2\n",
        "    result=math.sqrt(dsquared)\n",
        "    return result"
      ],
      "execution_count": 0,
      "outputs": []
    },
    {
      "metadata": {
        "id": "Kqs3Ub5jo3A-",
        "colab_type": "code",
        "colab": {},
        "outputId": "1cf97b97-5467-493b-855b-6e9873ccdf12"
      },
      "cell_type": "code",
      "source": [
        "distance(5,8,2,4)"
      ],
      "execution_count": 0,
      "outputs": [
        {
          "output_type": "stream",
          "text": [
            "dx is -3\n",
            "dy is -4\n"
          ],
          "name": "stdout"
        },
        {
          "output_type": "execute_result",
          "data": {
            "text/plain": [
              "5.0"
            ]
          },
          "metadata": {
            "tags": []
          },
          "execution_count": 19
        }
      ]
    },
    {
      "metadata": {
        "id": "wLNPHZ_Co3A_",
        "colab_type": "code",
        "colab": {}
      },
      "cell_type": "code",
      "source": [
        "def radius(xc,yc,xp,yp):\n",
        "    px=xp-xc\n",
        "    py=yp-yc\n",
        "    dsquared=px**2+py**2\n",
        "    result=math.sqrt(dsquared)\n",
        "    return result"
      ],
      "execution_count": 0,
      "outputs": []
    },
    {
      "metadata": {
        "id": "Px1fnSf9o3A_",
        "colab_type": "code",
        "colab": {}
      },
      "cell_type": "code",
      "source": [
        "def circle_area(xc,yc,xp,yp):\n",
        "    result=math.pi*(radius(xc,yc,xp,yp)**2)\n",
        "    return result"
      ],
      "execution_count": 0,
      "outputs": []
    },
    {
      "metadata": {
        "id": "Y_zHUTmWo3BA",
        "colab_type": "code",
        "colab": {},
        "outputId": "f507d353-3164-44a5-c9b9-66957fabf4b0"
      },
      "cell_type": "code",
      "source": [
        "circle_area(3,4,6,8)"
      ],
      "execution_count": 0,
      "outputs": [
        {
          "output_type": "execute_result",
          "data": {
            "text/plain": [
              "78.53981633974483"
            ]
          },
          "metadata": {
            "tags": []
          },
          "execution_count": 33
        }
      ]
    },
    {
      "metadata": {
        "id": "D2F2INdBo3BB",
        "colab_type": "code",
        "colab": {}
      },
      "cell_type": "code",
      "source": [
        "def is_divisible(x,y):\n",
        "    if x%y==0:\n",
        "        return True\n",
        "    else:\n",
        "        return False"
      ],
      "execution_count": 0,
      "outputs": []
    },
    {
      "metadata": {
        "id": "k-QWykq9o3BC",
        "colab_type": "code",
        "colab": {},
        "outputId": "48dcf10f-db8c-4199-a1a7-993e83a22339"
      },
      "cell_type": "code",
      "source": [
        "is_divisible(6,4)"
      ],
      "execution_count": 0,
      "outputs": [
        {
          "output_type": "execute_result",
          "data": {
            "text/plain": [
              "False"
            ]
          },
          "metadata": {
            "tags": []
          },
          "execution_count": 35
        }
      ]
    },
    {
      "metadata": {
        "id": "aD65LcjRo3BD",
        "colab_type": "code",
        "colab": {},
        "outputId": "3bce633f-1d8c-4934-8afb-01682db280e7"
      },
      "cell_type": "code",
      "source": [
        "is_divisible(6,3)"
      ],
      "execution_count": 0,
      "outputs": [
        {
          "output_type": "execute_result",
          "data": {
            "text/plain": [
              "True"
            ]
          },
          "metadata": {
            "tags": []
          },
          "execution_count": 36
        }
      ]
    },
    {
      "metadata": {
        "id": "a9545iCqo3BE",
        "colab_type": "code",
        "colab": {}
      },
      "cell_type": "code",
      "source": [
        "def factorial(n):\n",
        "    if n==0:\n",
        "        return 1\n",
        "    else:\n",
        "        recurse=factorial(n-1)\n",
        "        result=n*recurse\n",
        "        return result"
      ],
      "execution_count": 0,
      "outputs": []
    },
    {
      "metadata": {
        "id": "NPwJ7Qn7o3BF",
        "colab_type": "code",
        "colab": {},
        "outputId": "b439a161-96c1-47f3-e991-e5f357f1beab"
      },
      "cell_type": "code",
      "source": [
        "factorial(8)"
      ],
      "execution_count": 0,
      "outputs": [
        {
          "output_type": "execute_result",
          "data": {
            "text/plain": [
              "40320"
            ]
          },
          "metadata": {
            "tags": []
          },
          "execution_count": 40
        }
      ]
    },
    {
      "metadata": {
        "id": "XTiFQbMpo3BG",
        "colab_type": "code",
        "colab": {}
      },
      "cell_type": "code",
      "source": [
        "def factorial(n):\n",
        "    if not isinstance(n,int):\n",
        "        print('Factorial is only defined for integers.')\n",
        "        return None\n",
        "    elif n<0:\n",
        "        print('Factorial is not defined for negative integers.')\n",
        "        return None\n",
        "    elif n==0:\n",
        "        return 1\n",
        "    else:\n",
        "        return n*factorial(n-1)"
      ],
      "execution_count": 0,
      "outputs": []
    },
    {
      "metadata": {
        "id": "US45OZlwo3BH",
        "colab_type": "code",
        "colab": {},
        "outputId": "ef18da8f-3f31-4920-b547-1aaa212693ea"
      },
      "cell_type": "code",
      "source": [
        "factorial(8.9)"
      ],
      "execution_count": 0,
      "outputs": [
        {
          "output_type": "stream",
          "text": [
            "Factorial is only defined for integers.\n"
          ],
          "name": "stdout"
        }
      ]
    },
    {
      "metadata": {
        "id": "9IzAfUfjo3BH",
        "colab_type": "code",
        "colab": {},
        "outputId": "91e525c7-fb67-47e9-f6a6-540e34660062"
      },
      "cell_type": "code",
      "source": [
        "factorial(-1)"
      ],
      "execution_count": 0,
      "outputs": [
        {
          "output_type": "stream",
          "text": [
            "Factorial is not defined for negative integers.\n"
          ],
          "name": "stdout"
        }
      ]
    },
    {
      "metadata": {
        "id": "QB9PrqGUo3BJ",
        "colab_type": "code",
        "colab": {},
        "outputId": "9949f616-7f04-4dd1-b2cc-1f2b3010f89b"
      },
      "cell_type": "code",
      "source": [
        "factorial(0)"
      ],
      "execution_count": 0,
      "outputs": [
        {
          "output_type": "execute_result",
          "data": {
            "text/plain": [
              "1"
            ]
          },
          "metadata": {
            "tags": []
          },
          "execution_count": 47
        }
      ]
    },
    {
      "metadata": {
        "id": "nLEsRRwLo3BK",
        "colab_type": "code",
        "colab": {},
        "outputId": "61c9efca-f582-4008-d6e6-1e8241e0ccaa"
      },
      "cell_type": "code",
      "source": [
        "factorial(8)"
      ],
      "execution_count": 0,
      "outputs": [
        {
          "output_type": "execute_result",
          "data": {
            "text/plain": [
              "40320"
            ]
          },
          "metadata": {
            "tags": []
          },
          "execution_count": 48
        }
      ]
    },
    {
      "metadata": {
        "id": "sA1EfbwCo3BQ",
        "colab_type": "code",
        "colab": {}
      },
      "cell_type": "code",
      "source": [
        "def factorial(n):\n",
        "    space=' '*(4*n)\n",
        "    print(space,'factorial',n)\n",
        "    if n==0:\n",
        "        print(space,'returning 1')\n",
        "        return 1\n",
        "    else:\n",
        "        recurse=factorial(n-1)\n",
        "        result=n*recurse\n",
        "        print(space,'returning',result)\n",
        "        return result"
      ],
      "execution_count": 0,
      "outputs": []
    },
    {
      "metadata": {
        "id": "tUKThjGzo3BR",
        "colab_type": "code",
        "colab": {},
        "outputId": "df3aaa63-dc1e-47ad-8db3-7c3f044e760f"
      },
      "cell_type": "code",
      "source": [
        "factorial(4)"
      ],
      "execution_count": 0,
      "outputs": [
        {
          "output_type": "stream",
          "text": [
            "                 factorial 4\n",
            "             factorial 3\n",
            "         factorial 2\n",
            "     factorial 1\n",
            " factorial 0\n",
            " returning 1\n",
            "     returning 1\n",
            "         returning 2\n",
            "             returning 6\n",
            "                 returning 24\n"
          ],
          "name": "stdout"
        },
        {
          "output_type": "execute_result",
          "data": {
            "text/plain": [
              "24"
            ]
          },
          "metadata": {
            "tags": []
          },
          "execution_count": 52
        }
      ]
    },
    {
      "metadata": {
        "id": "l_x7ppR5o3Bd",
        "colab_type": "code",
        "colab": {}
      },
      "cell_type": "code",
      "source": [
        "x=5"
      ],
      "execution_count": 0,
      "outputs": []
    },
    {
      "metadata": {
        "id": "xHnaE2zKo3Be",
        "colab_type": "code",
        "colab": {},
        "outputId": "68d97fa0-f536-42a5-97d6-cc1e27a818ae"
      },
      "cell_type": "code",
      "source": [
        "x"
      ],
      "execution_count": 0,
      "outputs": [
        {
          "output_type": "execute_result",
          "data": {
            "text/plain": [
              "5"
            ]
          },
          "metadata": {
            "tags": []
          },
          "execution_count": 54
        }
      ]
    },
    {
      "metadata": {
        "id": "XsGAYU7bo3Be",
        "colab_type": "code",
        "colab": {}
      },
      "cell_type": "code",
      "source": [
        "x=7"
      ],
      "execution_count": 0,
      "outputs": []
    },
    {
      "metadata": {
        "id": "iFS765DWo3Bf",
        "colab_type": "code",
        "colab": {},
        "outputId": "a1caf383-cacb-4230-83d4-5d828f66b588"
      },
      "cell_type": "code",
      "source": [
        "x"
      ],
      "execution_count": 0,
      "outputs": [
        {
          "output_type": "execute_result",
          "data": {
            "text/plain": [
              "7"
            ]
          },
          "metadata": {
            "tags": []
          },
          "execution_count": 56
        }
      ]
    },
    {
      "metadata": {
        "id": "UflXHvPio3Bf",
        "colab_type": "code",
        "colab": {}
      },
      "cell_type": "code",
      "source": [
        "a=5"
      ],
      "execution_count": 0,
      "outputs": []
    },
    {
      "metadata": {
        "id": "juP8Ec8Fo3Bg",
        "colab_type": "code",
        "colab": {}
      },
      "cell_type": "code",
      "source": [
        "b=a"
      ],
      "execution_count": 0,
      "outputs": []
    },
    {
      "metadata": {
        "id": "vHdBGjYwo3Bg",
        "colab_type": "code",
        "colab": {}
      },
      "cell_type": "code",
      "source": [
        "a=3"
      ],
      "execution_count": 0,
      "outputs": []
    },
    {
      "metadata": {
        "id": "TcybK3Jbo3Bh",
        "colab_type": "code",
        "colab": {}
      },
      "cell_type": "code",
      "source": [
        "x=x+1"
      ],
      "execution_count": 0,
      "outputs": []
    },
    {
      "metadata": {
        "id": "UPefMAqxo3Bh",
        "colab_type": "code",
        "colab": {}
      },
      "cell_type": "code",
      "source": [
        "x=0"
      ],
      "execution_count": 0,
      "outputs": []
    },
    {
      "metadata": {
        "id": "xnluCzwco3Bi",
        "colab_type": "code",
        "colab": {}
      },
      "cell_type": "code",
      "source": [
        "def countdown(n):\n",
        "    while n>0:\n",
        "        print(n)\n",
        "        n=n-1\n",
        "    print('Blastoff!')"
      ],
      "execution_count": 0,
      "outputs": []
    },
    {
      "metadata": {
        "id": "OpdwWIIyo3Bi",
        "colab_type": "code",
        "colab": {},
        "outputId": "9cbbdd71-07f5-4507-8c2c-b580e6ef75ef"
      },
      "cell_type": "code",
      "source": [
        "countdown(8)"
      ],
      "execution_count": 0,
      "outputs": [
        {
          "output_type": "stream",
          "text": [
            "8\n",
            "7\n",
            "6\n",
            "5\n",
            "4\n",
            "3\n",
            "2\n",
            "1\n",
            "Blastoff!\n"
          ],
          "name": "stdout"
        }
      ]
    },
    {
      "metadata": {
        "id": "FyQ2agO7o3Bj",
        "colab_type": "code",
        "colab": {}
      },
      "cell_type": "code",
      "source": [
        "def sequence(n):\n",
        "    while n!=1:\n",
        "        print(n)\n",
        "        if n%2==0:\n",
        "            n=n/2\n",
        "        else:\n",
        "            n=n*3+1"
      ],
      "execution_count": 0,
      "outputs": []
    },
    {
      "metadata": {
        "id": "mVpQRoZQo3Bk",
        "colab_type": "code",
        "colab": {},
        "outputId": "2e3ec7aa-711b-4ea5-b147-e1fd24bf52e7"
      },
      "cell_type": "code",
      "source": [
        "sequence(4)"
      ],
      "execution_count": 0,
      "outputs": [
        {
          "output_type": "stream",
          "text": [
            "4\n",
            "2.0\n"
          ],
          "name": "stdout"
        }
      ]
    },
    {
      "metadata": {
        "id": "yGxU1T3eo3Bl",
        "colab_type": "code",
        "colab": {},
        "outputId": "bcbaabe8-2e6c-4547-ab00-765c4dde1741"
      },
      "cell_type": "code",
      "source": [
        "while True:\n",
        "    line=input('> ')\n",
        "    if line=='done':\n",
        "        break\n",
        "    print(line)\n",
        "print('Done!')"
      ],
      "execution_count": 0,
      "outputs": [
        {
          "output_type": "stream",
          "text": [
            "> not done\n",
            "not done\n",
            "> not done\n",
            "not done\n",
            "> 111\n",
            "111\n",
            "> 333\n",
            "333\n",
            "> done\n",
            "Done!\n"
          ],
          "name": "stdout"
        }
      ]
    },
    {
      "metadata": {
        "id": "HVb3R-_1o3Bn",
        "colab_type": "code",
        "colab": {}
      },
      "cell_type": "code",
      "source": [
        "a=4"
      ],
      "execution_count": 0,
      "outputs": []
    },
    {
      "metadata": {
        "id": "k8wNzsHCo3Bo",
        "colab_type": "code",
        "colab": {}
      },
      "cell_type": "code",
      "source": [
        "x=3"
      ],
      "execution_count": 0,
      "outputs": []
    },
    {
      "metadata": {
        "id": "oqZPJEFTo3Bo",
        "colab_type": "code",
        "colab": {}
      },
      "cell_type": "code",
      "source": [
        "y=(x+a/x)/2"
      ],
      "execution_count": 0,
      "outputs": []
    },
    {
      "metadata": {
        "id": "kbpX7Fgho3Bp",
        "colab_type": "code",
        "colab": {},
        "outputId": "58f6b01b-81cd-4f2c-f7f3-6ab0912aaf65"
      },
      "cell_type": "code",
      "source": [
        "y"
      ],
      "execution_count": 0,
      "outputs": [
        {
          "output_type": "execute_result",
          "data": {
            "text/plain": [
              "2.1666666666666665"
            ]
          },
          "metadata": {
            "tags": []
          },
          "execution_count": 75
        }
      ]
    },
    {
      "metadata": {
        "id": "jfx21aJgo3Bp",
        "colab_type": "code",
        "colab": {}
      },
      "cell_type": "code",
      "source": [
        "x=y"
      ],
      "execution_count": 0,
      "outputs": []
    },
    {
      "metadata": {
        "id": "Y_qpmo7-o3Bq",
        "colab_type": "code",
        "colab": {}
      },
      "cell_type": "code",
      "source": [
        "y=(x+a/x)/2"
      ],
      "execution_count": 0,
      "outputs": []
    },
    {
      "metadata": {
        "id": "_W2DEqZKo3Bq",
        "colab_type": "code",
        "colab": {},
        "outputId": "826bb937-4296-4140-8042-909c12e381c9"
      },
      "cell_type": "code",
      "source": [
        "y"
      ],
      "execution_count": 0,
      "outputs": [
        {
          "output_type": "execute_result",
          "data": {
            "text/plain": [
              "2.0064102564102564"
            ]
          },
          "metadata": {
            "tags": []
          },
          "execution_count": 78
        }
      ]
    },
    {
      "metadata": {
        "id": "Dmig0d_to3Br",
        "colab_type": "code",
        "colab": {}
      },
      "cell_type": "code",
      "source": [
        "x=y"
      ],
      "execution_count": 0,
      "outputs": []
    },
    {
      "metadata": {
        "id": "5IOKuUKSo3Br",
        "colab_type": "code",
        "colab": {}
      },
      "cell_type": "code",
      "source": [
        "y=(x+a/x)/2"
      ],
      "execution_count": 0,
      "outputs": []
    },
    {
      "metadata": {
        "id": "8QC9kcVgo3Bs",
        "colab_type": "code",
        "colab": {},
        "outputId": "ec9755bb-0f21-4855-fdb9-d016371644c9"
      },
      "cell_type": "code",
      "source": [
        "y"
      ],
      "execution_count": 0,
      "outputs": [
        {
          "output_type": "execute_result",
          "data": {
            "text/plain": [
              "2.0000102400262145"
            ]
          },
          "metadata": {
            "tags": []
          },
          "execution_count": 81
        }
      ]
    },
    {
      "metadata": {
        "id": "IEKmNU7no3Bt",
        "colab_type": "code",
        "colab": {}
      },
      "cell_type": "code",
      "source": [
        "x=y"
      ],
      "execution_count": 0,
      "outputs": []
    },
    {
      "metadata": {
        "id": "2ReRNBzBo3Bt",
        "colab_type": "code",
        "colab": {}
      },
      "cell_type": "code",
      "source": [
        "y=(x+a/x)/2"
      ],
      "execution_count": 0,
      "outputs": []
    },
    {
      "metadata": {
        "id": "TqRxEndqo3Bt",
        "colab_type": "code",
        "colab": {},
        "outputId": "6f7a327a-bade-4fb2-d134-0163f2b8fa76"
      },
      "cell_type": "code",
      "source": [
        "y"
      ],
      "execution_count": 0,
      "outputs": [
        {
          "output_type": "execute_result",
          "data": {
            "text/plain": [
              "2.0000000000262146"
            ]
          },
          "metadata": {
            "tags": []
          },
          "execution_count": 84
        }
      ]
    },
    {
      "metadata": {
        "id": "vd951G9Ho3Bu",
        "colab_type": "code",
        "colab": {}
      },
      "cell_type": "code",
      "source": [
        "while True:\n",
        "    print(x)\n",
        "    y=(x+a/x)/2\n",
        "    if y==x:\n",
        "        break\n",
        "    x=y"
      ],
      "execution_count": 0,
      "outputs": []
    },
    {
      "metadata": {
        "id": "3cDpR4ZLo3Bu",
        "colab_type": "code",
        "colab": {}
      },
      "cell_type": "code",
      "source": [
        ""
      ],
      "execution_count": 0,
      "outputs": []
    }
  ]
}