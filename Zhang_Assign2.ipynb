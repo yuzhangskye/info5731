{
 "cells": [
  {
   "cell_type": "code",
   "execution_count": 107,
   "metadata": {},
   "outputs": [
    {
     "data": {
      "text/plain": [
       "True"
      ]
     },
     "execution_count": 107,
     "metadata": {},
     "output_type": "execute_result"
    }
   ],
   "source": [
    "1.1 \"A\".isupper()"
   ]
  },
  {
   "cell_type": "markdown",
   "metadata": {},
   "source": [
    "Valid."
   ]
  },
  {
   "cell_type": "markdown",
   "metadata": {},
   "source": [
    "print \"This is my Python class\";"
   ]
  },
  {
   "cell_type": "markdown",
   "metadata": {},
   "source": [
    "Not valid. Wrong syntax. \n",
    "It should be like this: \n",
    "print (This is my Python class)"
   ]
  },
  {
   "cell_type": "markdown",
   "metadata": {},
   "source": [
    "1.3 x == 1 AND y > x"
   ]
  },
  {
   "cell_type": "markdown",
   "metadata": {},
   "source": [
    "Not valid. AND is invalid syntax. \n",
    "It should be like this: \n",
    "x==1; \n",
    "y>x;"
   ]
  },
  {
   "cell_type": "markdown",
   "metadata": {},
   "source": [
    "1.4 return t[1:]"
   ]
  },
  {
   "cell_type": "markdown",
   "metadata": {},
   "source": [
    "Not valid. return t"
   ]
  },
  {
   "cell_type": "markdown",
   "metadata": {},
   "source": [
    "1.5 if \"fruit\" in \"apple\":"
   ]
  },
  {
   "cell_type": "markdown",
   "metadata": {},
   "source": [
    "Not valid. \"fruit\" in \"apple\" is not a valid condition."
   ]
  },
  {
   "cell_type": "markdown",
   "metadata": {},
   "source": [
    "1.6 with open(\"myfile.txt\", \"r\") as f:\n",
    "    text = f.read().decode(\"UTF-8\")"
   ]
  },
  {
   "cell_type": "markdown",
   "metadata": {},
   "source": [
    "Not valid. It should be like this: \n",
    "    with open(\"myfile.txt\", \"rb\") as f:\n",
    "    text = f.read().decode(\"UTF-8\")"
   ]
  },
  {
   "cell_type": "markdown",
   "metadata": {},
   "source": [
    "1.7 foo == None"
   ]
  },
  {
   "cell_type": "markdown",
   "metadata": {},
   "source": [
    "Not valid. It should be like this:\n",
    "    foo = None"
   ]
  },
  {
   "cell_type": "markdown",
   "metadata": {},
   "source": [
    "1.8 name = \"My name is Brenda\" \n",
    "      name[0] = \"A\""
   ]
  },
  {
   "cell_type": "markdown",
   "metadata": {},
   "source": [
    "Not valid. name[0]='M'"
   ]
  },
  {
   "cell_type": "markdown",
   "metadata": {},
   "source": [
    "1.9 x = 3 \n",
    "    x**3"
   ]
  },
  {
   "cell_type": "markdown",
   "metadata": {},
   "source": [
    "Valid."
   ]
  },
  {
   "cell_type": "markdown",
   "metadata": {},
   "source": [
    "1.10 20%7"
   ]
  },
  {
   "cell_type": "markdown",
   "metadata": {},
   "source": [
    "Valid."
   ]
  },
  {
   "cell_type": "markdown",
   "metadata": {},
   "source": [
    "Question 2. (15 points). Write a program to prompt for a score between 0 and 100. If the score is out of range, print an error message. If the score is between 0 and 100, print a grade using the following table:\n",
    "Score Grade \n",
    ">= 90   A\n",
    ">= 80   B\n",
    ">= 70   C\n",
    ">= 60   D\n",
    "< 60    F"
   ]
  },
  {
   "cell_type": "code",
   "execution_count": 33,
   "metadata": {},
   "outputs": [],
   "source": [
    "def grade(t):\n",
    "    if t>=90:\n",
    "        print('A')\n",
    "    elif t>=80:\n",
    "        print('B')\n",
    "    elif t>=70:\n",
    "        print('C')\n",
    "    elif t>=60:\n",
    "        print('D')\n",
    "    else: \n",
    "        print('F')"
   ]
  },
  {
   "cell_type": "code",
   "execution_count": 34,
   "metadata": {},
   "outputs": [
    {
     "name": "stdout",
     "output_type": "stream",
     "text": [
      "C\n"
     ]
    }
   ],
   "source": [
    "t=78\n",
    "grade(t)"
   ]
  },
  {
   "cell_type": "markdown",
   "metadata": {},
   "source": [
    "Question 3. (20 points). Write a Python program to generate 12 random numbers between 1 and 100. Sort the list of numbers in ascending order and print it out. Sort the list of numbers in descending order and print it out. Calculate the average for the group and print it out."
   ]
  },
  {
   "cell_type": "code",
   "execution_count": 147,
   "metadata": {},
   "outputs": [],
   "source": [
    "from random import seed #seed and randint are module"
   ]
  },
  {
   "cell_type": "code",
   "execution_count": 148,
   "metadata": {},
   "outputs": [],
   "source": [
    "from random import randint #random is class"
   ]
  },
  {
   "cell_type": "code",
   "execution_count": 149,
   "metadata": {},
   "outputs": [],
   "source": [
    "seed(1)"
   ]
  },
  {
   "cell_type": "code",
   "execution_count": 150,
   "metadata": {},
   "outputs": [
    {
     "name": "stdout",
     "output_type": "stream",
     "text": [
      "[18, 73, 98, 9, 33, 16, 64, 98, 58, 61, 84, 49]\n"
     ]
    }
   ],
   "source": [
    "value=[]             \n",
    "for _ in range(12):\n",
    "    value.append(randint(1,100))  #append() is add a function to value which is a list\n",
    "print(value)"
   ]
  },
  {
   "cell_type": "code",
   "execution_count": 153,
   "metadata": {},
   "outputs": [
    {
     "data": {
      "text/plain": [
       "[9, 16, 18, 33, 49, 58, 61, 64, 73, 84, 98, 98]"
      ]
     },
     "execution_count": 153,
     "metadata": {},
     "output_type": "execute_result"
    }
   ],
   "source": [
    "sorted(value,key=int)  #ascending"
   ]
  },
  {
   "cell_type": "code",
   "execution_count": 154,
   "metadata": {},
   "outputs": [
    {
     "data": {
      "text/plain": [
       "[98, 98, 84, 73, 64, 61, 58, 49, 33, 18, 16, 9]"
      ]
     },
     "execution_count": 154,
     "metadata": {},
     "output_type": "execute_result"
    }
   ],
   "source": [
    "sorted(value,key=int,reverse=True)  #discending"
   ]
  },
  {
   "cell_type": "code",
   "execution_count": 155,
   "metadata": {},
   "outputs": [],
   "source": [
    "def average(t):\n",
    "    return sum(t)/len(t)    "
   ]
  },
  {
   "cell_type": "code",
   "execution_count": 156,
   "metadata": {},
   "outputs": [],
   "source": [
    "t=value"
   ]
  },
  {
   "cell_type": "code",
   "execution_count": 157,
   "metadata": {},
   "outputs": [
    {
     "data": {
      "text/plain": [
       "55.083333333333336"
      ]
     },
     "execution_count": 157,
     "metadata": {},
     "output_type": "execute_result"
    }
   ],
   "source": [
    "average(t)"
   ]
  },
  {
   "attachments": {
    "Screen%20Shot%202019-01-25%20at%2012.51.56%20AM.png": {
     "image/png": "[encoded data removed]"
    }
   },
   "cell_type": "markdown",
   "metadata": {},
   "source": [
    "Question 4. (20 points). The formula that describes the volume V of a sphere with radius r is the following:\n",
    "![Screen%20Shot%202019-01-25%20at%2012.51.56%20AM.png](attachment:Screen%20Shot%202019-01-25%20at%2012.51.56%20AM.png)\n",
    "Write a program to calculate the value of V when r is in the range of 1– 10. Output the result in the following format:\n",
    "r  V \n",
    "1... \n",
    "2... \n",
    "3..."
   ]
  },
  {
   "cell_type": "code",
   "execution_count": 16,
   "metadata": {},
   "outputs": [],
   "source": [
    "import math"
   ]
  },
  {
   "cell_type": "code",
   "execution_count": 22,
   "metadata": {},
   "outputs": [
    {
     "name": "stdout",
     "output_type": "stream",
     "text": [
      "r   V\n",
      "1   4.1887902047863905\n",
      "2   33.510321638291124\n",
      "3   113.09733552923254\n",
      "4   268.082573106329\n",
      "5   523.5987755982989\n",
      "6   904.7786842338603\n",
      "7   1436.7550402417319\n",
      "8   2144.660584850632\n",
      "9   3053.6280592892786\n",
      "10   4188.790204786391\n"
     ]
    }
   ],
   "source": [
    "onetoten = range (1,11)\n",
    "print('r  ', 'V')\n",
    "for r in onetoten:\n",
    "    V = (4/3)*math.pi*(r**3)\n",
    "    print (r, ' ', V)"
   ]
  },
  {
   "cell_type": "markdown",
   "metadata": {},
   "source": [
    "Question 5. (25 points). Write a program that will do the following string formatting tasks:"
   ]
  },
  {
   "cell_type": "markdown",
   "metadata": {},
   "source": [
    "5.1 Ask the user to enter two sentences:"
   ]
  },
  {
   "cell_type": "code",
   "execution_count": 73,
   "metadata": {},
   "outputs": [],
   "source": [
    "sentence1='I am taking INFO 5731 this semember.'\n",
    "sentence2='I am learning Python in this class, INFO 5731.'"
   ]
  },
  {
   "cell_type": "markdown",
   "metadata": {},
   "source": [
    "5.2 Make each sentence into a list. Each element in the list should correspond to\n",
    "a word in the sentence. For example, if the sentence is \"Alas! Am I alive? This is my first python program\", the program should print out ['Alas!', 'Am', 'I', 'alive?', 'This', 'is', 'my', 'first', 'python', 'program'] or ['Alas, '!', 'Am', 'I', 'alive, '?', 'This', 'is', 'my', 'first', 'python', 'program']"
   ]
  },
  {
   "cell_type": "code",
   "execution_count": 74,
   "metadata": {},
   "outputs": [],
   "source": [
    "s1=sentence1.split()\n",
    "s2=sentence2.split()"
   ]
  },
  {
   "cell_type": "code",
   "execution_count": 75,
   "metadata": {},
   "outputs": [
    {
     "name": "stdout",
     "output_type": "stream",
     "text": [
      "['I', 'am', 'taking', 'INFO', '5731', 'this', 'semember.']\n",
      "['I', 'am', 'learning', 'Python', 'in', 'this', 'class,', 'INFO', '5731.']\n"
     ]
    }
   ],
   "source": [
    "print(s1)\n",
    "print(s2)"
   ]
  },
  {
   "cell_type": "markdown",
   "metadata": {},
   "source": [
    "5.3 Compare the two sentences. Print out a list of words that occur in both sentences."
   ]
  },
  {
   "cell_type": "code",
   "execution_count": 76,
   "metadata": {},
   "outputs": [
    {
     "name": "stdout",
     "output_type": "stream",
     "text": [
      "['I', 'am', 'INFO', 'this']\n"
     ]
    }
   ],
   "source": [
    "list3=[]\n",
    "for i in s1:\n",
    "    for j in s2:\n",
    "        if i==j:\n",
    "            list3.append(i)\n",
    "print(list3)"
   ]
  },
  {
   "cell_type": "markdown",
   "metadata": {},
   "source": [
    "5.4 Remove any punctuation from the sentence and print it back out. It should remove at least the following characters, but it can remove more: period(“.”), comma (“,”), semicolon (“;”), and colon (“:”)"
   ]
  },
  {
   "cell_type": "code",
   "execution_count": 85,
   "metadata": {},
   "outputs": [],
   "source": [
    "def stripPunc(sentence):\n",
    "    punclist=['.',',',':',';','!']\n",
    "    s_new = ''\n",
    "    for letter in sentence:\n",
    "        if letter in punclist:\n",
    "            s_new += ' '\n",
    "            print(letter)\n",
    "        else:\n",
    "            s_new += letter\n",
    "    print(s_new)"
   ]
  },
  {
   "cell_type": "code",
   "execution_count": 84,
   "metadata": {},
   "outputs": [
    {
     "name": "stdout",
     "output_type": "stream",
     "text": [
      ".\n",
      "I am taking INFO 5731 this semember \n",
      ",\n",
      ".\n",
      "I am learning Python in this class  INFO 5731 \n"
     ]
    }
   ],
   "source": [
    "stripPunc(sentence1)\n",
    "stripPunc(sentence2)"
   ]
  },
  {
   "cell_type": "markdown",
   "metadata": {},
   "source": [
    "5.5 Count the number of vowels in the sentences. Print out each vowel and the number of times it appears in the sentences, such as: a:2, e:1, i:0, etc."
   ]
  },
  {
   "cell_type": "code",
   "execution_count": 103,
   "metadata": {},
   "outputs": [],
   "source": [
    "def count_vowels(s):\n",
    "    vowels= {'a':0, 'e': 0, 'i': 0, 'o': 0, 'u': 0}\n",
    "    for letter in s:\n",
    "        if letter in vowels:\n",
    "            vowels[letter] += 1\n",
    "    for key in vowels:\n",
    "        print(key, ':', vowels[key])"
   ]
  },
  {
   "cell_type": "code",
   "execution_count": 105,
   "metadata": {},
   "outputs": [
    {
     "name": "stdout",
     "output_type": "stream",
     "text": [
      "a : 2\n",
      "e : 3\n",
      "i : 2\n",
      "o : 0\n",
      "u : 0\n",
      "a : 3\n",
      "e : 1\n",
      "i : 3\n",
      "o : 1\n",
      "u : 0\n"
     ]
    }
   ],
   "source": [
    "count_vowels(sentence1)\n",
    "count_vowels(sentence2)"
   ]
  },
  {
   "cell_type": "code",
   "execution_count": null,
   "metadata": {},
   "outputs": [],
   "source": []
  }
 ],
 "metadata": {
  "kernelspec": {
   "display_name": "Python 3",
   "language": "python",
   "name": "python3"
  },
  "language_info": {
   "codemirror_mode": {
    "name": "ipython",
    "version": 3
   },
   "file_extension": ".py",
   "mimetype": "text/x-python",
   "name": "python",
   "nbconvert_exporter": "python",
   "pygments_lexer": "ipython3",
   "version": "3.7.1"
  }
 },
 "nbformat": 4,
 "nbformat_minor": 2
}
