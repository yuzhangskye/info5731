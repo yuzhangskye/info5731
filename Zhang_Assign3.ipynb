{
  "nbformat": 4,
  "nbformat_minor": 0,
  "metadata": {
    "colab": {
      "name": "Zhang_Assign3.ipynb",
      "version": "0.3.2",
      "provenance": [],
      "collapsed_sections": []
    },
    "kernelspec": {
      "name": "python3",
      "display_name": "Python 3"
    }
  },
  "cells": [
    {
      "metadata": {
        "id": "9GLEkynozH-d",
        "colab_type": "text"
      },
      "cell_type": "markdown",
      "source": [
        "# Assignment 3\n",
        "\n",
        "In this assignment, you will try to gather information from open data via API and visualize them.\n",
        "\n",
        "We will use the API from wikipedia as an example.\n",
        "\n",
        "Please go to [this web page](https://wikitech.wikimedia.org/wiki/Analytics/AQS/Pageviews), to learn how to get Pageviews of a certain wikipedia page.\n",
        "\n",
        "![](https://github.com/wshuyi/github_pub_img/raw/master/assets/2019-02-13-10-57-35-202134.png)\n",
        "\n",
        "As you can see here, to get a pageview count timeseries of en.wikipedia's article \"[Albert Enstein](https://en.wikipedia.org/wiki/Albert_Einstein)\" for the month of October 2015, you can use the following url with a \"GET\" method.\n",
        "\n",
        "[https://wikimedia.org/api/rest\\_v1/metrics/pageviews/per-article/en.wikipedia/all-access/all-agents/Albert\\_Einstein/daily/2015100100/2015103100](https://wikimedia.org/api/rest_v1/metrics/pageviews/per-article/en.wikipedia/all-access/all-agents/Albert_Einstein/daily/2015100100/2015103100)\n",
        "\n",
        "Your task, is to get Pageviews count timeseries of en.wikipedia's article \"[University of North Texas](https://en.wikipedia.org/wiki/University_of_North_Texas)\" for the month of January 2019.\n",
        "\n",
        "\n",
        "![](https://github.com/wshuyi/github_pub_img/raw/master/assets/2019-02-13-10-57-35-210502.png)\n",
        "\n",
        "Please answer the following questions by putting your code in the corresponding chunks. You can create new code or text chunks if necessary.\n",
        "\n"
      ]
    },
    {
      "metadata": {
        "id": "ySIA8u72zPIc",
        "colab_type": "text"
      },
      "cell_type": "markdown",
      "source": [
        "**Question 1. (20 points)** Make the corresponding url to gather the required data, and save it into a variable called 'url'.\n",
        "\n"
      ]
    },
    {
      "metadata": {
        "id": "MOZsfU6LSzF5",
        "colab_type": "code",
        "colab": {}
      },
      "cell_type": "code",
      "source": [
        "import requests"
      ],
      "execution_count": 0,
      "outputs": []
    },
    {
      "metadata": {
        "id": "niayDJOnS6mD",
        "colab_type": "code",
        "colab": {}
      },
      "cell_type": "code",
      "source": [
        "url=requests.get('https://wikimedia.org/api/rest_v1/metrics/pageviews/per-article/en.wikipedia/all-access/all-agents/University_of_North_Texas/daily/2019010100/2019013100')"
      ],
      "execution_count": 0,
      "outputs": []
    },
    {
      "metadata": {
        "id": "14qN7MheVCC2",
        "colab_type": "code",
        "colab": {
          "base_uri": "https://localhost:8080/",
          "height": 74
        },
        "outputId": "5a7db27e-0634-47f9-c694-498682bf1a86"
      },
      "cell_type": "code",
      "source": [
        "url.content"
      ],
      "execution_count": 113,
      "outputs": [
        {
          "output_type": "execute_result",
          "data": {
            "text/plain": [
              "b'{\"items\":[{\"project\":\"en.wikipedia\",\"article\":\"University_of_North_Texas\",\"granularity\":\"daily\",\"timestamp\":\"2019010100\",\"access\":\"all-access\",\"agent\":\"all-agents\",\"views\":732},{\"project\":\"en.wikipedia\",\"article\":\"University_of_North_Texas\",\"granularity\":\"daily\",\"timestamp\":\"2019010200\",\"access\":\"all-access\",\"agent\":\"all-agents\",\"views\":834},{\"project\":\"en.wikipedia\",\"article\":\"University_of_North_Texas\",\"granularity\":\"daily\",\"timestamp\":\"2019010300\",\"access\":\"all-access\",\"agent\":\"all-agents\",\"views\":821},{\"project\":\"en.wikipedia\",\"article\":\"University_of_North_Texas\",\"granularity\":\"daily\",\"timestamp\":\"2019010400\",\"access\":\"all-access\",\"agent\":\"all-agents\",\"views\":719},{\"project\":\"en.wikipedia\",\"article\":\"University_of_North_Texas\",\"granularity\":\"daily\",\"timestamp\":\"2019010500\",\"access\":\"all-access\",\"agent\":\"all-agents\",\"views\":672},{\"project\":\"en.wikipedia\",\"article\":\"University_of_North_Texas\",\"granularity\":\"daily\",\"timestamp\":\"2019010600\",\"access\":\"all-access\",\"agent\":\"all-agents\",\"views\":676},{\"project\":\"en.wikipedia\",\"article\":\"University_of_North_Texas\",\"granularity\":\"daily\",\"timestamp\":\"2019010700\",\"access\":\"all-access\",\"agent\":\"all-agents\",\"views\":632},{\"project\":\"en.wikipedia\",\"article\":\"University_of_North_Texas\",\"granularity\":\"daily\",\"timestamp\":\"2019010800\",\"access\":\"all-access\",\"agent\":\"all-agents\",\"views\":788},{\"project\":\"en.wikipedia\",\"article\":\"University_of_North_Texas\",\"granularity\":\"daily\",\"timestamp\":\"2019010900\",\"access\":\"all-access\",\"agent\":\"all-agents\",\"views\":712},{\"project\":\"en.wikipedia\",\"article\":\"University_of_North_Texas\",\"granularity\":\"daily\",\"timestamp\":\"2019011000\",\"access\":\"all-access\",\"agent\":\"all-agents\",\"views\":673},{\"project\":\"en.wikipedia\",\"article\":\"University_of_North_Texas\",\"granularity\":\"daily\",\"timestamp\":\"2019011100\",\"access\":\"all-access\",\"agent\":\"all-agents\",\"views\":784},{\"project\":\"en.wikipedia\",\"article\":\"University_of_North_Texas\",\"granularity\":\"daily\",\"timestamp\":\"2019011200\",\"access\":\"all-access\",\"agent\":\"all-agents\",\"views\":663},{\"project\":\"en.wikipedia\",\"article\":\"University_of_North_Texas\",\"granularity\":\"daily\",\"timestamp\":\"2019011300\",\"access\":\"all-access\",\"agent\":\"all-agents\",\"views\":685},{\"project\":\"en.wikipedia\",\"article\":\"University_of_North_Texas\",\"granularity\":\"daily\",\"timestamp\":\"2019011400\",\"access\":\"all-access\",\"agent\":\"all-agents\",\"views\":752},{\"project\":\"en.wikipedia\",\"article\":\"University_of_North_Texas\",\"granularity\":\"daily\",\"timestamp\":\"2019011500\",\"access\":\"all-access\",\"agent\":\"all-agents\",\"views\":731},{\"project\":\"en.wikipedia\",\"article\":\"University_of_North_Texas\",\"granularity\":\"daily\",\"timestamp\":\"2019011600\",\"access\":\"all-access\",\"agent\":\"all-agents\",\"views\":779},{\"project\":\"en.wikipedia\",\"article\":\"University_of_North_Texas\",\"granularity\":\"daily\",\"timestamp\":\"2019011700\",\"access\":\"all-access\",\"agent\":\"all-agents\",\"views\":779},{\"project\":\"en.wikipedia\",\"article\":\"University_of_North_Texas\",\"granularity\":\"daily\",\"timestamp\":\"2019011800\",\"access\":\"all-access\",\"agent\":\"all-agents\",\"views\":616},{\"project\":\"en.wikipedia\",\"article\":\"University_of_North_Texas\",\"granularity\":\"daily\",\"timestamp\":\"2019011900\",\"access\":\"all-access\",\"agent\":\"all-agents\",\"views\":502},{\"project\":\"en.wikipedia\",\"article\":\"University_of_North_Texas\",\"granularity\":\"daily\",\"timestamp\":\"2019012000\",\"access\":\"all-access\",\"agent\":\"all-agents\",\"views\":487},{\"project\":\"en.wikipedia\",\"article\":\"University_of_North_Texas\",\"granularity\":\"daily\",\"timestamp\":\"2019012100\",\"access\":\"all-access\",\"agent\":\"all-agents\",\"views\":505},{\"project\":\"en.wikipedia\",\"article\":\"University_of_North_Texas\",\"granularity\":\"daily\",\"timestamp\":\"2019012200\",\"access\":\"all-access\",\"agent\":\"all-agents\",\"views\":567},{\"project\":\"en.wikipedia\",\"article\":\"University_of_North_Texas\",\"granularity\":\"daily\",\"timestamp\":\"2019012300\",\"access\":\"all-access\",\"agent\":\"all-agents\",\"views\":537},{\"project\":\"en.wikipedia\",\"article\":\"University_of_North_Texas\",\"granularity\":\"daily\",\"timestamp\":\"2019012400\",\"access\":\"all-access\",\"agent\":\"all-agents\",\"views\":504},{\"project\":\"en.wikipedia\",\"article\":\"University_of_North_Texas\",\"granularity\":\"daily\",\"timestamp\":\"2019012500\",\"access\":\"all-access\",\"agent\":\"all-agents\",\"views\":574},{\"project\":\"en.wikipedia\",\"article\":\"University_of_North_Texas\",\"granularity\":\"daily\",\"timestamp\":\"2019012600\",\"access\":\"all-access\",\"agent\":\"all-agents\",\"views\":430},{\"project\":\"en.wikipedia\",\"article\":\"University_of_North_Texas\",\"granularity\":\"daily\",\"timestamp\":\"2019012700\",\"access\":\"all-access\",\"agent\":\"all-agents\",\"views\":412},{\"project\":\"en.wikipedia\",\"article\":\"University_of_North_Texas\",\"granularity\":\"daily\",\"timestamp\":\"2019012800\",\"access\":\"all-access\",\"agent\":\"all-agents\",\"views\":486},{\"project\":\"en.wikipedia\",\"article\":\"University_of_North_Texas\",\"granularity\":\"daily\",\"timestamp\":\"2019012900\",\"access\":\"all-access\",\"agent\":\"all-agents\",\"views\":605},{\"project\":\"en.wikipedia\",\"article\":\"University_of_North_Texas\",\"granularity\":\"daily\",\"timestamp\":\"2019013000\",\"access\":\"all-access\",\"agent\":\"all-agents\",\"views\":515},{\"project\":\"en.wikipedia\",\"article\":\"University_of_North_Texas\",\"granularity\":\"daily\",\"timestamp\":\"2019013100\",\"access\":\"all-access\",\"agent\":\"all-agents\",\"views\":489}]}'"
            ]
          },
          "metadata": {
            "tags": []
          },
          "execution_count": 113
        }
      ]
    },
    {
      "metadata": {
        "id": "9dQcHDnvzR_m",
        "colab_type": "text"
      },
      "cell_type": "markdown",
      "source": [
        "**Question 2. (20 points)** Call the API by using the url you created in Question 1, and print out the JSON data. (If you are not familiar with JSON format, please follow [this link](https://en.wikipedia.org/wiki/JSON). Also, you can visit [this link](https://www.w3schools.com/python/python_json.asp) to know how to operate on JSON data with Python. )\n",
        "\n",
        "![](https://github.com/wshuyi/github_pub_img/raw/master/assets/2019-02-13-10-57-35-196474.png)\n",
        "\n"
      ]
    },
    {
      "metadata": {
        "id": "UwObkLeozTxU",
        "colab_type": "code",
        "colab": {}
      },
      "cell_type": "code",
      "source": [
        "import json"
      ],
      "execution_count": 0,
      "outputs": []
    },
    {
      "metadata": {
        "id": "xktQrL464tWV",
        "colab_type": "code",
        "colab": {}
      },
      "cell_type": "code",
      "source": [
        "url_content=json.loads(url.content)"
      ],
      "execution_count": 0,
      "outputs": []
    },
    {
      "metadata": {
        "id": "Jw2s9ZbS5FTH",
        "colab_type": "code",
        "colab": {
          "base_uri": "https://localhost:8080/",
          "height": 3706
        },
        "outputId": "95534b18-4751-41f0-95c6-0b991097eccf"
      },
      "cell_type": "code",
      "source": [
        "url_content"
      ],
      "execution_count": 122,
      "outputs": [
        {
          "output_type": "execute_result",
          "data": {
            "text/plain": [
              "{'items': [{'access': 'all-access',\n",
              "   'agent': 'all-agents',\n",
              "   'article': 'University_of_North_Texas',\n",
              "   'granularity': 'daily',\n",
              "   'project': 'en.wikipedia',\n",
              "   'timestamp': '2019010100',\n",
              "   'views': 732},\n",
              "  {'access': 'all-access',\n",
              "   'agent': 'all-agents',\n",
              "   'article': 'University_of_North_Texas',\n",
              "   'granularity': 'daily',\n",
              "   'project': 'en.wikipedia',\n",
              "   'timestamp': '2019010200',\n",
              "   'views': 834},\n",
              "  {'access': 'all-access',\n",
              "   'agent': 'all-agents',\n",
              "   'article': 'University_of_North_Texas',\n",
              "   'granularity': 'daily',\n",
              "   'project': 'en.wikipedia',\n",
              "   'timestamp': '2019010300',\n",
              "   'views': 821},\n",
              "  {'access': 'all-access',\n",
              "   'agent': 'all-agents',\n",
              "   'article': 'University_of_North_Texas',\n",
              "   'granularity': 'daily',\n",
              "   'project': 'en.wikipedia',\n",
              "   'timestamp': '2019010400',\n",
              "   'views': 719},\n",
              "  {'access': 'all-access',\n",
              "   'agent': 'all-agents',\n",
              "   'article': 'University_of_North_Texas',\n",
              "   'granularity': 'daily',\n",
              "   'project': 'en.wikipedia',\n",
              "   'timestamp': '2019010500',\n",
              "   'views': 672},\n",
              "  {'access': 'all-access',\n",
              "   'agent': 'all-agents',\n",
              "   'article': 'University_of_North_Texas',\n",
              "   'granularity': 'daily',\n",
              "   'project': 'en.wikipedia',\n",
              "   'timestamp': '2019010600',\n",
              "   'views': 676},\n",
              "  {'access': 'all-access',\n",
              "   'agent': 'all-agents',\n",
              "   'article': 'University_of_North_Texas',\n",
              "   'granularity': 'daily',\n",
              "   'project': 'en.wikipedia',\n",
              "   'timestamp': '2019010700',\n",
              "   'views': 632},\n",
              "  {'access': 'all-access',\n",
              "   'agent': 'all-agents',\n",
              "   'article': 'University_of_North_Texas',\n",
              "   'granularity': 'daily',\n",
              "   'project': 'en.wikipedia',\n",
              "   'timestamp': '2019010800',\n",
              "   'views': 788},\n",
              "  {'access': 'all-access',\n",
              "   'agent': 'all-agents',\n",
              "   'article': 'University_of_North_Texas',\n",
              "   'granularity': 'daily',\n",
              "   'project': 'en.wikipedia',\n",
              "   'timestamp': '2019010900',\n",
              "   'views': 712},\n",
              "  {'access': 'all-access',\n",
              "   'agent': 'all-agents',\n",
              "   'article': 'University_of_North_Texas',\n",
              "   'granularity': 'daily',\n",
              "   'project': 'en.wikipedia',\n",
              "   'timestamp': '2019011000',\n",
              "   'views': 673},\n",
              "  {'access': 'all-access',\n",
              "   'agent': 'all-agents',\n",
              "   'article': 'University_of_North_Texas',\n",
              "   'granularity': 'daily',\n",
              "   'project': 'en.wikipedia',\n",
              "   'timestamp': '2019011100',\n",
              "   'views': 784},\n",
              "  {'access': 'all-access',\n",
              "   'agent': 'all-agents',\n",
              "   'article': 'University_of_North_Texas',\n",
              "   'granularity': 'daily',\n",
              "   'project': 'en.wikipedia',\n",
              "   'timestamp': '2019011200',\n",
              "   'views': 663},\n",
              "  {'access': 'all-access',\n",
              "   'agent': 'all-agents',\n",
              "   'article': 'University_of_North_Texas',\n",
              "   'granularity': 'daily',\n",
              "   'project': 'en.wikipedia',\n",
              "   'timestamp': '2019011300',\n",
              "   'views': 685},\n",
              "  {'access': 'all-access',\n",
              "   'agent': 'all-agents',\n",
              "   'article': 'University_of_North_Texas',\n",
              "   'granularity': 'daily',\n",
              "   'project': 'en.wikipedia',\n",
              "   'timestamp': '2019011400',\n",
              "   'views': 752},\n",
              "  {'access': 'all-access',\n",
              "   'agent': 'all-agents',\n",
              "   'article': 'University_of_North_Texas',\n",
              "   'granularity': 'daily',\n",
              "   'project': 'en.wikipedia',\n",
              "   'timestamp': '2019011500',\n",
              "   'views': 731},\n",
              "  {'access': 'all-access',\n",
              "   'agent': 'all-agents',\n",
              "   'article': 'University_of_North_Texas',\n",
              "   'granularity': 'daily',\n",
              "   'project': 'en.wikipedia',\n",
              "   'timestamp': '2019011600',\n",
              "   'views': 779},\n",
              "  {'access': 'all-access',\n",
              "   'agent': 'all-agents',\n",
              "   'article': 'University_of_North_Texas',\n",
              "   'granularity': 'daily',\n",
              "   'project': 'en.wikipedia',\n",
              "   'timestamp': '2019011700',\n",
              "   'views': 779},\n",
              "  {'access': 'all-access',\n",
              "   'agent': 'all-agents',\n",
              "   'article': 'University_of_North_Texas',\n",
              "   'granularity': 'daily',\n",
              "   'project': 'en.wikipedia',\n",
              "   'timestamp': '2019011800',\n",
              "   'views': 616},\n",
              "  {'access': 'all-access',\n",
              "   'agent': 'all-agents',\n",
              "   'article': 'University_of_North_Texas',\n",
              "   'granularity': 'daily',\n",
              "   'project': 'en.wikipedia',\n",
              "   'timestamp': '2019011900',\n",
              "   'views': 502},\n",
              "  {'access': 'all-access',\n",
              "   'agent': 'all-agents',\n",
              "   'article': 'University_of_North_Texas',\n",
              "   'granularity': 'daily',\n",
              "   'project': 'en.wikipedia',\n",
              "   'timestamp': '2019012000',\n",
              "   'views': 487},\n",
              "  {'access': 'all-access',\n",
              "   'agent': 'all-agents',\n",
              "   'article': 'University_of_North_Texas',\n",
              "   'granularity': 'daily',\n",
              "   'project': 'en.wikipedia',\n",
              "   'timestamp': '2019012100',\n",
              "   'views': 505},\n",
              "  {'access': 'all-access',\n",
              "   'agent': 'all-agents',\n",
              "   'article': 'University_of_North_Texas',\n",
              "   'granularity': 'daily',\n",
              "   'project': 'en.wikipedia',\n",
              "   'timestamp': '2019012200',\n",
              "   'views': 567},\n",
              "  {'access': 'all-access',\n",
              "   'agent': 'all-agents',\n",
              "   'article': 'University_of_North_Texas',\n",
              "   'granularity': 'daily',\n",
              "   'project': 'en.wikipedia',\n",
              "   'timestamp': '2019012300',\n",
              "   'views': 537},\n",
              "  {'access': 'all-access',\n",
              "   'agent': 'all-agents',\n",
              "   'article': 'University_of_North_Texas',\n",
              "   'granularity': 'daily',\n",
              "   'project': 'en.wikipedia',\n",
              "   'timestamp': '2019012400',\n",
              "   'views': 504},\n",
              "  {'access': 'all-access',\n",
              "   'agent': 'all-agents',\n",
              "   'article': 'University_of_North_Texas',\n",
              "   'granularity': 'daily',\n",
              "   'project': 'en.wikipedia',\n",
              "   'timestamp': '2019012500',\n",
              "   'views': 574},\n",
              "  {'access': 'all-access',\n",
              "   'agent': 'all-agents',\n",
              "   'article': 'University_of_North_Texas',\n",
              "   'granularity': 'daily',\n",
              "   'project': 'en.wikipedia',\n",
              "   'timestamp': '2019012600',\n",
              "   'views': 430},\n",
              "  {'access': 'all-access',\n",
              "   'agent': 'all-agents',\n",
              "   'article': 'University_of_North_Texas',\n",
              "   'granularity': 'daily',\n",
              "   'project': 'en.wikipedia',\n",
              "   'timestamp': '2019012700',\n",
              "   'views': 412},\n",
              "  {'access': 'all-access',\n",
              "   'agent': 'all-agents',\n",
              "   'article': 'University_of_North_Texas',\n",
              "   'granularity': 'daily',\n",
              "   'project': 'en.wikipedia',\n",
              "   'timestamp': '2019012800',\n",
              "   'views': 486},\n",
              "  {'access': 'all-access',\n",
              "   'agent': 'all-agents',\n",
              "   'article': 'University_of_North_Texas',\n",
              "   'granularity': 'daily',\n",
              "   'project': 'en.wikipedia',\n",
              "   'timestamp': '2019012900',\n",
              "   'views': 605},\n",
              "  {'access': 'all-access',\n",
              "   'agent': 'all-agents',\n",
              "   'article': 'University_of_North_Texas',\n",
              "   'granularity': 'daily',\n",
              "   'project': 'en.wikipedia',\n",
              "   'timestamp': '2019013000',\n",
              "   'views': 515},\n",
              "  {'access': 'all-access',\n",
              "   'agent': 'all-agents',\n",
              "   'article': 'University_of_North_Texas',\n",
              "   'granularity': 'daily',\n",
              "   'project': 'en.wikipedia',\n",
              "   'timestamp': '2019013100',\n",
              "   'views': 489}]}"
            ]
          },
          "metadata": {
            "tags": []
          },
          "execution_count": 122
        }
      ]
    },
    {
      "metadata": {
        "id": "OA2RQ9QhVd4i",
        "colab_type": "code",
        "colab": {
          "base_uri": "https://localhost:8080/",
          "height": 34
        },
        "outputId": "e90fbda1-3808-4f86-b4e8-123a0b9fa09f"
      },
      "cell_type": "code",
      "source": [
        "type(url_content)"
      ],
      "execution_count": 123,
      "outputs": [
        {
          "output_type": "execute_result",
          "data": {
            "text/plain": [
              "dict"
            ]
          },
          "metadata": {
            "tags": []
          },
          "execution_count": 123
        }
      ]
    },
    {
      "metadata": {
        "id": "TNrhAwQLzVII",
        "colab_type": "text"
      },
      "cell_type": "markdown",
      "source": [
        "**Question 3. (20 points)** Load the JSON data into Pandas Dataframe, and show the first five rows.\n",
        "\n",
        "![](https://github.com/wshuyi/github_pub_img/raw/master/assets/2019-02-13-10-57-35-214261.png)\n",
        "\n"
      ]
    },
    {
      "metadata": {
        "id": "qhjPi60AMJ9H",
        "colab_type": "code",
        "colab": {}
      },
      "cell_type": "code",
      "source": [
        "import pandas as pd"
      ],
      "execution_count": 0,
      "outputs": []
    },
    {
      "metadata": {
        "id": "XftzqIxOWR6i",
        "colab_type": "code",
        "colab": {}
      },
      "cell_type": "code",
      "source": [
        "from pandas.io.json import json_normalize"
      ],
      "execution_count": 0,
      "outputs": []
    },
    {
      "metadata": {
        "id": "gn0vp4-2XXja",
        "colab_type": "code",
        "colab": {}
      },
      "cell_type": "code",
      "source": [
        "url_dataframe=json_normalize(url_content['items'])"
      ],
      "execution_count": 0,
      "outputs": []
    },
    {
      "metadata": {
        "id": "8whVzOdpY8cg",
        "colab_type": "code",
        "colab": {
          "base_uri": "https://localhost:8080/",
          "height": 204
        },
        "outputId": "00e3c2ee-05cd-41ba-9a8b-8687dd64f929"
      },
      "cell_type": "code",
      "source": [
        "url_dataframe.head()"
      ],
      "execution_count": 134,
      "outputs": [
        {
          "output_type": "execute_result",
          "data": {
            "text/html": [
              "<div>\n",
              "<style scoped>\n",
              "    .dataframe tbody tr th:only-of-type {\n",
              "        vertical-align: middle;\n",
              "    }\n",
              "\n",
              "    .dataframe tbody tr th {\n",
              "        vertical-align: top;\n",
              "    }\n",
              "\n",
              "    .dataframe thead th {\n",
              "        text-align: right;\n",
              "    }\n",
              "</style>\n",
              "<table border=\"1\" class=\"dataframe\">\n",
              "  <thead>\n",
              "    <tr style=\"text-align: right;\">\n",
              "      <th></th>\n",
              "      <th>access</th>\n",
              "      <th>agent</th>\n",
              "      <th>article</th>\n",
              "      <th>granularity</th>\n",
              "      <th>project</th>\n",
              "      <th>timestamp</th>\n",
              "      <th>views</th>\n",
              "    </tr>\n",
              "  </thead>\n",
              "  <tbody>\n",
              "    <tr>\n",
              "      <th>0</th>\n",
              "      <td>all-access</td>\n",
              "      <td>all-agents</td>\n",
              "      <td>University_of_North_Texas</td>\n",
              "      <td>daily</td>\n",
              "      <td>en.wikipedia</td>\n",
              "      <td>2019010100</td>\n",
              "      <td>732</td>\n",
              "    </tr>\n",
              "    <tr>\n",
              "      <th>1</th>\n",
              "      <td>all-access</td>\n",
              "      <td>all-agents</td>\n",
              "      <td>University_of_North_Texas</td>\n",
              "      <td>daily</td>\n",
              "      <td>en.wikipedia</td>\n",
              "      <td>2019010200</td>\n",
              "      <td>834</td>\n",
              "    </tr>\n",
              "    <tr>\n",
              "      <th>2</th>\n",
              "      <td>all-access</td>\n",
              "      <td>all-agents</td>\n",
              "      <td>University_of_North_Texas</td>\n",
              "      <td>daily</td>\n",
              "      <td>en.wikipedia</td>\n",
              "      <td>2019010300</td>\n",
              "      <td>821</td>\n",
              "    </tr>\n",
              "    <tr>\n",
              "      <th>3</th>\n",
              "      <td>all-access</td>\n",
              "      <td>all-agents</td>\n",
              "      <td>University_of_North_Texas</td>\n",
              "      <td>daily</td>\n",
              "      <td>en.wikipedia</td>\n",
              "      <td>2019010400</td>\n",
              "      <td>719</td>\n",
              "    </tr>\n",
              "    <tr>\n",
              "      <th>4</th>\n",
              "      <td>all-access</td>\n",
              "      <td>all-agents</td>\n",
              "      <td>University_of_North_Texas</td>\n",
              "      <td>daily</td>\n",
              "      <td>en.wikipedia</td>\n",
              "      <td>2019010500</td>\n",
              "      <td>672</td>\n",
              "    </tr>\n",
              "  </tbody>\n",
              "</table>\n",
              "</div>"
            ],
            "text/plain": [
              "       access       agent                    article granularity  \\\n",
              "0  all-access  all-agents  University_of_North_Texas       daily   \n",
              "1  all-access  all-agents  University_of_North_Texas       daily   \n",
              "2  all-access  all-agents  University_of_North_Texas       daily   \n",
              "3  all-access  all-agents  University_of_North_Texas       daily   \n",
              "4  all-access  all-agents  University_of_North_Texas       daily   \n",
              "\n",
              "        project   timestamp  views  \n",
              "0  en.wikipedia  2019010100    732  \n",
              "1  en.wikipedia  2019010200    834  \n",
              "2  en.wikipedia  2019010300    821  \n",
              "3  en.wikipedia  2019010400    719  \n",
              "4  en.wikipedia  2019010500    672  "
            ]
          },
          "metadata": {
            "tags": []
          },
          "execution_count": 134
        }
      ]
    },
    {
      "metadata": {
        "id": "qT1mjIAFzWs5",
        "colab_type": "text"
      },
      "cell_type": "markdown",
      "source": [
        "**Question 4. (20 points)** Figure out the max and min views and corresponding date.\n",
        "\n",
        "![](https://github.com/wshuyi/github_pub_img/raw/master/assets/2019-02-13-10-57-35-195410.png)\n",
        "\n",
        "![](https://github.com/wshuyi/github_pub_img/raw/master/assets/2019-02-13-10-57-35-197160.png)\n",
        "\n"
      ]
    },
    {
      "metadata": {
        "id": "92z6TdkxzX3p",
        "colab_type": "code",
        "colab": {
          "base_uri": "https://localhost:8080/",
          "height": 68
        },
        "outputId": "37f44506-e38c-44e8-b832-bb25dc59cbf8"
      },
      "cell_type": "code",
      "source": [
        "url_dataframe.loc[:,'timestamp':'views'].max()"
      ],
      "execution_count": 146,
      "outputs": [
        {
          "output_type": "execute_result",
          "data": {
            "text/plain": [
              "timestamp    2.019013e+09\n",
              "views        8.340000e+02\n",
              "dtype: float64"
            ]
          },
          "metadata": {
            "tags": []
          },
          "execution_count": 146
        }
      ]
    },
    {
      "metadata": {
        "id": "FmWzomEOZuHI",
        "colab_type": "code",
        "colab": {
          "base_uri": "https://localhost:8080/",
          "height": 68
        },
        "outputId": "68421c7f-15ee-4315-bbf3-d59fc7d84a93"
      },
      "cell_type": "code",
      "source": [
        "url_dataframe.loc[:,'timestamp':'views'].min()"
      ],
      "execution_count": 147,
      "outputs": [
        {
          "output_type": "execute_result",
          "data": {
            "text/plain": [
              "timestamp    2.019010e+09\n",
              "views        4.120000e+02\n",
              "dtype: float64"
            ]
          },
          "metadata": {
            "tags": []
          },
          "execution_count": 147
        }
      ]
    },
    {
      "metadata": {
        "id": "5YNmlvXkzYXC",
        "colab_type": "text"
      },
      "cell_type": "markdown",
      "source": [
        "**Question 5. (20 points)** Plot line chart of Pageviews for the whole month.\n",
        "\n",
        "![](https://github.com/wshuyi/github_pub_img/raw/master/assets/2019-02-13-10-57-35-197005.png)\n"
      ]
    },
    {
      "metadata": {
        "id": "IOiWG94psAu3",
        "colab_type": "code",
        "colab": {
          "base_uri": "https://localhost:8080/",
          "height": 221
        },
        "outputId": "f8bcbfc9-cdbc-4e25-a017-213a2f001613"
      },
      "cell_type": "code",
      "source": [
        "url_dataframe.info()"
      ],
      "execution_count": 153,
      "outputs": [
        {
          "output_type": "stream",
          "text": [
            "<class 'pandas.core.frame.DataFrame'>\n",
            "RangeIndex: 31 entries, 0 to 30\n",
            "Data columns (total 7 columns):\n",
            "access         31 non-null object\n",
            "agent          31 non-null object\n",
            "article        31 non-null object\n",
            "granularity    31 non-null object\n",
            "project        31 non-null object\n",
            "timestamp      31 non-null object\n",
            "views          31 non-null int64\n",
            "dtypes: int64(1), object(6)\n",
            "memory usage: 1.8+ KB\n"
          ],
          "name": "stdout"
        }
      ]
    },
    {
      "metadata": {
        "id": "w_SMnicQzY1Q",
        "colab_type": "code",
        "colab": {}
      },
      "cell_type": "code",
      "source": [
        "%matplotlib inline"
      ],
      "execution_count": 0,
      "outputs": []
    },
    {
      "metadata": {
        "id": "mqeUR1cvbHya",
        "colab_type": "code",
        "colab": {}
      },
      "cell_type": "code",
      "source": [
        "url_dataframe['date']=url_dataframe.views"
      ],
      "execution_count": 0,
      "outputs": []
    },
    {
      "metadata": {
        "id": "SCwDIRV7bn_w",
        "colab_type": "code",
        "colab": {
          "base_uri": "https://localhost:8080/",
          "height": 282
        },
        "outputId": "9af5e378-6879-41a6-a824-50a8810e9082"
      },
      "cell_type": "code",
      "source": [
        "url_dataframe.views.sort_index().plot()"
      ],
      "execution_count": 158,
      "outputs": [
        {
          "output_type": "execute_result",
          "data": {
            "text/plain": [
              "<matplotlib.axes._subplots.AxesSubplot at 0x7fc3f1d1b438>"
            ]
          },
          "metadata": {
            "tags": []
          },
          "execution_count": 158
        },
        {
          "output_type": "display_data",
          "data": {
            "image/png": "[encoded data removed]",
            "text/plain": [
              "<Figure size 432x288 with 1 Axes>"
            ]
          },
          "metadata": {
            "tags": []
          }
        }
      ]
    }
  ]
}