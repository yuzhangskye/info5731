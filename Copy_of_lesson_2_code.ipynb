{
  "nbformat": 4,
  "nbformat_minor": 0,
  "metadata": {
    "colab": {
      "name": "Copy of lesson-2-code.ipynb",
      "version": "0.3.2",
      "provenance": [],
      "include_colab_link": true
    },
    "kernelspec": {
      "display_name": "Python 3",
      "language": "python",
      "name": "python3"
    }
  },
  "cells": [
    {
      "cell_type": "markdown",
      "metadata": {
        "id": "view-in-github",
        "colab_type": "text"
      },
      "source": [
        "<a href=\"https://colab.research.google.com/github/yuzhangskye/info5731/blob/master/Copy_of_lesson_2_code.ipynb\" target=\"_parent\"><img src=\"https://colab.research.google.com/assets/colab-badge.svg\" alt=\"Open In Colab\"/></a>"
      ]
    },
    {
      "metadata": {
        "id": "cJ1_gM4Qeps2",
        "colab_type": "code",
        "colab": {}
      },
      "cell_type": "code",
      "source": [
        "message = 'And now for something completely different'\n",
        "n = 17\n",
        "pi = 3.141592653589793"
      ],
      "execution_count": 0,
      "outputs": []
    },
    {
      "metadata": {
        "id": "7VZ-Y9lAeps8",
        "colab_type": "code",
        "outputId": "7389d067-3022-408e-a793-fb3bbb15c396",
        "colab": {}
      },
      "cell_type": "code",
      "source": [
        "76trombones = 'big parade'\n"
      ],
      "execution_count": 0,
      "outputs": [
        {
          "output_type": "error",
          "ename": "SyntaxError",
          "evalue": "invalid syntax (<ipython-input-3-ee59a172c534>, line 1)",
          "traceback": [
            "\u001b[1;36m  File \u001b[1;32m\"<ipython-input-3-ee59a172c534>\"\u001b[1;36m, line \u001b[1;32m1\u001b[0m\n\u001b[1;33m    76trombones = 'big parade'\u001b[0m\n\u001b[1;37m              ^\u001b[0m\n\u001b[1;31mSyntaxError\u001b[0m\u001b[1;31m:\u001b[0m invalid syntax\n"
          ]
        }
      ]
    },
    {
      "metadata": {
        "id": "57X_i8YweptC",
        "colab_type": "code",
        "outputId": "70eda145-d8ab-4106-a29a-c82310a034c7",
        "colab": {}
      },
      "cell_type": "code",
      "source": [
        "more@ = 1000000"
      ],
      "execution_count": 0,
      "outputs": [
        {
          "output_type": "error",
          "ename": "FileNotFoundError",
          "evalue": "[Errno 2] No such file or directory: '@ = 1000000'",
          "traceback": [
            "\u001b[1;31m---------------------------------------------------------------------------\u001b[0m",
            "\u001b[1;31mFileNotFoundError\u001b[0m                         Traceback (most recent call last)",
            "\u001b[1;32m<ipython-input-4-874d58278958>\u001b[0m in \u001b[0;36m<module>\u001b[1;34m\u001b[0m\n\u001b[1;32m----> 1\u001b[1;33m \u001b[0mget_ipython\u001b[0m\u001b[1;33m(\u001b[0m\u001b[1;33m)\u001b[0m\u001b[1;33m.\u001b[0m\u001b[0mrun_line_magic\u001b[0m\u001b[1;33m(\u001b[0m\u001b[1;34m'more'\u001b[0m\u001b[1;33m,\u001b[0m \u001b[1;34m'@ = 1000000'\u001b[0m\u001b[1;33m)\u001b[0m\u001b[1;33m\u001b[0m\u001b[1;33m\u001b[0m\u001b[0m\n\u001b[0m",
            "\u001b[1;32mD:\\Anaconda\\lib\\site-packages\\IPython\\core\\interactiveshell.py\u001b[0m in \u001b[0;36mrun_line_magic\u001b[1;34m(self, magic_name, line, _stack_depth)\u001b[0m\n\u001b[0;32m   2285\u001b[0m                 \u001b[0mkwargs\u001b[0m\u001b[1;33m[\u001b[0m\u001b[1;34m'local_ns'\u001b[0m\u001b[1;33m]\u001b[0m \u001b[1;33m=\u001b[0m \u001b[0msys\u001b[0m\u001b[1;33m.\u001b[0m\u001b[0m_getframe\u001b[0m\u001b[1;33m(\u001b[0m\u001b[0mstack_depth\u001b[0m\u001b[1;33m)\u001b[0m\u001b[1;33m.\u001b[0m\u001b[0mf_locals\u001b[0m\u001b[1;33m\u001b[0m\u001b[1;33m\u001b[0m\u001b[0m\n\u001b[0;32m   2286\u001b[0m             \u001b[1;32mwith\u001b[0m \u001b[0mself\u001b[0m\u001b[1;33m.\u001b[0m\u001b[0mbuiltin_trap\u001b[0m\u001b[1;33m:\u001b[0m\u001b[1;33m\u001b[0m\u001b[1;33m\u001b[0m\u001b[0m\n\u001b[1;32m-> 2287\u001b[1;33m                 \u001b[0mresult\u001b[0m \u001b[1;33m=\u001b[0m \u001b[0mfn\u001b[0m\u001b[1;33m(\u001b[0m\u001b[1;33m*\u001b[0m\u001b[0margs\u001b[0m\u001b[1;33m,\u001b[0m\u001b[1;33m**\u001b[0m\u001b[0mkwargs\u001b[0m\u001b[1;33m)\u001b[0m\u001b[1;33m\u001b[0m\u001b[1;33m\u001b[0m\u001b[0m\n\u001b[0m\u001b[0;32m   2288\u001b[0m             \u001b[1;32mreturn\u001b[0m \u001b[0mresult\u001b[0m\u001b[1;33m\u001b[0m\u001b[1;33m\u001b[0m\u001b[0m\n\u001b[0;32m   2289\u001b[0m \u001b[1;33m\u001b[0m\u001b[0m\n",
            "\u001b[1;32m<decorator-gen-119>\u001b[0m in \u001b[0;36mless\u001b[1;34m(self, arg_s)\u001b[0m\n",
            "\u001b[1;32mD:\\Anaconda\\lib\\site-packages\\IPython\\core\\magic.py\u001b[0m in \u001b[0;36m<lambda>\u001b[1;34m(f, *a, **k)\u001b[0m\n\u001b[0;32m    185\u001b[0m     \u001b[1;31m# but it's overkill for just that one bit of state.\u001b[0m\u001b[1;33m\u001b[0m\u001b[1;33m\u001b[0m\u001b[1;33m\u001b[0m\u001b[0m\n\u001b[0;32m    186\u001b[0m     \u001b[1;32mdef\u001b[0m \u001b[0mmagic_deco\u001b[0m\u001b[1;33m(\u001b[0m\u001b[0marg\u001b[0m\u001b[1;33m)\u001b[0m\u001b[1;33m:\u001b[0m\u001b[1;33m\u001b[0m\u001b[1;33m\u001b[0m\u001b[0m\n\u001b[1;32m--> 187\u001b[1;33m         \u001b[0mcall\u001b[0m \u001b[1;33m=\u001b[0m \u001b[1;32mlambda\u001b[0m \u001b[0mf\u001b[0m\u001b[1;33m,\u001b[0m \u001b[1;33m*\u001b[0m\u001b[0ma\u001b[0m\u001b[1;33m,\u001b[0m \u001b[1;33m**\u001b[0m\u001b[0mk\u001b[0m\u001b[1;33m:\u001b[0m \u001b[0mf\u001b[0m\u001b[1;33m(\u001b[0m\u001b[1;33m*\u001b[0m\u001b[0ma\u001b[0m\u001b[1;33m,\u001b[0m \u001b[1;33m**\u001b[0m\u001b[0mk\u001b[0m\u001b[1;33m)\u001b[0m\u001b[1;33m\u001b[0m\u001b[1;33m\u001b[0m\u001b[0m\n\u001b[0m\u001b[0;32m    188\u001b[0m \u001b[1;33m\u001b[0m\u001b[0m\n\u001b[0;32m    189\u001b[0m         \u001b[1;32mif\u001b[0m \u001b[0mcallable\u001b[0m\u001b[1;33m(\u001b[0m\u001b[0marg\u001b[0m\u001b[1;33m)\u001b[0m\u001b[1;33m:\u001b[0m\u001b[1;33m\u001b[0m\u001b[1;33m\u001b[0m\u001b[0m\n",
            "\u001b[1;32mD:\\Anaconda\\lib\\site-packages\\ipykernel\\zmqshell.py\u001b[0m in \u001b[0;36mless\u001b[1;34m(self, arg_s)\u001b[0m\n\u001b[0;32m    340\u001b[0m             \u001b[0mcont\u001b[0m \u001b[1;33m=\u001b[0m \u001b[0mself\u001b[0m\u001b[1;33m.\u001b[0m\u001b[0mshell\u001b[0m\u001b[1;33m.\u001b[0m\u001b[0mpycolorize\u001b[0m\u001b[1;33m(\u001b[0m\u001b[0mopenpy\u001b[0m\u001b[1;33m.\u001b[0m\u001b[0mread_py_file\u001b[0m\u001b[1;33m(\u001b[0m\u001b[0marg_s\u001b[0m\u001b[1;33m,\u001b[0m \u001b[0mskip_encoding_cookie\u001b[0m\u001b[1;33m=\u001b[0m\u001b[1;32mFalse\u001b[0m\u001b[1;33m)\u001b[0m\u001b[1;33m)\u001b[0m\u001b[1;33m\u001b[0m\u001b[1;33m\u001b[0m\u001b[0m\n\u001b[0;32m    341\u001b[0m         \u001b[1;32melse\u001b[0m\u001b[1;33m:\u001b[0m\u001b[1;33m\u001b[0m\u001b[1;33m\u001b[0m\u001b[0m\n\u001b[1;32m--> 342\u001b[1;33m             \u001b[0mcont\u001b[0m \u001b[1;33m=\u001b[0m \u001b[0mopen\u001b[0m\u001b[1;33m(\u001b[0m\u001b[0marg_s\u001b[0m\u001b[1;33m)\u001b[0m\u001b[1;33m.\u001b[0m\u001b[0mread\u001b[0m\u001b[1;33m(\u001b[0m\u001b[1;33m)\u001b[0m\u001b[1;33m\u001b[0m\u001b[1;33m\u001b[0m\u001b[0m\n\u001b[0m\u001b[0;32m    343\u001b[0m         \u001b[0mpage\u001b[0m\u001b[1;33m.\u001b[0m\u001b[0mpage\u001b[0m\u001b[1;33m(\u001b[0m\u001b[0mcont\u001b[0m\u001b[1;33m)\u001b[0m\u001b[1;33m\u001b[0m\u001b[1;33m\u001b[0m\u001b[0m\n\u001b[0;32m    344\u001b[0m \u001b[1;33m\u001b[0m\u001b[0m\n",
            "\u001b[1;31mFileNotFoundError\u001b[0m: [Errno 2] No such file or directory: '@ = 1000000'"
          ]
        }
      ]
    },
    {
      "metadata": {
        "id": "7a_hE0zgeptG",
        "colab_type": "code",
        "outputId": "5af60760-a9c3-490e-bdfb-9c287864ae61",
        "colab": {}
      },
      "cell_type": "code",
      "source": [
        "class = 'Advanced Theoretical Zymurgy'"
      ],
      "execution_count": 0,
      "outputs": [
        {
          "output_type": "error",
          "ename": "SyntaxError",
          "evalue": "invalid syntax (<ipython-input-5-73fc4ce1a15a>, line 1)",
          "traceback": [
            "\u001b[1;36m  File \u001b[1;32m\"<ipython-input-5-73fc4ce1a15a>\"\u001b[1;36m, line \u001b[1;32m1\u001b[0m\n\u001b[1;33m    class = 'Advanced Theoretical Zymurgy'\u001b[0m\n\u001b[1;37m          ^\u001b[0m\n\u001b[1;31mSyntaxError\u001b[0m\u001b[1;31m:\u001b[0m invalid syntax\n"
          ]
        }
      ]
    },
    {
      "metadata": {
        "id": "U5NkAdebeptL",
        "colab_type": "code",
        "outputId": "856c7822-d9d8-4e93-804a-762d5640ec9f",
        "colab": {}
      },
      "cell_type": "code",
      "source": [
        "n=17\n",
        "print(n)"
      ],
      "execution_count": 0,
      "outputs": [
        {
          "output_type": "stream",
          "text": [
            "17\n"
          ],
          "name": "stdout"
        }
      ]
    },
    {
      "metadata": {
        "id": "ChxsBz5reptP",
        "colab_type": "code",
        "outputId": "e6b6c389-df6d-4d11-a535-1bae845e1225",
        "colab": {}
      },
      "cell_type": "code",
      "source": [
        "miles = 26.2\n",
        "print(miles * 1.61)"
      ],
      "execution_count": 0,
      "outputs": [
        {
          "output_type": "stream",
          "text": [
            "42.182\n"
          ],
          "name": "stdout"
        }
      ]
    },
    {
      "metadata": {
        "id": "3M8QNt7JeptT",
        "colab_type": "code",
        "outputId": "dc481fa5-4907-4fb8-fd94-1810e0d3af17",
        "colab": {}
      },
      "cell_type": "code",
      "source": [
        "print(1)\n",
        "x = 2\n",
        "print(x)"
      ],
      "execution_count": 0,
      "outputs": [
        {
          "output_type": "stream",
          "text": [
            "1\n",
            "2\n"
          ],
          "name": "stdout"
        }
      ]
    },
    {
      "metadata": {
        "id": "78418_NueptY",
        "colab_type": "code",
        "outputId": "537dd9fb-ac12-4f5b-fb0c-954f33e06443",
        "colab": {}
      },
      "cell_type": "code",
      "source": [
        "5\n",
        "x = 5\n",
        "x + 1"
      ],
      "execution_count": 0,
      "outputs": [
        {
          "output_type": "execute_result",
          "data": {
            "text/plain": [
              "6"
            ]
          },
          "metadata": {
            "tags": []
          },
          "execution_count": 9
        }
      ]
    },
    {
      "metadata": {
        "id": "9nA7JfKReptb",
        "colab_type": "code",
        "outputId": "2fa10222-9d73-4c6b-f8f7-8ece2a51a151",
        "colab": {}
      },
      "cell_type": "code",
      "source": [
        "(1+1)**(5-2)"
      ],
      "execution_count": 0,
      "outputs": [
        {
          "output_type": "execute_result",
          "data": {
            "text/plain": [
              "8"
            ]
          },
          "metadata": {
            "tags": []
          },
          "execution_count": 10
        }
      ]
    },
    {
      "metadata": {
        "id": "-PL5o34beptg",
        "colab_type": "code",
        "outputId": "fb8126b0-19d6-447e-a130-810c3f814cb9",
        "colab": {}
      },
      "cell_type": "code",
      "source": [
        "2*3**2"
      ],
      "execution_count": 0,
      "outputs": [
        {
          "output_type": "execute_result",
          "data": {
            "text/plain": [
              "18"
            ]
          },
          "metadata": {
            "tags": []
          },
          "execution_count": 12
        }
      ]
    },
    {
      "metadata": {
        "id": "JSSc2MWVeptk",
        "colab_type": "code",
        "outputId": "798f8113-0c44-41d7-a5f0-a7e8d3bdb88d",
        "colab": {}
      },
      "cell_type": "code",
      "source": [
        "first = 'throat'\n",
        "second = 'warbler'\n",
        "first + second"
      ],
      "execution_count": 0,
      "outputs": [
        {
          "output_type": "execute_result",
          "data": {
            "text/plain": [
              "'throatwarbler'"
            ]
          },
          "metadata": {
            "tags": []
          },
          "execution_count": 13
        }
      ]
    },
    {
      "metadata": {
        "id": "ofYHFwI4epto",
        "colab_type": "code",
        "outputId": "abf2fb58-b0c5-411f-c3cf-03c8829e2538",
        "colab": {}
      },
      "cell_type": "code",
      "source": [
        "# compute the percentage of the hour that has elapsed\n",
        "percentage = (minute * 100) / 60"
      ],
      "execution_count": 0,
      "outputs": [
        {
          "output_type": "error",
          "ename": "NameError",
          "evalue": "name 'minute' is not defined",
          "traceback": [
            "\u001b[1;31m---------------------------------------------------------------------------\u001b[0m",
            "\u001b[1;31mNameError\u001b[0m                                 Traceback (most recent call last)",
            "\u001b[1;32m<ipython-input-14-fbcc51eb866b>\u001b[0m in \u001b[0;36m<module>\u001b[1;34m\u001b[0m\n\u001b[0;32m      1\u001b[0m \u001b[1;31m# compute the percentage of the hour that has elapsed\u001b[0m\u001b[1;33m\u001b[0m\u001b[1;33m\u001b[0m\u001b[1;33m\u001b[0m\u001b[0m\n\u001b[1;32m----> 2\u001b[1;33m \u001b[0mpercentage\u001b[0m \u001b[1;33m=\u001b[0m \u001b[1;33m(\u001b[0m\u001b[0mminute\u001b[0m \u001b[1;33m*\u001b[0m \u001b[1;36m100\u001b[0m\u001b[1;33m)\u001b[0m \u001b[1;33m/\u001b[0m \u001b[1;36m60\u001b[0m\u001b[1;33m\u001b[0m\u001b[1;33m\u001b[0m\u001b[0m\n\u001b[0m",
            "\u001b[1;31mNameError\u001b[0m: name 'minute' is not defined"
          ]
        }
      ]
    },
    {
      "metadata": {
        "id": "RoCrT_HMeptt",
        "colab_type": "code",
        "colab": {}
      },
      "cell_type": "code",
      "source": [
        "v = 5 # assign 5 to v"
      ],
      "execution_count": 0,
      "outputs": []
    },
    {
      "metadata": {
        "id": "jcqjgfbHept0",
        "colab_type": "code",
        "outputId": "7cd8a043-d794-483a-8215-0bc62a8f5d40",
        "colab": {}
      },
      "cell_type": "code",
      "source": [
        "42 = n"
      ],
      "execution_count": 0,
      "outputs": [
        {
          "output_type": "error",
          "ename": "SyntaxError",
          "evalue": "can't assign to literal (<ipython-input-16-f0c37ed646fc>, line 1)",
          "traceback": [
            "\u001b[1;36m  File \u001b[1;32m\"<ipython-input-16-f0c37ed646fc>\"\u001b[1;36m, line \u001b[1;32m1\u001b[0m\n\u001b[1;33m    42 = n\u001b[0m\n\u001b[1;37m          ^\u001b[0m\n\u001b[1;31mSyntaxError\u001b[0m\u001b[1;31m:\u001b[0m can't assign to literal\n"
          ]
        }
      ]
    },
    {
      "metadata": {
        "id": "_lal0OLtept4",
        "colab_type": "code",
        "colab": {}
      },
      "cell_type": "code",
      "source": [
        "x = y = 1"
      ],
      "execution_count": 0,
      "outputs": []
    },
    {
      "metadata": {
        "id": "9co6cL3Zept7",
        "colab_type": "code",
        "colab": {}
      },
      "cell_type": "code",
      "source": [
        "x = y = 1;"
      ],
      "execution_count": 0,
      "outputs": []
    },
    {
      "metadata": {
        "id": "cC1YuQhbept_",
        "colab_type": "code",
        "outputId": "ac518099-08a4-49ef-c3ac-66a207de53af",
        "colab": {}
      },
      "cell_type": "code",
      "source": [
        "n=17\n",
        "print(n);"
      ],
      "execution_count": 0,
      "outputs": [
        {
          "output_type": "stream",
          "text": [
            "17\n"
          ],
          "name": "stdout"
        }
      ]
    },
    {
      "metadata": {
        "id": "tzMnKyluepuE",
        "colab_type": "code",
        "outputId": "f97c9a98-40a2-45d6-c413-7ac88c8014d0",
        "colab": {}
      },
      "cell_type": "code",
      "source": [
        "n=17\n",
        "print(n)."
      ],
      "execution_count": 0,
      "outputs": [
        {
          "output_type": "error",
          "ename": "SyntaxError",
          "evalue": "invalid syntax (<ipython-input-21-af8a7d50cdb4>, line 2)",
          "traceback": [
            "\u001b[1;36m  File \u001b[1;32m\"<ipython-input-21-af8a7d50cdb4>\"\u001b[1;36m, line \u001b[1;32m2\u001b[0m\n\u001b[1;33m    print(n).\u001b[0m\n\u001b[1;37m             ^\u001b[0m\n\u001b[1;31mSyntaxError\u001b[0m\u001b[1;31m:\u001b[0m invalid syntax\n"
          ]
        }
      ]
    },
    {
      "metadata": {
        "id": "Y04yiAwCepuJ",
        "colab_type": "code",
        "outputId": "3edb52e3-cc39-41ed-c4b8-c72eceadaa2b",
        "colab": {}
      },
      "cell_type": "code",
      "source": [
        "x = y = 2\n",
        "xy"
      ],
      "execution_count": 0,
      "outputs": [
        {
          "output_type": "error",
          "ename": "NameError",
          "evalue": "name 'xy' is not defined",
          "traceback": [
            "\u001b[1;31m---------------------------------------------------------------------------\u001b[0m",
            "\u001b[1;31mNameError\u001b[0m                                 Traceback (most recent call last)",
            "\u001b[1;32m<ipython-input-24-47ef6f07d9f5>\u001b[0m in \u001b[0;36m<module>\u001b[1;34m\u001b[0m\n\u001b[0;32m      1\u001b[0m \u001b[0mx\u001b[0m \u001b[1;33m=\u001b[0m \u001b[0my\u001b[0m \u001b[1;33m=\u001b[0m \u001b[1;36m2\u001b[0m\u001b[1;33m\u001b[0m\u001b[1;33m\u001b[0m\u001b[0m\n\u001b[1;32m----> 2\u001b[1;33m \u001b[0mxy\u001b[0m\u001b[1;33m\u001b[0m\u001b[1;33m\u001b[0m\u001b[0m\n\u001b[0m",
            "\u001b[1;31mNameError\u001b[0m: name 'xy' is not defined"
          ]
        }
      ]
    },
    {
      "metadata": {
        "id": "hVh5OPeEepuN",
        "colab_type": "code",
        "outputId": "3ab9f9da-b82b-4b3a-de2d-49c6c3fb4ce9",
        "colab": {}
      },
      "cell_type": "code",
      "source": [
        "r=5\n",
        "pi=3.1415926\n",
        "(pi*r**3)*4/3\n"
      ],
      "execution_count": 0,
      "outputs": [
        {
          "output_type": "execute_result",
          "data": {
            "text/plain": [
              "523.5987666666666"
            ]
          },
          "metadata": {
            "tags": []
          },
          "execution_count": 28
        }
      ]
    },
    {
      "metadata": {
        "id": "c8PrO7GVepuR",
        "colab_type": "code",
        "outputId": "5627c7a4-7656-49c8-9445-b14411df1e05",
        "colab": {}
      },
      "cell_type": "code",
      "source": [
        "p=24.95\n",
        "d=0.6\n",
        "c=3\n",
        "a=0.75\n",
        "60*(p*d+3)+a*(60-1)"
      ],
      "execution_count": 0,
      "outputs": [
        {
          "output_type": "execute_result",
          "data": {
            "text/plain": [
              "1122.4499999999998"
            ]
          },
          "metadata": {
            "tags": []
          },
          "execution_count": 29
        }
      ]
    },
    {
      "metadata": {
        "id": "j5jBbg4vepuV",
        "colab_type": "code",
        "outputId": "d3fcf916-529b-46d7-d792-6d3c1651ea84",
        "colab": {}
      },
      "cell_type": "code",
      "source": [
        "type(42)"
      ],
      "execution_count": 0,
      "outputs": [
        {
          "output_type": "execute_result",
          "data": {
            "text/plain": [
              "int"
            ]
          },
          "metadata": {
            "tags": []
          },
          "execution_count": 30
        }
      ]
    },
    {
      "metadata": {
        "id": "Nd1NembiepuY",
        "colab_type": "code",
        "outputId": "a0f1a36d-ca67-4fb0-c95d-b8e851948b88",
        "colab": {}
      },
      "cell_type": "code",
      "source": [
        "int('32')"
      ],
      "execution_count": 0,
      "outputs": [
        {
          "output_type": "execute_result",
          "data": {
            "text/plain": [
              "32"
            ]
          },
          "metadata": {
            "tags": []
          },
          "execution_count": 31
        }
      ]
    },
    {
      "metadata": {
        "id": "hVHGFKJSepub",
        "colab_type": "code",
        "outputId": "76e09cbb-cb0e-4408-c03a-bc3774ed5b0c",
        "colab": {}
      },
      "cell_type": "code",
      "source": [
        "int('Hello')"
      ],
      "execution_count": 0,
      "outputs": [
        {
          "output_type": "error",
          "ename": "ValueError",
          "evalue": "invalid literal for int() with base 10: 'Hello'",
          "traceback": [
            "\u001b[1;31m---------------------------------------------------------------------------\u001b[0m",
            "\u001b[1;31mValueError\u001b[0m                                Traceback (most recent call last)",
            "\u001b[1;32m<ipython-input-32-6765ce49acfe>\u001b[0m in \u001b[0;36m<module>\u001b[1;34m\u001b[0m\n\u001b[1;32m----> 1\u001b[1;33m \u001b[0mint\u001b[0m\u001b[1;33m(\u001b[0m\u001b[1;34m'Hello'\u001b[0m\u001b[1;33m)\u001b[0m\u001b[1;33m\u001b[0m\u001b[1;33m\u001b[0m\u001b[0m\n\u001b[0m",
            "\u001b[1;31mValueError\u001b[0m: invalid literal for int() with base 10: 'Hello'"
          ]
        }
      ]
    },
    {
      "metadata": {
        "id": "iTO7Urq9epug",
        "colab_type": "code",
        "outputId": "68312f99-ac1d-43a1-8cf1-9a78737580b8",
        "colab": {}
      },
      "cell_type": "code",
      "source": [
        "int(3.99999)"
      ],
      "execution_count": 0,
      "outputs": [
        {
          "output_type": "execute_result",
          "data": {
            "text/plain": [
              "3"
            ]
          },
          "metadata": {
            "tags": []
          },
          "execution_count": 34
        }
      ]
    },
    {
      "metadata": {
        "id": "C824uJejepuk",
        "colab_type": "code",
        "outputId": "d87e32b3-3232-47f4-c2e7-dd7dcdb652e3",
        "colab": {}
      },
      "cell_type": "code",
      "source": [
        "int(-2.3)"
      ],
      "execution_count": 0,
      "outputs": [
        {
          "output_type": "execute_result",
          "data": {
            "text/plain": [
              "-2"
            ]
          },
          "metadata": {
            "tags": []
          },
          "execution_count": 35
        }
      ]
    },
    {
      "metadata": {
        "id": "P6TfMr4Eepun",
        "colab_type": "code",
        "outputId": "00f2d033-cc03-4675-ea14-df6063c5006c",
        "colab": {}
      },
      "cell_type": "code",
      "source": [
        "float(32)"
      ],
      "execution_count": 0,
      "outputs": [
        {
          "output_type": "execute_result",
          "data": {
            "text/plain": [
              "32.0"
            ]
          },
          "metadata": {
            "tags": []
          },
          "execution_count": 36
        }
      ]
    },
    {
      "metadata": {
        "id": "nLuTYpu-epuq",
        "colab_type": "code",
        "outputId": "05662ba2-de0f-49d5-ebf2-7c15f57ba976",
        "colab": {}
      },
      "cell_type": "code",
      "source": [
        "float('3.14159')"
      ],
      "execution_count": 0,
      "outputs": [
        {
          "output_type": "execute_result",
          "data": {
            "text/plain": [
              "3.14159"
            ]
          },
          "metadata": {
            "tags": []
          },
          "execution_count": 37
        }
      ]
    },
    {
      "metadata": {
        "id": "9TchSC4_eput",
        "colab_type": "code",
        "outputId": "a0ac695d-d083-421c-b027-d1c5fea13598",
        "colab": {}
      },
      "cell_type": "code",
      "source": [
        "str(32)"
      ],
      "execution_count": 0,
      "outputs": [
        {
          "output_type": "execute_result",
          "data": {
            "text/plain": [
              "'32'"
            ]
          },
          "metadata": {
            "tags": []
          },
          "execution_count": 38
        }
      ]
    },
    {
      "metadata": {
        "id": "9griV6SEepuy",
        "colab_type": "code",
        "outputId": "ede0c5ea-2c6f-4a40-f38f-746d75d8df09",
        "colab": {}
      },
      "cell_type": "code",
      "source": [
        "str(3.14159)\n"
      ],
      "execution_count": 0,
      "outputs": [
        {
          "output_type": "execute_result",
          "data": {
            "text/plain": [
              "'3.14159'"
            ]
          },
          "metadata": {
            "tags": []
          },
          "execution_count": 39
        }
      ]
    },
    {
      "metadata": {
        "id": "qnckBub1epu2",
        "colab_type": "code",
        "colab": {}
      },
      "cell_type": "code",
      "source": [
        "import math"
      ],
      "execution_count": 0,
      "outputs": []
    },
    {
      "metadata": {
        "id": "Ky1_DG6yepu3",
        "colab_type": "code",
        "outputId": "b5004719-ebbe-4c4a-dc19-8eb0d576ffd4",
        "colab": {}
      },
      "cell_type": "code",
      "source": [
        "math"
      ],
      "execution_count": 0,
      "outputs": [
        {
          "output_type": "execute_result",
          "data": {
            "text/plain": [
              "<module 'math' (built-in)>"
            ]
          },
          "metadata": {
            "tags": []
          },
          "execution_count": 41
        }
      ]
    },
    {
      "metadata": {
        "id": "b8_TYMKFepu6",
        "colab_type": "code",
        "outputId": "744424d5-0115-43b4-eab9-21439d42eb7f",
        "colab": {}
      },
      "cell_type": "code",
      "source": [
        "ratio = signal_power / noise_power\n",
        "decibels = 10 * math.log10(ratio)\n"
      ],
      "execution_count": 0,
      "outputs": [
        {
          "output_type": "error",
          "ename": "NameError",
          "evalue": "name 'signal_power' is not defined",
          "traceback": [
            "\u001b[1;31m---------------------------------------------------------------------------\u001b[0m",
            "\u001b[1;31mNameError\u001b[0m                                 Traceback (most recent call last)",
            "\u001b[1;32m<ipython-input-48-09024c7d6ee1>\u001b[0m in \u001b[0;36m<module>\u001b[1;34m\u001b[0m\n\u001b[1;32m----> 1\u001b[1;33m \u001b[0mratio\u001b[0m \u001b[1;33m=\u001b[0m \u001b[0msignal_power\u001b[0m \u001b[1;33m/\u001b[0m \u001b[0mnoise_power\u001b[0m\u001b[1;33m\u001b[0m\u001b[1;33m\u001b[0m\u001b[0m\n\u001b[0m\u001b[0;32m      2\u001b[0m \u001b[0mdecibels\u001b[0m \u001b[1;33m=\u001b[0m \u001b[1;36m10\u001b[0m \u001b[1;33m*\u001b[0m \u001b[0mmath\u001b[0m\u001b[1;33m.\u001b[0m\u001b[0mlog10\u001b[0m\u001b[1;33m(\u001b[0m\u001b[0mratio\u001b[0m\u001b[1;33m)\u001b[0m\u001b[1;33m\u001b[0m\u001b[1;33m\u001b[0m\u001b[0m\n",
            "\u001b[1;31mNameError\u001b[0m: name 'signal_power' is not defined"
          ]
        }
      ]
    },
    {
      "metadata": {
        "id": "kuCVEHVPepu9",
        "colab_type": "code",
        "outputId": "3f29a55d-1c99-4a20-a1ac-379bcdd17346",
        "colab": {}
      },
      "cell_type": "code",
      "source": [
        "ratio = signal_power / noise_power\n",
        "decibels = 10 * math.log10(ratio)\n"
      ],
      "execution_count": 0,
      "outputs": [
        {
          "output_type": "error",
          "ename": "NameError",
          "evalue": "name 'signal_power' is not defined",
          "traceback": [
            "\u001b[1;31m---------------------------------------------------------------------------\u001b[0m",
            "\u001b[1;31mNameError\u001b[0m                                 Traceback (most recent call last)",
            "\u001b[1;32m<ipython-input-53-49fc455cfc21>\u001b[0m in \u001b[0;36m<module>\u001b[1;34m\u001b[0m\n\u001b[1;32m----> 1\u001b[1;33m \u001b[0mratio\u001b[0m \u001b[1;33m=\u001b[0m \u001b[0msignal_power\u001b[0m \u001b[1;33m/\u001b[0m \u001b[0mnoise_power\u001b[0m\u001b[1;33m\u001b[0m\u001b[1;33m\u001b[0m\u001b[0m\n\u001b[0m\u001b[0;32m      2\u001b[0m \u001b[0mdecibels\u001b[0m \u001b[1;33m=\u001b[0m \u001b[1;36m10\u001b[0m \u001b[1;33m*\u001b[0m \u001b[0mmath\u001b[0m\u001b[1;33m.\u001b[0m\u001b[0mlog10\u001b[0m\u001b[1;33m(\u001b[0m\u001b[0mratio\u001b[0m\u001b[1;33m)\u001b[0m\u001b[1;33m\u001b[0m\u001b[1;33m\u001b[0m\u001b[0m\n\u001b[0;32m      3\u001b[0m \u001b[0mradians\u001b[0m \u001b[1;33m=\u001b[0m \u001b[1;36m0.7\u001b[0m\u001b[1;33m\u001b[0m\u001b[1;33m\u001b[0m\u001b[0m\n\u001b[0;32m      4\u001b[0m \u001b[0mheight\u001b[0m \u001b[1;33m=\u001b[0m \u001b[0mmath\u001b[0m\u001b[1;33m.\u001b[0m\u001b[0msin\u001b[0m\u001b[1;33m(\u001b[0m\u001b[0mradians\u001b[0m\u001b[1;33m)\u001b[0m\u001b[1;33m\u001b[0m\u001b[1;33m\u001b[0m\u001b[0m\n\u001b[0;32m      5\u001b[0m \u001b[0mprint\u001b[0m\u001b[1;33m(\u001b[0m\u001b[0mheight\u001b[0m\u001b[1;33m)\u001b[0m\u001b[1;33m\u001b[0m\u001b[1;33m\u001b[0m\u001b[0m\n",
            "\u001b[1;31mNameError\u001b[0m: name 'signal_power' is not defined"
          ]
        }
      ]
    },
    {
      "metadata": {
        "id": "7wL-UqZXepvB",
        "colab_type": "code",
        "outputId": "aed53363-27f4-48c0-e29a-7bcd7a0cfcb4",
        "colab": {}
      },
      "cell_type": "code",
      "source": [
        "radians = 0.7\n",
        "height = math.sin(radians)\n",
        "print(height)"
      ],
      "execution_count": 0,
      "outputs": [
        {
          "output_type": "stream",
          "text": [
            "0.644217687237691\n"
          ],
          "name": "stdout"
        }
      ]
    },
    {
      "metadata": {
        "id": "373_2mNzepvE",
        "colab_type": "code",
        "outputId": "cff87c19-775c-453b-8e58-f03808571720",
        "colab": {}
      },
      "cell_type": "code",
      "source": [
        "degrees = 45\n",
        "radians = degrees / 180.0 * math.pi\n",
        "math.sin(radians)"
      ],
      "execution_count": 0,
      "outputs": [
        {
          "output_type": "execute_result",
          "data": {
            "text/plain": [
              "0.7071067811865476"
            ]
          },
          "metadata": {
            "tags": []
          },
          "execution_count": 55
        }
      ]
    },
    {
      "metadata": {
        "id": "f7tMzvgDepvK",
        "colab_type": "code",
        "outputId": "2047b184-511d-42eb-9f54-50ea73d87d26",
        "colab": {}
      },
      "cell_type": "code",
      "source": [
        "print(math.pi)"
      ],
      "execution_count": 0,
      "outputs": [
        {
          "output_type": "stream",
          "text": [
            "3.141592653589793\n"
          ],
          "name": "stdout"
        }
      ]
    },
    {
      "metadata": {
        "id": "oABKgHALepvM",
        "colab_type": "code",
        "outputId": "51ae151b-5b37-40db-b1b3-c6d770c4126c",
        "colab": {}
      },
      "cell_type": "code",
      "source": [
        "math.sqrt(2) / 2.0"
      ],
      "execution_count": 0,
      "outputs": [
        {
          "output_type": "execute_result",
          "data": {
            "text/plain": [
              "0.7071067811865476"
            ]
          },
          "metadata": {
            "tags": []
          },
          "execution_count": 57
        }
      ]
    },
    {
      "metadata": {
        "id": "P0FmPlOqepvT",
        "colab_type": "code",
        "outputId": "397194b6-5397-49ce-9d51-7691b708ab96",
        "colab": {}
      },
      "cell_type": "code",
      "source": [
        "x = math.sin(degrees / 360.0 * 2 * math.pi)\n",
        "print(x)"
      ],
      "execution_count": 0,
      "outputs": [
        {
          "output_type": "stream",
          "text": [
            "0.7071067811865476\n"
          ],
          "name": "stdout"
        }
      ]
    },
    {
      "metadata": {
        "id": "ckMYKWUGepvY",
        "colab_type": "code",
        "outputId": "ce499876-a8f5-423a-fae0-6e1e77abe33b",
        "colab": {}
      },
      "cell_type": "code",
      "source": [
        "x = math.exp(math.log(x+1))\n",
        "print(x)"
      ],
      "execution_count": 0,
      "outputs": [
        {
          "output_type": "stream",
          "text": [
            "2.7071067811865475\n"
          ],
          "name": "stdout"
        }
      ]
    },
    {
      "metadata": {
        "id": "DigOV0aiepva",
        "colab_type": "code",
        "outputId": "bda00a37-759f-4911-c728-b52a0b5b8b94",
        "colab": {}
      },
      "cell_type": "code",
      "source": [
        "minutes = hours * 60"
      ],
      "execution_count": 0,
      "outputs": [
        {
          "output_type": "error",
          "ename": "NameError",
          "evalue": "name 'hours' is not defined",
          "traceback": [
            "\u001b[1;31m---------------------------------------------------------------------------\u001b[0m",
            "\u001b[1;31mNameError\u001b[0m                                 Traceback (most recent call last)",
            "\u001b[1;32m<ipython-input-65-25e41f830590>\u001b[0m in \u001b[0;36m<module>\u001b[1;34m\u001b[0m\n\u001b[1;32m----> 1\u001b[1;33m \u001b[0mminutes\u001b[0m \u001b[1;33m=\u001b[0m \u001b[0mhours\u001b[0m \u001b[1;33m*\u001b[0m \u001b[1;36m60\u001b[0m\u001b[1;33m\u001b[0m\u001b[1;33m\u001b[0m\u001b[0m\n\u001b[0m",
            "\u001b[1;31mNameError\u001b[0m: name 'hours' is not defined"
          ]
        }
      ]
    },
    {
      "metadata": {
        "id": "iI4U7hosepvh",
        "colab_type": "code",
        "outputId": "a9d689c6-9ffb-445b-c3c1-ea615b73a639",
        "colab": {}
      },
      "cell_type": "code",
      "source": [
        "hours * 60 = minutes"
      ],
      "execution_count": 0,
      "outputs": [
        {
          "output_type": "error",
          "ename": "SyntaxError",
          "evalue": "can't assign to operator (<ipython-input-66-9442855be4e0>, line 1)",
          "traceback": [
            "\u001b[1;36m  File \u001b[1;32m\"<ipython-input-66-9442855be4e0>\"\u001b[1;36m, line \u001b[1;32m1\u001b[0m\n\u001b[1;33m    hours * 60 = minutes\u001b[0m\n\u001b[1;37m                        ^\u001b[0m\n\u001b[1;31mSyntaxError\u001b[0m\u001b[1;31m:\u001b[0m can't assign to operator\n"
          ]
        }
      ]
    },
    {
      "metadata": {
        "id": "d438il2kepvj",
        "colab_type": "code",
        "outputId": "a0c8cebb-0e10-4198-9b65-f02e376457dc",
        "colab": {}
      },
      "cell_type": "code",
      "source": [
        "def print_lyrics():\n",
        "    print(\"I'm a lumberjack, and I'm okay.\")\n",
        "    print(\"I sleep all night and I work all day.\")  \n",
        "    \n",
        "print(print_lyrics)\n",
        "type(print_lyrics)\n",
        "\n"
      ],
      "execution_count": 0,
      "outputs": [
        {
          "output_type": "stream",
          "text": [
            "<function print_lyrics at 0x0000024214BA3510>\n"
          ],
          "name": "stdout"
        },
        {
          "output_type": "execute_result",
          "data": {
            "text/plain": [
              "function"
            ]
          },
          "metadata": {
            "tags": []
          },
          "execution_count": 77
        }
      ]
    },
    {
      "metadata": {
        "id": "TLmVWA8Yepvm",
        "colab_type": "code",
        "outputId": "198eb633-7312-42ea-f6a1-7d8f904d4bfa",
        "colab": {}
      },
      "cell_type": "code",
      "source": [
        "print_lyrics()"
      ],
      "execution_count": 0,
      "outputs": [
        {
          "output_type": "stream",
          "text": [
            "I'm a lumberjack, and I'm okay.\n",
            "I sleep all night and I work all day.\n"
          ],
          "name": "stdout"
        }
      ]
    },
    {
      "metadata": {
        "id": "Dya7biVaepvp",
        "colab_type": "code",
        "outputId": "6011cc4c-5366-493d-e0fc-cd2381074304",
        "colab": {}
      },
      "cell_type": "code",
      "source": [
        "def repeat_lyrics():\n",
        "    print_lyrics()\n",
        "    print_lyrics()\n",
        "repeat_lyrics()"
      ],
      "execution_count": 0,
      "outputs": [
        {
          "output_type": "stream",
          "text": [
            "I'm a lumberjack, and I'm okay.\n",
            "I sleep all night and I work all day.\n",
            "I'm a lumberjack, and I'm okay.\n",
            "I sleep all night and I work all day.\n"
          ],
          "name": "stdout"
        }
      ]
    },
    {
      "metadata": {
        "id": "ajryb7bbepvr",
        "colab_type": "code",
        "outputId": "249b4057-57fe-47fc-a12d-56ee1761e141",
        "colab": {}
      },
      "cell_type": "code",
      "source": [
        "def print_lyrics():\n",
        "    print(\"I'm a lumberjack, and I'm okay.\")\n",
        "    print(\"I sleep all night and I work all day.\")\n",
        "    \n",
        "def repeat_lyrics():\n",
        "    print_lyrics()\n",
        "    print_lyrics()\n",
        "\n",
        "print(repeat_lyrics())\n"
      ],
      "execution_count": 0,
      "outputs": [
        {
          "output_type": "stream",
          "text": [
            "I'm a lumberjack, and I'm okay.\n",
            "I sleep all night and I work all day.\n",
            "I'm a lumberjack, and I'm okay.\n",
            "I sleep all night and I work all day.\n",
            "None\n"
          ],
          "name": "stdout"
        }
      ]
    },
    {
      "metadata": {
        "id": "QKqEuE7kepvu",
        "colab_type": "code",
        "outputId": "bb04b337-31cf-45da-c18a-4c8d40ca82a1",
        "colab": {}
      },
      "cell_type": "code",
      "source": [
        "repeat_lyrics()\n",
        "def print_lyrics():\n",
        "    print(\"I'm a lumberjack, and I'm okay.\")\n",
        "    print(\"I sleep all night and I work all day.\")\n",
        "    \n",
        "def repeat_lyrics():\n",
        "    print_lyrics()\n",
        "    print_lyrics()"
      ],
      "execution_count": 0,
      "outputs": [
        {
          "output_type": "stream",
          "text": [
            "I'm a lumberjack, and I'm okay.\n",
            "I sleep all night and I work all day.\n",
            "I'm a lumberjack, and I'm okay.\n",
            "I sleep all night and I work all day.\n"
          ],
          "name": "stdout"
        }
      ]
    },
    {
      "metadata": {
        "id": "vBqseLV-epvx",
        "colab_type": "code",
        "outputId": "86a4580f-2634-4f06-9174-d7f937415391",
        "colab": {}
      },
      "cell_type": "code",
      "source": [
        "def print_twice(bruce):\n",
        "    print(bruce)\n",
        "    print(bruce)\n",
        "print_twice('Spam')\n",
        "print_twice(math.pi)\n",
        "print_twice(42)"
      ],
      "execution_count": 0,
      "outputs": [
        {
          "output_type": "stream",
          "text": [
            "Spam\n",
            "Spam\n",
            "3.141592653589793\n",
            "3.141592653589793\n",
            "42\n",
            "42\n"
          ],
          "name": "stdout"
        }
      ]
    },
    {
      "metadata": {
        "id": "r1yVphnZepv0",
        "colab_type": "code",
        "outputId": "81b9fe63-53ca-4f92-fe4b-6340687c3d37",
        "colab": {}
      },
      "cell_type": "code",
      "source": [
        "print_twice('Spam '*4)"
      ],
      "execution_count": 0,
      "outputs": [
        {
          "output_type": "stream",
          "text": [
            "Spam Spam Spam Spam \n",
            "Spam Spam Spam Spam \n"
          ],
          "name": "stdout"
        }
      ]
    },
    {
      "metadata": {
        "id": "OaO9EC-kepv1",
        "colab_type": "code",
        "outputId": "cac98571-e0db-4757-8506-0a597f26ac1e",
        "colab": {}
      },
      "cell_type": "code",
      "source": [
        "print_twice(math.cos(math.pi))"
      ],
      "execution_count": 0,
      "outputs": [
        {
          "output_type": "stream",
          "text": [
            "-1.0\n",
            "-1.0\n"
          ],
          "name": "stdout"
        }
      ]
    },
    {
      "metadata": {
        "id": "wOvwZIaRepv3",
        "colab_type": "code",
        "outputId": "7b6cbaaa-2f4e-4e47-bd92-7db9c611887a",
        "colab": {}
      },
      "cell_type": "code",
      "source": [
        "michael = 'Eric, the half a bee.'\n",
        "print_twice(michael)\n"
      ],
      "execution_count": 0,
      "outputs": [
        {
          "output_type": "stream",
          "text": [
            "Eric, the half a bee.\n",
            "Eric, the half a bee.\n"
          ],
          "name": "stdout"
        }
      ]
    },
    {
      "metadata": {
        "id": "fHZlSQ2Uepv6",
        "colab_type": "code",
        "outputId": "241cc12c-8119-46c9-a450-f3ac622f7680",
        "colab": {}
      },
      "cell_type": "code",
      "source": [
        "def cat_twice(part1, part2):\n",
        "    cat = part1 + part2\n",
        "    print_twice(cat)\n",
        "    \n",
        "line1 = 'Bing tiddle '\n",
        "line2 = 'tiddle bang.'\n",
        "cat_twice(line1, line2)\n",
        "print(cat)"
      ],
      "execution_count": 0,
      "outputs": [
        {
          "output_type": "stream",
          "text": [
            "Bing tiddle tiddle bang.\n",
            "Bing tiddle tiddle bang.\n"
          ],
          "name": "stdout"
        },
        {
          "output_type": "error",
          "ename": "NameError",
          "evalue": "name 'cat' is not defined",
          "traceback": [
            "\u001b[1;31m---------------------------------------------------------------------------\u001b[0m",
            "\u001b[1;31mNameError\u001b[0m                                 Traceback (most recent call last)",
            "\u001b[1;32m<ipython-input-100-70bca240a4db>\u001b[0m in \u001b[0;36m<module>\u001b[1;34m\u001b[0m\n\u001b[0;32m      6\u001b[0m \u001b[0mline2\u001b[0m \u001b[1;33m=\u001b[0m \u001b[1;34m'tiddle bang.'\u001b[0m\u001b[1;33m\u001b[0m\u001b[1;33m\u001b[0m\u001b[0m\n\u001b[0;32m      7\u001b[0m \u001b[0mcat_twice\u001b[0m\u001b[1;33m(\u001b[0m\u001b[0mline1\u001b[0m\u001b[1;33m,\u001b[0m \u001b[0mline2\u001b[0m\u001b[1;33m)\u001b[0m\u001b[1;33m\u001b[0m\u001b[1;33m\u001b[0m\u001b[0m\n\u001b[1;32m----> 8\u001b[1;33m \u001b[0mprint\u001b[0m\u001b[1;33m(\u001b[0m\u001b[0mcat\u001b[0m\u001b[1;33m)\u001b[0m\u001b[1;33m\u001b[0m\u001b[1;33m\u001b[0m\u001b[0m\n\u001b[0m",
            "\u001b[1;31mNameError\u001b[0m: name 'cat' is not defined"
          ]
        }
      ]
    },
    {
      "metadata": {
        "id": "jFqHUDjwepv8",
        "colab_type": "code",
        "colab": {}
      },
      "cell_type": "code",
      "source": [
        "x = math.cos(radians)\n",
        "golden = (math.sqrt(5) + 1) / 2\n"
      ],
      "execution_count": 0,
      "outputs": []
    },
    {
      "metadata": {
        "id": "bDB6i6b4epv-",
        "colab_type": "code",
        "outputId": "5980877c-c229-4738-aa7b-c5915c9e7880",
        "colab": {}
      },
      "cell_type": "code",
      "source": [
        "math.sqrt(5)\n"
      ],
      "execution_count": 0,
      "outputs": [
        {
          "output_type": "execute_result",
          "data": {
            "text/plain": [
              "2.23606797749979"
            ]
          },
          "metadata": {
            "tags": []
          },
          "execution_count": 104
        }
      ]
    },
    {
      "metadata": {
        "id": "WSPSOfhMepwA",
        "colab_type": "code",
        "outputId": "62d580d1-1bbf-4f44-99d0-0ad1485c5b55",
        "colab": {}
      },
      "cell_type": "code",
      "source": [
        "result = print_twice('Bing')\n",
        "\n",
        "print(result)\n",
        "\n"
      ],
      "execution_count": 0,
      "outputs": [
        {
          "output_type": "stream",
          "text": [
            "Bing\n",
            "Bing\n",
            "None\n"
          ],
          "name": "stdout"
        }
      ]
    },
    {
      "metadata": {
        "id": "mZ-Wq0JAepwJ",
        "colab_type": "code",
        "outputId": "8d2f3d8a-9924-4ba2-fbc1-78a50d5d3cce",
        "colab": {}
      },
      "cell_type": "code",
      "source": [
        " type(None)\n",
        "    "
      ],
      "execution_count": 0,
      "outputs": [
        {
          "output_type": "execute_result",
          "data": {
            "text/plain": [
              "NoneType"
            ]
          },
          "metadata": {
            "tags": []
          },
          "execution_count": 106
        }
      ]
    },
    {
      "metadata": {
        "id": "Q2ds8lZHepwN",
        "colab_type": "code",
        "outputId": "9c2c4929-0fdb-48fa-ce99-a6dac404423e",
        "colab": {}
      },
      "cell_type": "code",
      "source": [
        "from __future__ import print_function, division\n",
        "def do_twice(f,a):\n",
        "    f()\n",
        "    f()\n",
        "do_twice(1,4)"
      ],
      "execution_count": 0,
      "outputs": [
        {
          "output_type": "error",
          "ename": "TypeError",
          "evalue": "'int' object is not callable",
          "traceback": [
            "\u001b[1;31m---------------------------------------------------------------------------\u001b[0m",
            "\u001b[1;31mTypeError\u001b[0m                                 Traceback (most recent call last)",
            "\u001b[1;32m<ipython-input-7-0081c35058d2>\u001b[0m in \u001b[0;36m<module>\u001b[1;34m\u001b[0m\n\u001b[0;32m      3\u001b[0m     \u001b[0mf\u001b[0m\u001b[1;33m(\u001b[0m\u001b[1;33m)\u001b[0m\u001b[1;33m\u001b[0m\u001b[1;33m\u001b[0m\u001b[0m\n\u001b[0;32m      4\u001b[0m     \u001b[0mf\u001b[0m\u001b[1;33m(\u001b[0m\u001b[1;33m)\u001b[0m\u001b[1;33m\u001b[0m\u001b[1;33m\u001b[0m\u001b[0m\n\u001b[1;32m----> 5\u001b[1;33m \u001b[0mdo_twice\u001b[0m\u001b[1;33m(\u001b[0m\u001b[1;36m1\u001b[0m\u001b[1;33m,\u001b[0m\u001b[1;36m4\u001b[0m\u001b[1;33m)\u001b[0m\u001b[1;33m\u001b[0m\u001b[1;33m\u001b[0m\u001b[0m\n\u001b[0m",
            "\u001b[1;32m<ipython-input-7-0081c35058d2>\u001b[0m in \u001b[0;36mdo_twice\u001b[1;34m(f, a)\u001b[0m\n\u001b[0;32m      1\u001b[0m \u001b[1;32mfrom\u001b[0m \u001b[0m__future__\u001b[0m \u001b[1;32mimport\u001b[0m \u001b[0mprint_function\u001b[0m\u001b[1;33m,\u001b[0m \u001b[0mdivision\u001b[0m\u001b[1;33m\u001b[0m\u001b[1;33m\u001b[0m\u001b[0m\n\u001b[0;32m      2\u001b[0m \u001b[1;32mdef\u001b[0m \u001b[0mdo_twice\u001b[0m\u001b[1;33m(\u001b[0m\u001b[0mf\u001b[0m\u001b[1;33m,\u001b[0m\u001b[0ma\u001b[0m\u001b[1;33m)\u001b[0m\u001b[1;33m:\u001b[0m\u001b[1;33m\u001b[0m\u001b[1;33m\u001b[0m\u001b[0m\n\u001b[1;32m----> 3\u001b[1;33m     \u001b[0mf\u001b[0m\u001b[1;33m(\u001b[0m\u001b[1;33m)\u001b[0m\u001b[1;33m\u001b[0m\u001b[1;33m\u001b[0m\u001b[0m\n\u001b[0m\u001b[0;32m      4\u001b[0m     \u001b[0mf\u001b[0m\u001b[1;33m(\u001b[0m\u001b[1;33m)\u001b[0m\u001b[1;33m\u001b[0m\u001b[1;33m\u001b[0m\u001b[0m\n\u001b[0;32m      5\u001b[0m \u001b[0mdo_twice\u001b[0m\u001b[1;33m(\u001b[0m\u001b[1;36m1\u001b[0m\u001b[1;33m,\u001b[0m\u001b[1;36m4\u001b[0m\u001b[1;33m)\u001b[0m\u001b[1;33m\u001b[0m\u001b[1;33m\u001b[0m\u001b[0m\n",
            "\u001b[1;31mTypeError\u001b[0m: 'int' object is not callable"
          ]
        }
      ]
    },
    {
      "metadata": {
        "id": "sTAE8TaAepwS",
        "colab_type": "code",
        "outputId": "3deb45f0-965a-477c-e228-63692a08e5e6",
        "colab": {}
      },
      "cell_type": "code",
      "source": [
        "from __future__ import print_function, division\n",
        "\n",
        "\n",
        "def do_twice(func, arg):\n",
        "    \"\"\"Runs a function twice.\n",
        "\n",
        "    func: function object\n",
        "    arg: argument passed to the function\n",
        "    \"\"\"\n",
        "    func(arg)\n",
        "    func(arg)\n",
        "\n",
        "\n",
        "def print_twice(arg):\n",
        "    \"\"\"Prints the argument twice.\n",
        "\n",
        "    arg: anything printable\n",
        "    \"\"\"\n",
        "    print(arg)\n",
        "    print(arg)\n",
        "\n",
        "\n",
        "def do_four(func, arg):\n",
        "    \"\"\"Runs a function four times.\n",
        "\n",
        "    func: function object\n",
        "    arg: argument passed to the function\n",
        "    \"\"\"\n",
        "    do_twice(func, arg)\n",
        "    do_twice(func, arg)\n",
        "\n",
        "\n",
        "do_twice(print_twice, 'spam')\n",
        "print('')\n",
        "\n",
        "do_four(print_twice, 'spam')"
      ],
      "execution_count": 0,
      "outputs": [
        {
          "output_type": "stream",
          "text": [
            "spam\n",
            "spam\n",
            "spam\n",
            "spam\n",
            "\n",
            "spam\n",
            "spam\n",
            "spam\n",
            "spam\n",
            "spam\n",
            "spam\n",
            "spam\n",
            "spam\n"
          ],
          "name": "stdout"
        }
      ]
    },
    {
      "metadata": {
        "id": "LadiQ9Kcepwc",
        "colab_type": "code",
        "outputId": "4eebc1b2-c0de-415d-8831-43e5eb66f795",
        "colab": {}
      },
      "cell_type": "code",
      "source": [
        "from __future__ import print_function, division\n",
        "\n",
        "# here is a mostly-straightforward solution to the\n",
        "# two-by-two version of the grid.\n",
        "\n",
        "def do_twice(f):\n",
        "    f()\n",
        "    f()\n",
        "\n",
        "def do_four(f):\n",
        "    do_twice(f)\n",
        "    do_twice(f)\n",
        "\n",
        "def print_beam():\n",
        "    print('+ - - - -', end=' ')\n",
        "\n",
        "def print_post():\n",
        "    print('|        ', end=' ')\n",
        "\n",
        "def print_beams():\n",
        "    do_twice(print_beam)\n",
        "    print('+')\n",
        "\n",
        "def print_posts():\n",
        "    do_twice(print_post)\n",
        "    print('|')\n",
        "\n",
        "def print_row():\n",
        "    print_beams()\n",
        "    do_four(print_posts)\n",
        "\n",
        "def print_grid():\n",
        "    do_twice(print_row)\n",
        "    print_beams()\n",
        "\n",
        "print_grid()\n",
        "    \n",
        "\n"
      ],
      "execution_count": 0,
      "outputs": [
        {
          "output_type": "stream",
          "text": [
            "+ - - - - + - - - - +\n",
            "|         |         |\n",
            "|         |         |\n",
            "|         |         |\n",
            "|         |         |\n",
            "+ - - - - + - - - - +\n",
            "|         |         |\n",
            "|         |         |\n",
            "|         |         |\n",
            "|         |         |\n",
            "+ - - - - + - - - - +\n"
          ],
          "name": "stdout"
        }
      ]
    },
    {
      "metadata": {
        "id": "wVqylriFepwj",
        "colab_type": "code",
        "colab": {}
      },
      "cell_type": "code",
      "source": [
        ""
      ],
      "execution_count": 0,
      "outputs": []
    },
    {
      "metadata": {
        "id": "pl06xNbVepwl",
        "colab_type": "code",
        "colab": {}
      },
      "cell_type": "code",
      "source": [
        ""
      ],
      "execution_count": 0,
      "outputs": []
    },
    {
      "metadata": {
        "id": "GKxQAQQhepwn",
        "colab_type": "code",
        "colab": {}
      },
      "cell_type": "code",
      "source": [
        ""
      ],
      "execution_count": 0,
      "outputs": []
    },
    {
      "metadata": {
        "id": "CGUd2aw0epwo",
        "colab_type": "code",
        "colab": {}
      },
      "cell_type": "code",
      "source": [
        "import turtle\n",
        "bob = turtle.Turtle()"
      ],
      "execution_count": 0,
      "outputs": []
    },
    {
      "metadata": {
        "id": "xrZjjyGkepwt",
        "colab_type": "code",
        "outputId": "f096f546-3db2-42bb-d34f-4def057063c6",
        "colab": {}
      },
      "cell_type": "code",
      "source": [
        "import turtle\n",
        "bob = turtle.Turtle()\n",
        "print(bob)\n",
        "turtle.mainloop()"
      ],
      "execution_count": 0,
      "outputs": [
        {
          "output_type": "error",
          "ename": "Terminator",
          "evalue": "",
          "traceback": [
            "\u001b[1;31m---------------------------------------------------------------------------\u001b[0m",
            "\u001b[1;31mTerminator\u001b[0m                                Traceback (most recent call last)",
            "\u001b[1;32m<ipython-input-2-a3ce06f254ac>\u001b[0m in \u001b[0;36m<module>\u001b[1;34m\u001b[0m\n\u001b[0;32m      1\u001b[0m \u001b[1;32mimport\u001b[0m \u001b[0mturtle\u001b[0m\u001b[1;33m\u001b[0m\u001b[1;33m\u001b[0m\u001b[0m\n\u001b[1;32m----> 2\u001b[1;33m \u001b[0mbob\u001b[0m \u001b[1;33m=\u001b[0m \u001b[0mturtle\u001b[0m\u001b[1;33m.\u001b[0m\u001b[0mTurtle\u001b[0m\u001b[1;33m(\u001b[0m\u001b[1;33m)\u001b[0m\u001b[1;33m\u001b[0m\u001b[1;33m\u001b[0m\u001b[0m\n\u001b[0m\u001b[0;32m      3\u001b[0m \u001b[0mprint\u001b[0m\u001b[1;33m(\u001b[0m\u001b[0mbob\u001b[0m\u001b[1;33m)\u001b[0m\u001b[1;33m\u001b[0m\u001b[1;33m\u001b[0m\u001b[0m\n\u001b[0;32m      4\u001b[0m \u001b[0mturtle\u001b[0m\u001b[1;33m.\u001b[0m\u001b[0mmainloop\u001b[0m\u001b[1;33m(\u001b[0m\u001b[1;33m)\u001b[0m\u001b[1;33m\u001b[0m\u001b[1;33m\u001b[0m\u001b[0m\n",
            "\u001b[1;32mD:\\Anaconda\\lib\\turtle.py\u001b[0m in \u001b[0;36m__init__\u001b[1;34m(self, shape, undobuffersize, visible)\u001b[0m\n\u001b[0;32m   3814\u001b[0m                            \u001b[0mshape\u001b[0m\u001b[1;33m=\u001b[0m\u001b[0mshape\u001b[0m\u001b[1;33m,\u001b[0m\u001b[1;33m\u001b[0m\u001b[1;33m\u001b[0m\u001b[0m\n\u001b[0;32m   3815\u001b[0m                            \u001b[0mundobuffersize\u001b[0m\u001b[1;33m=\u001b[0m\u001b[0mundobuffersize\u001b[0m\u001b[1;33m,\u001b[0m\u001b[1;33m\u001b[0m\u001b[1;33m\u001b[0m\u001b[0m\n\u001b[1;32m-> 3816\u001b[1;33m                            visible=visible)\n\u001b[0m\u001b[0;32m   3817\u001b[0m \u001b[1;33m\u001b[0m\u001b[0m\n\u001b[0;32m   3818\u001b[0m \u001b[0mPen\u001b[0m \u001b[1;33m=\u001b[0m \u001b[0mTurtle\u001b[0m\u001b[1;33m\u001b[0m\u001b[1;33m\u001b[0m\u001b[0m\n",
            "\u001b[1;32mD:\\Anaconda\\lib\\turtle.py\u001b[0m in \u001b[0;36m__init__\u001b[1;34m(self, canvas, shape, undobuffersize, visible)\u001b[0m\n\u001b[0;32m   2555\u001b[0m         \u001b[0mself\u001b[0m\u001b[1;33m.\u001b[0m\u001b[0m_undobuffersize\u001b[0m \u001b[1;33m=\u001b[0m \u001b[0mundobuffersize\u001b[0m\u001b[1;33m\u001b[0m\u001b[1;33m\u001b[0m\u001b[0m\n\u001b[0;32m   2556\u001b[0m         \u001b[0mself\u001b[0m\u001b[1;33m.\u001b[0m\u001b[0mundobuffer\u001b[0m \u001b[1;33m=\u001b[0m \u001b[0mTbuffer\u001b[0m\u001b[1;33m(\u001b[0m\u001b[0mundobuffersize\u001b[0m\u001b[1;33m)\u001b[0m\u001b[1;33m\u001b[0m\u001b[1;33m\u001b[0m\u001b[0m\n\u001b[1;32m-> 2557\u001b[1;33m         \u001b[0mself\u001b[0m\u001b[1;33m.\u001b[0m\u001b[0m_update\u001b[0m\u001b[1;33m(\u001b[0m\u001b[1;33m)\u001b[0m\u001b[1;33m\u001b[0m\u001b[1;33m\u001b[0m\u001b[0m\n\u001b[0m\u001b[0;32m   2558\u001b[0m \u001b[1;33m\u001b[0m\u001b[0m\n\u001b[0;32m   2559\u001b[0m     \u001b[1;32mdef\u001b[0m \u001b[0mreset\u001b[0m\u001b[1;33m(\u001b[0m\u001b[0mself\u001b[0m\u001b[1;33m)\u001b[0m\u001b[1;33m:\u001b[0m\u001b[1;33m\u001b[0m\u001b[1;33m\u001b[0m\u001b[0m\n",
            "\u001b[1;32mD:\\Anaconda\\lib\\turtle.py\u001b[0m in \u001b[0;36m_update\u001b[1;34m(self)\u001b[0m\n\u001b[0;32m   2658\u001b[0m             \u001b[1;32mreturn\u001b[0m\u001b[1;33m\u001b[0m\u001b[1;33m\u001b[0m\u001b[0m\n\u001b[0;32m   2659\u001b[0m         \u001b[1;32melif\u001b[0m \u001b[0mscreen\u001b[0m\u001b[1;33m.\u001b[0m\u001b[0m_tracing\u001b[0m \u001b[1;33m==\u001b[0m \u001b[1;36m1\u001b[0m\u001b[1;33m:\u001b[0m\u001b[1;33m\u001b[0m\u001b[1;33m\u001b[0m\u001b[0m\n\u001b[1;32m-> 2660\u001b[1;33m             \u001b[0mself\u001b[0m\u001b[1;33m.\u001b[0m\u001b[0m_update_data\u001b[0m\u001b[1;33m(\u001b[0m\u001b[1;33m)\u001b[0m\u001b[1;33m\u001b[0m\u001b[1;33m\u001b[0m\u001b[0m\n\u001b[0m\u001b[0;32m   2661\u001b[0m             \u001b[0mself\u001b[0m\u001b[1;33m.\u001b[0m\u001b[0m_drawturtle\u001b[0m\u001b[1;33m(\u001b[0m\u001b[1;33m)\u001b[0m\u001b[1;33m\u001b[0m\u001b[1;33m\u001b[0m\u001b[0m\n\u001b[0;32m   2662\u001b[0m             \u001b[0mscreen\u001b[0m\u001b[1;33m.\u001b[0m\u001b[0m_update\u001b[0m\u001b[1;33m(\u001b[0m\u001b[1;33m)\u001b[0m                  \u001b[1;31m# TurtleScreenBase\u001b[0m\u001b[1;33m\u001b[0m\u001b[1;33m\u001b[0m\u001b[0m\n",
            "\u001b[1;32mD:\\Anaconda\\lib\\turtle.py\u001b[0m in \u001b[0;36m_update_data\u001b[1;34m(self)\u001b[0m\n\u001b[0;32m   2644\u001b[0m \u001b[1;33m\u001b[0m\u001b[0m\n\u001b[0;32m   2645\u001b[0m     \u001b[1;32mdef\u001b[0m \u001b[0m_update_data\u001b[0m\u001b[1;33m(\u001b[0m\u001b[0mself\u001b[0m\u001b[1;33m)\u001b[0m\u001b[1;33m:\u001b[0m\u001b[1;33m\u001b[0m\u001b[1;33m\u001b[0m\u001b[0m\n\u001b[1;32m-> 2646\u001b[1;33m         \u001b[0mself\u001b[0m\u001b[1;33m.\u001b[0m\u001b[0mscreen\u001b[0m\u001b[1;33m.\u001b[0m\u001b[0m_incrementudc\u001b[0m\u001b[1;33m(\u001b[0m\u001b[1;33m)\u001b[0m\u001b[1;33m\u001b[0m\u001b[1;33m\u001b[0m\u001b[0m\n\u001b[0m\u001b[0;32m   2647\u001b[0m         \u001b[1;32mif\u001b[0m \u001b[0mself\u001b[0m\u001b[1;33m.\u001b[0m\u001b[0mscreen\u001b[0m\u001b[1;33m.\u001b[0m\u001b[0m_updatecounter\u001b[0m \u001b[1;33m!=\u001b[0m \u001b[1;36m0\u001b[0m\u001b[1;33m:\u001b[0m\u001b[1;33m\u001b[0m\u001b[1;33m\u001b[0m\u001b[0m\n\u001b[0;32m   2648\u001b[0m             \u001b[1;32mreturn\u001b[0m\u001b[1;33m\u001b[0m\u001b[1;33m\u001b[0m\u001b[0m\n",
            "\u001b[1;32mD:\\Anaconda\\lib\\turtle.py\u001b[0m in \u001b[0;36m_incrementudc\u001b[1;34m(self)\u001b[0m\n\u001b[0;32m   1290\u001b[0m         \u001b[1;32mif\u001b[0m \u001b[1;32mnot\u001b[0m \u001b[0mTurtleScreen\u001b[0m\u001b[1;33m.\u001b[0m\u001b[0m_RUNNING\u001b[0m\u001b[1;33m:\u001b[0m\u001b[1;33m\u001b[0m\u001b[1;33m\u001b[0m\u001b[0m\n\u001b[0;32m   1291\u001b[0m             \u001b[0mTurtleScreen\u001b[0m\u001b[1;33m.\u001b[0m\u001b[0m_RUNNING\u001b[0m \u001b[1;33m=\u001b[0m \u001b[1;32mTrue\u001b[0m\u001b[1;33m\u001b[0m\u001b[1;33m\u001b[0m\u001b[0m\n\u001b[1;32m-> 1292\u001b[1;33m             \u001b[1;32mraise\u001b[0m \u001b[0mTerminator\u001b[0m\u001b[1;33m\u001b[0m\u001b[1;33m\u001b[0m\u001b[0m\n\u001b[0m\u001b[0;32m   1293\u001b[0m         \u001b[1;32mif\u001b[0m \u001b[0mself\u001b[0m\u001b[1;33m.\u001b[0m\u001b[0m_tracing\u001b[0m \u001b[1;33m>\u001b[0m \u001b[1;36m0\u001b[0m\u001b[1;33m:\u001b[0m\u001b[1;33m\u001b[0m\u001b[1;33m\u001b[0m\u001b[0m\n\u001b[0;32m   1294\u001b[0m             \u001b[0mself\u001b[0m\u001b[1;33m.\u001b[0m\u001b[0m_updatecounter\u001b[0m \u001b[1;33m+=\u001b[0m \u001b[1;36m1\u001b[0m\u001b[1;33m\u001b[0m\u001b[1;33m\u001b[0m\u001b[0m\n",
            "\u001b[1;31mTerminator\u001b[0m: "
          ]
        }
      ]
    },
    {
      "metadata": {
        "id": "w6gDXaeyepww",
        "colab_type": "code",
        "colab": {}
      },
      "cell_type": "code",
      "source": [
        "bob.fd(100)"
      ],
      "execution_count": 0,
      "outputs": []
    },
    {
      "metadata": {
        "id": "tXp6EjZEepwz",
        "colab_type": "code",
        "outputId": "48d077f4-90d1-4d51-a389-f391ae17b557",
        "colab": {}
      },
      "cell_type": "code",
      "source": [
        "import turtle\n",
        "bob = turtle.Turtle()\n",
        "print(bob)\n",
        "turtle.mainloop()\n",
        "bob.fd(100)\n",
        "bob.lt(90)\n",
        "bob.fd(100)"
      ],
      "execution_count": 0,
      "outputs": [
        {
          "output_type": "stream",
          "text": [
            "<turtle.Turtle object at 0x00000221AF89FF28>\n"
          ],
          "name": "stdout"
        }
      ]
    },
    {
      "metadata": {
        "id": "x6UtEniDepw4",
        "colab_type": "code",
        "colab": {}
      },
      "cell_type": "code",
      "source": [
        "bob.fd(100)\n",
        "bob.lt(90)\n",
        "bob.fd(100)"
      ],
      "execution_count": 0,
      "outputs": []
    },
    {
      "metadata": {
        "id": "yru6tcMgepw8",
        "colab_type": "code",
        "colab": {}
      },
      "cell_type": "code",
      "source": [
        "def square(t, length):\n",
        "    for i in range(4):\n",
        "        t.fd(length)\n",
        "        t.lt(90)\n",
        "\n",
        "square(bob, 100)"
      ],
      "execution_count": 0,
      "outputs": []
    },
    {
      "metadata": {
        "id": "CoLT84Lqepw-",
        "colab_type": "code",
        "colab": {}
      },
      "cell_type": "code",
      "source": [
        "import math\n",
        "\n",
        "def circle(t, r):\n",
        "    circumference = 2 * math.pi * r\n",
        "    n = 50\n",
        "    length = circumference / n\n",
        "    polygon(t, n, length)"
      ],
      "execution_count": 0,
      "outputs": []
    },
    {
      "metadata": {
        "id": "23Kebk6CepxB",
        "colab_type": "code",
        "colab": {}
      },
      "cell_type": "code",
      "source": [
        "def circle(t, r):\n",
        "    circumference = 2 * math.pi * r\n",
        "    n = int(circumference / 3) + 1\n",
        "    length = circumference / n\n",
        "    polygon(t, n, length)"
      ],
      "execution_count": 0,
      "outputs": []
    },
    {
      "metadata": {
        "id": "-0X4NazOepxE",
        "colab_type": "code",
        "colab": {}
      },
      "cell_type": "code",
      "source": [
        "import turtle\n",
        "bob = turtle.Turtle()\n",
        "def polyline(t, n, length, angle):\n",
        "    \"\"\"Draws n line segments with the given length and\n",
        "    angle (in degrees) between them. t is a turtle.\n",
        "    \"\"\"\n",
        "    for i in range(n):\n",
        "        t.fd(length)\n",
        "        t.lt(angle)\n",
        "polyline(bob,3,5,60)"
      ],
      "execution_count": 0,
      "outputs": []
    },
    {
      "metadata": {
        "id": "cl5Ez3JGepxG",
        "colab_type": "code",
        "outputId": "f21dc7a0-2f66-4bfc-d1c7-f74fc747dba9",
        "colab": {}
      },
      "cell_type": "code",
      "source": [
        "import turtle\n",
        "import math\n",
        "bob = turtle.Turtle()\n",
        "def polygon(t, n, length):\n",
        "    angle = 360.0 / n\n",
        "    polyline(t, n, length, angle)\n",
        "\n",
        "def arc(t, r, angle):\n",
        "    arc_length = 2 * math.pi * r * angle / 360\n",
        "    n = int(arc_length / 3) + 1\n",
        "    step_length = arc_length / n\n",
        "    step_angle = float(angle) / n\n",
        "    polyline(t, n, step_length, step_angle)\n",
        "arc(3, 5, 60)    "
      ],
      "execution_count": 0,
      "outputs": [
        {
          "output_type": "error",
          "ename": "NameError",
          "evalue": "name 'polyline' is not defined",
          "traceback": [
            "\u001b[1;31m---------------------------------------------------------------------------\u001b[0m",
            "\u001b[1;31mNameError\u001b[0m                                 Traceback (most recent call last)",
            "\u001b[1;32m<ipython-input-3-cb87d53d23fa>\u001b[0m in \u001b[0;36m<module>\u001b[1;34m\u001b[0m\n\u001b[0;32m     12\u001b[0m     \u001b[0mstep_angle\u001b[0m \u001b[1;33m=\u001b[0m \u001b[0mfloat\u001b[0m\u001b[1;33m(\u001b[0m\u001b[0mangle\u001b[0m\u001b[1;33m)\u001b[0m \u001b[1;33m/\u001b[0m \u001b[0mn\u001b[0m\u001b[1;33m\u001b[0m\u001b[1;33m\u001b[0m\u001b[0m\n\u001b[0;32m     13\u001b[0m     \u001b[0mpolyline\u001b[0m\u001b[1;33m(\u001b[0m\u001b[0mt\u001b[0m\u001b[1;33m,\u001b[0m \u001b[0mn\u001b[0m\u001b[1;33m,\u001b[0m \u001b[0mstep_length\u001b[0m\u001b[1;33m,\u001b[0m \u001b[0mstep_angle\u001b[0m\u001b[1;33m)\u001b[0m\u001b[1;33m\u001b[0m\u001b[1;33m\u001b[0m\u001b[0m\n\u001b[1;32m---> 14\u001b[1;33m \u001b[0marc\u001b[0m\u001b[1;33m(\u001b[0m\u001b[1;36m3\u001b[0m\u001b[1;33m,\u001b[0m \u001b[1;36m5\u001b[0m\u001b[1;33m,\u001b[0m \u001b[1;36m60\u001b[0m\u001b[1;33m)\u001b[0m\u001b[1;33m\u001b[0m\u001b[1;33m\u001b[0m\u001b[0m\n\u001b[0m",
            "\u001b[1;32m<ipython-input-3-cb87d53d23fa>\u001b[0m in \u001b[0;36marc\u001b[1;34m(t, r, angle)\u001b[0m\n\u001b[0;32m     11\u001b[0m     \u001b[0mstep_length\u001b[0m \u001b[1;33m=\u001b[0m \u001b[0marc_length\u001b[0m \u001b[1;33m/\u001b[0m \u001b[0mn\u001b[0m\u001b[1;33m\u001b[0m\u001b[1;33m\u001b[0m\u001b[0m\n\u001b[0;32m     12\u001b[0m     \u001b[0mstep_angle\u001b[0m \u001b[1;33m=\u001b[0m \u001b[0mfloat\u001b[0m\u001b[1;33m(\u001b[0m\u001b[0mangle\u001b[0m\u001b[1;33m)\u001b[0m \u001b[1;33m/\u001b[0m \u001b[0mn\u001b[0m\u001b[1;33m\u001b[0m\u001b[1;33m\u001b[0m\u001b[0m\n\u001b[1;32m---> 13\u001b[1;33m     \u001b[0mpolyline\u001b[0m\u001b[1;33m(\u001b[0m\u001b[0mt\u001b[0m\u001b[1;33m,\u001b[0m \u001b[0mn\u001b[0m\u001b[1;33m,\u001b[0m \u001b[0mstep_length\u001b[0m\u001b[1;33m,\u001b[0m \u001b[0mstep_angle\u001b[0m\u001b[1;33m)\u001b[0m\u001b[1;33m\u001b[0m\u001b[1;33m\u001b[0m\u001b[0m\n\u001b[0m\u001b[0;32m     14\u001b[0m \u001b[0marc\u001b[0m\u001b[1;33m(\u001b[0m\u001b[1;36m3\u001b[0m\u001b[1;33m,\u001b[0m \u001b[1;36m5\u001b[0m\u001b[1;33m,\u001b[0m \u001b[1;36m60\u001b[0m\u001b[1;33m)\u001b[0m\u001b[1;33m\u001b[0m\u001b[1;33m\u001b[0m\u001b[0m\n",
            "\u001b[1;31mNameError\u001b[0m: name 'polyline' is not defined"
          ]
        }
      ]
    },
    {
      "metadata": {
        "id": "wYzcXvbJepxH",
        "colab_type": "code",
        "colab": {}
      },
      "cell_type": "code",
      "source": [
        "from __future__ import print_function, division\n",
        "\n",
        "import math\n",
        "import turtle\n",
        "\n",
        "\n",
        "def square(t, length):\n",
        "    \"\"\"Draws a square with sides of the given length.\n",
        "\n",
        "    Returns the Turtle to the starting position and location.\n",
        "    \"\"\"\n",
        "    for i in range(4):\n",
        "        t.fd(length)\n",
        "        t.lt(90)\n",
        "\n",
        "\n",
        "def polyline(t, n, length, angle):\n",
        "    \"\"\"Draws n line segments.\n",
        "\n",
        "    t: Turtle object\n",
        "    n: number of line segments\n",
        "    length: length of each segment\n",
        "    angle: degrees between segments\n",
        "    \"\"\"\n",
        "    for i in range(n):\n",
        "        t.fd(length)\n",
        "        t.lt(angle)\n",
        "\n",
        "\n",
        "def polygon(t, n, length):\n",
        "    \"\"\"Draws a polygon with n sides.\n",
        "\n",
        "    t: Turtle\n",
        "    n: number of sides\n",
        "    length: length of each side.\n",
        "    \"\"\"\n",
        "    angle = 360.0/n\n",
        "    polyline(t, n, length, angle)\n",
        "\n",
        "\n",
        "def arc(t, r, angle):\n",
        "    \"\"\"Draws an arc with the given radius and angle.\n",
        "\n",
        "    t: Turtle\n",
        "    r: radius\n",
        "    angle: angle subtended by the arc, in degrees\n",
        "    \"\"\"\n",
        "    arc_length = 2 * math.pi * r * abs(angle) / 360\n",
        "    n = int(arc_length / 4) + 3\n",
        "    step_length = arc_length / n\n",
        "    step_angle = float(angle) / n\n",
        "\n",
        "    # making a slight left turn before starting reduces\n",
        "    # the error caused by the linear approximation of the arc\n",
        "    t.lt(step_angle/2)\n",
        "    polyline(t, n, step_length, step_angle)\n",
        "    t.rt(step_angle/2)\n",
        "\n",
        "\n",
        "def circle(t, r):\n",
        "    \"\"\"Draws a circle with the given radius.\n",
        "\n",
        "    t: Turtle\n",
        "    r: radius\n",
        "    \"\"\"\n",
        "    arc(t, r, 360)\n",
        "\n",
        "\n",
        "# the following condition checks whether we are\n",
        "# running as a script, in which case run the test code,\n",
        "# or being imported, in which case don't.\n",
        "\n",
        "if __name__ == '__main__':\n",
        "    bob = turtle.Turtle()\n",
        "\n",
        "    # draw a circle centered on the origin\n",
        "    radius = 100\n",
        "    bob.pu()\n",
        "    bob.fd(radius)\n",
        "    bob.lt(90)\n",
        "    bob.pd()\n",
        "    circle(bob, radius)\n",
        "\n",
        "    # wait for the user to close the window\n",
        "    turtle.mainloop()"
      ],
      "execution_count": 0,
      "outputs": []
    },
    {
      "metadata": {
        "id": "b9KUGbq9epxI",
        "colab_type": "code",
        "outputId": "d75b6ba5-f3ef-46d2-88fb-661d04939e51",
        "colab": {}
      },
      "cell_type": "code",
      "source": [
        "from __future__ import print_function, division\n",
        "\n",
        "import turtle\n",
        "import math\n",
        "\n",
        "from polygon import arc\n",
        "\n",
        "\n",
        "def petal(t, r, angle):\n",
        "    \"\"\"Draws a petal using two arcs.\n",
        "\n",
        "    t: Turtle\n",
        "    r: radius of the arcs\n",
        "    angle: angle (degrees) that subtends the arcs\n",
        "    \"\"\"\n",
        "    for i in range(2):\n",
        "        arc(t, r, angle)\n",
        "        t.lt(180-angle)\n",
        "\n",
        "\n",
        "def flower(t, n, r, angle):\n",
        "    \"\"\"Draws a flower with n petals.\n",
        "\n",
        "    t: Turtle\n",
        "    n: number of petals\n",
        "    r: radius of the arcs\n",
        "    angle: angle (degrees) that subtends the arcs\n",
        "    \"\"\"\n",
        "    for i in range(n):\n",
        "        petal(t, r, angle)\n",
        "        t.lt(360.0/n)\n",
        "\n",
        "\n",
        "def move(t, length):\n",
        "    \"\"\"Move Turtle (t) forward (length) units without leaving a trail.\n",
        "    Leaves the pen down.\n",
        "    \"\"\"\n",
        "    t.pu()\n",
        "    t.fd(length)\n",
        "    t.pd()\n",
        "\n",
        "\n",
        "bob = turtle.Turtle()\n",
        "\n",
        "# draw a sequence of three flowers, as shown in the book.\n",
        "move(bob, -100)\n",
        "flower(bob, 7, 60.0, 60.0)\n",
        "\n",
        "move(bob, 100)\n",
        "flower(bob, 10, 40.0, 80.0)\n",
        "\n",
        "move(bob, 100)\n",
        "flower(bob, 20, 140.0, 20.0)\n",
        "\n",
        "bob.hideturtle()\n",
        "turtle.mainloop()"
      ],
      "execution_count": 0,
      "outputs": [
        {
          "output_type": "error",
          "ename": "ModuleNotFoundError",
          "evalue": "No module named 'polygon'",
          "traceback": [
            "\u001b[1;31m---------------------------------------------------------------------------\u001b[0m",
            "\u001b[1;31mModuleNotFoundError\u001b[0m                       Traceback (most recent call last)",
            "\u001b[1;32m<ipython-input-8-3c04cb9b5d07>\u001b[0m in \u001b[0;36m<module>\u001b[1;34m\u001b[0m\n\u001b[0;32m      4\u001b[0m \u001b[1;32mimport\u001b[0m \u001b[0mmath\u001b[0m\u001b[1;33m\u001b[0m\u001b[1;33m\u001b[0m\u001b[0m\n\u001b[0;32m      5\u001b[0m \u001b[1;33m\u001b[0m\u001b[0m\n\u001b[1;32m----> 6\u001b[1;33m \u001b[1;32mfrom\u001b[0m \u001b[0mpolygon\u001b[0m \u001b[1;32mimport\u001b[0m \u001b[0marc\u001b[0m\u001b[1;33m\u001b[0m\u001b[1;33m\u001b[0m\u001b[0m\n\u001b[0m\u001b[0;32m      7\u001b[0m \u001b[1;33m\u001b[0m\u001b[0m\n\u001b[0;32m      8\u001b[0m \u001b[1;33m\u001b[0m\u001b[0m\n",
            "\u001b[1;31mModuleNotFoundError\u001b[0m: No module named 'polygon'"
          ]
        }
      ]
    },
    {
      "metadata": {
        "id": "dPXa5V70epxL",
        "colab_type": "code",
        "colab": {}
      },
      "cell_type": "code",
      "source": [
        ""
      ],
      "execution_count": 0,
      "outputs": []
    },
    {
      "metadata": {
        "id": "P59ggWUaepxM",
        "colab_type": "code",
        "colab": {}
      },
      "cell_type": "code",
      "source": [
        ""
      ],
      "execution_count": 0,
      "outputs": []
    },
    {
      "metadata": {
        "id": "Zk2jnCz8epxO",
        "colab_type": "code",
        "outputId": "d899e27f-b891-475c-f112-85a202e38f58",
        "colab": {}
      },
      "cell_type": "code",
      "source": [
        "minutes = 105\n",
        "minutes / 60\n"
      ],
      "execution_count": 0,
      "outputs": [
        {
          "output_type": "execute_result",
          "data": {
            "text/plain": [
              "1.75"
            ]
          },
          "metadata": {
            "tags": []
          },
          "execution_count": 11
        }
      ]
    },
    {
      "metadata": {
        "id": "QClYNAE-epxP",
        "colab_type": "code",
        "outputId": "605a6979-4033-49ac-9efd-c2d416aba853",
        "colab": {}
      },
      "cell_type": "code",
      "source": [
        "minutes = 105\n",
        "hours = minutes // 60\n",
        "hours\n"
      ],
      "execution_count": 0,
      "outputs": [
        {
          "output_type": "execute_result",
          "data": {
            "text/plain": [
              "1"
            ]
          },
          "metadata": {
            "tags": []
          },
          "execution_count": 14
        }
      ]
    },
    {
      "metadata": {
        "id": "5NFipDO5epxS",
        "colab_type": "code",
        "outputId": "fd710cac-cc17-496f-ef07-c4314bbc2ec1",
        "colab": {}
      },
      "cell_type": "code",
      "source": [
        "remainder = minutes - hours * 60\n",
        "remainder"
      ],
      "execution_count": 0,
      "outputs": [
        {
          "output_type": "execute_result",
          "data": {
            "text/plain": [
              "45"
            ]
          },
          "metadata": {
            "tags": []
          },
          "execution_count": 15
        }
      ]
    },
    {
      "metadata": {
        "id": "bFVdZTN4epxT",
        "colab_type": "code",
        "outputId": "0c199fb9-1b78-44a7-add4-4974cc40e6a5",
        "colab": {}
      },
      "cell_type": "code",
      "source": [
        "remainder = minutes % 60\n",
        "remainder"
      ],
      "execution_count": 0,
      "outputs": [
        {
          "output_type": "execute_result",
          "data": {
            "text/plain": [
              "45"
            ]
          },
          "metadata": {
            "tags": []
          },
          "execution_count": 16
        }
      ]
    },
    {
      "metadata": {
        "id": "icyMwNdzepxU",
        "colab_type": "code",
        "outputId": "44b01927-9044-4502-be86-aada1fdef57b",
        "colab": {}
      },
      "cell_type": "code",
      "source": [
        "5 == 5"
      ],
      "execution_count": 0,
      "outputs": [
        {
          "output_type": "execute_result",
          "data": {
            "text/plain": [
              "True"
            ]
          },
          "metadata": {
            "tags": []
          },
          "execution_count": 17
        }
      ]
    },
    {
      "metadata": {
        "id": "Ro5a08bHepxV",
        "colab_type": "code",
        "outputId": "14641c9c-de98-4ff7-c4bd-b362d719aaa0",
        "colab": {}
      },
      "cell_type": "code",
      "source": [
        "5 == 6"
      ],
      "execution_count": 0,
      "outputs": [
        {
          "output_type": "execute_result",
          "data": {
            "text/plain": [
              "False"
            ]
          },
          "metadata": {
            "tags": []
          },
          "execution_count": 18
        }
      ]
    },
    {
      "metadata": {
        "id": "ZexUDPAGepxX",
        "colab_type": "code",
        "outputId": "d0a56110-0308-4f25-9900-7d3a2729c81d",
        "colab": {}
      },
      "cell_type": "code",
      "source": [
        "type(True)\n"
      ],
      "execution_count": 0,
      "outputs": [
        {
          "output_type": "execute_result",
          "data": {
            "text/plain": [
              "bool"
            ]
          },
          "metadata": {
            "tags": []
          },
          "execution_count": 19
        }
      ]
    },
    {
      "metadata": {
        "id": "Zopiyz7uepxY",
        "colab_type": "code",
        "outputId": "186ee180-0ccc-42d1-f99f-e19fe1a6d216",
        "colab": {}
      },
      "cell_type": "code",
      "source": [
        "type(False)"
      ],
      "execution_count": 0,
      "outputs": [
        {
          "output_type": "execute_result",
          "data": {
            "text/plain": [
              "bool"
            ]
          },
          "metadata": {
            "tags": []
          },
          "execution_count": 20
        }
      ]
    },
    {
      "metadata": {
        "id": "wokS22TCepxa",
        "colab_type": "code",
        "outputId": "59a1fffe-41c0-4d82-ab9e-047df9afc6ec",
        "colab": {}
      },
      "cell_type": "code",
      "source": [
        "42 and True"
      ],
      "execution_count": 0,
      "outputs": [
        {
          "output_type": "execute_result",
          "data": {
            "text/plain": [
              "True"
            ]
          },
          "metadata": {
            "tags": []
          },
          "execution_count": 21
        }
      ]
    },
    {
      "metadata": {
        "id": "CSC5Di3Eepxb",
        "colab_type": "code",
        "outputId": "e1f3a257-ee45-421e-c145-a4a567802ea0",
        "colab": {}
      },
      "cell_type": "code",
      "source": [
        "x=12\n",
        "if x > 0:\n",
        "    print('x is positive')"
      ],
      "execution_count": 0,
      "outputs": [
        {
          "output_type": "stream",
          "text": [
            "x is positive\n"
          ],
          "name": "stdout"
        }
      ]
    },
    {
      "metadata": {
        "id": "TgmQXN84epxc",
        "colab_type": "code",
        "outputId": "f26e2762-6f96-4a52-b832-1602065c77ea",
        "colab": {}
      },
      "cell_type": "code",
      "source": [
        "x=12\n",
        "if x % 2 == 0:\n",
        "    print('x is even')\n",
        "else:\n",
        "    print('x is odd')"
      ],
      "execution_count": 0,
      "outputs": [
        {
          "output_type": "stream",
          "text": [
            "x is even\n"
          ],
          "name": "stdout"
        }
      ]
    },
    {
      "metadata": {
        "id": "8ebqEHd7epxe",
        "colab_type": "code",
        "outputId": "7a834527-eea6-4653-a1ce-3793be903ae0",
        "colab": {}
      },
      "cell_type": "code",
      "source": [
        "x=10\n",
        "y=12\n",
        "if x < y:\n",
        "    print('x is less than y')\n",
        "elif x > y:\n",
        "    print('x is greater than y')\n",
        "else:\n",
        "    print('x and y are equal')"
      ],
      "execution_count": 0,
      "outputs": [
        {
          "output_type": "stream",
          "text": [
            "x is less than y\n"
          ],
          "name": "stdout"
        }
      ]
    },
    {
      "metadata": {
        "id": "m2VFpH07epxf",
        "colab_type": "code",
        "outputId": "76f75a14-88cd-4f9e-9c7a-71c0166e7e10",
        "colab": {}
      },
      "cell_type": "code",
      "source": [
        "if choice == 'a':\n",
        "    draw_a()\n",
        "elif choice == 'b':\n",
        "    draw_b()\n",
        "elif choice == 'c':\n",
        "    draw_c()"
      ],
      "execution_count": 0,
      "outputs": [
        {
          "output_type": "error",
          "ename": "NameError",
          "evalue": "name 'choice' is not defined",
          "traceback": [
            "\u001b[1;31m---------------------------------------------------------------------------\u001b[0m",
            "\u001b[1;31mNameError\u001b[0m                                 Traceback (most recent call last)",
            "\u001b[1;32m<ipython-input-32-4698c46dedac>\u001b[0m in \u001b[0;36m<module>\u001b[1;34m\u001b[0m\n\u001b[1;32m----> 1\u001b[1;33m \u001b[1;32mif\u001b[0m \u001b[0mchoice\u001b[0m \u001b[1;33m==\u001b[0m \u001b[1;34m'a'\u001b[0m\u001b[1;33m:\u001b[0m\u001b[1;33m\u001b[0m\u001b[1;33m\u001b[0m\u001b[0m\n\u001b[0m\u001b[0;32m      2\u001b[0m     \u001b[0mdraw_a\u001b[0m\u001b[1;33m(\u001b[0m\u001b[1;33m)\u001b[0m\u001b[1;33m\u001b[0m\u001b[1;33m\u001b[0m\u001b[0m\n\u001b[0;32m      3\u001b[0m \u001b[1;32melif\u001b[0m \u001b[0mchoice\u001b[0m \u001b[1;33m==\u001b[0m \u001b[1;34m'b'\u001b[0m\u001b[1;33m:\u001b[0m\u001b[1;33m\u001b[0m\u001b[1;33m\u001b[0m\u001b[0m\n\u001b[0;32m      4\u001b[0m     \u001b[0mdraw_b\u001b[0m\u001b[1;33m(\u001b[0m\u001b[1;33m)\u001b[0m\u001b[1;33m\u001b[0m\u001b[1;33m\u001b[0m\u001b[0m\n\u001b[0;32m      5\u001b[0m \u001b[1;32melif\u001b[0m \u001b[0mchoice\u001b[0m \u001b[1;33m==\u001b[0m \u001b[1;34m'c'\u001b[0m\u001b[1;33m:\u001b[0m\u001b[1;33m\u001b[0m\u001b[1;33m\u001b[0m\u001b[0m\n",
            "\u001b[1;31mNameError\u001b[0m: name 'choice' is not defined"
          ]
        }
      ]
    },
    {
      "metadata": {
        "id": "U642fBtwepxg",
        "colab_type": "code",
        "outputId": "bd2c0ebd-2f9f-43c0-bc13-f96ff8be88c9",
        "colab": {}
      },
      "cell_type": "code",
      "source": [
        "if x == y:\n",
        "    print('x and y are equal')\n",
        "else:\n",
        "    if x < y:\n",
        "        print('x is less than y')\n",
        "    else:\n",
        "        print('x is greater than y')"
      ],
      "execution_count": 0,
      "outputs": [
        {
          "output_type": "stream",
          "text": [
            "x is less than y\n"
          ],
          "name": "stdout"
        }
      ]
    },
    {
      "metadata": {
        "id": "ax-m5_z2epxi",
        "colab_type": "code",
        "colab": {}
      },
      "cell_type": "code",
      "source": [
        "if 0 < x:\n",
        "    if x < 10:\n",
        "        print('x is a positive single-digit number.')\n",
        "x=9"
      ],
      "execution_count": 0,
      "outputs": []
    },
    {
      "metadata": {
        "id": "a12Sib7tepxk",
        "colab_type": "code",
        "outputId": "29a6d1be-243e-4c6f-ef35-9a3a2279bab2",
        "colab": {}
      },
      "cell_type": "code",
      "source": [
        "if 0 < x and x < 10:\n",
        "    print('x is a positive single-digit number.')"
      ],
      "execution_count": 0,
      "outputs": [
        {
          "output_type": "stream",
          "text": [
            "x is a positive single-digit number.\n"
          ],
          "name": "stdout"
        }
      ]
    },
    {
      "metadata": {
        "id": "qb2_dWQRepxm",
        "colab_type": "code",
        "outputId": "0f399d3e-0b96-42a0-9c39-0e2eab188bf0",
        "colab": {}
      },
      "cell_type": "code",
      "source": [
        "if 0 < x < 10:\n",
        "    print('x is a positive single-digit number.')"
      ],
      "execution_count": 0,
      "outputs": [
        {
          "output_type": "stream",
          "text": [
            "x is a positive single-digit number.\n"
          ],
          "name": "stdout"
        }
      ]
    },
    {
      "metadata": {
        "id": "PAH2zvRAepxo",
        "colab_type": "code",
        "outputId": "a670e59e-2b4a-4f94-bad3-fc2c4bd5817e",
        "colab": {}
      },
      "cell_type": "code",
      "source": [
        "def countdown(n):\n",
        "    if n <= 0:\n",
        "        print('Blastoff!')\n",
        "    else:\n",
        "        print(n)\n",
        "        countdown(n-1)\n",
        "countdown(3)"
      ],
      "execution_count": 0,
      "outputs": [
        {
          "output_type": "stream",
          "text": [
            "3\n",
            "2\n",
            "1\n",
            "Blastoff!\n"
          ],
          "name": "stdout"
        }
      ]
    },
    {
      "metadata": {
        "id": "9XU_sC8kepxr",
        "colab_type": "code",
        "outputId": "29a6d857-c0ea-4705-81c5-555a39e35702",
        "colab": {}
      },
      "cell_type": "code",
      "source": [
        "def print_n(s, n):\n",
        "    if n <= 0:\n",
        "        return\n",
        "    print(s)\n",
        "    print_n(s, n-1)\n",
        "print_n(\"ljy\",3)"
      ],
      "execution_count": 0,
      "outputs": [
        {
          "output_type": "stream",
          "text": [
            "ljy\n",
            "ljy\n",
            "ljy\n"
          ],
          "name": "stdout"
        }
      ]
    },
    {
      "metadata": {
        "id": "TVhRP3Jsepxt",
        "colab_type": "code",
        "colab": {}
      },
      "cell_type": "code",
      "source": [
        "def recurse():\n",
        "    recurse()"
      ],
      "execution_count": 0,
      "outputs": []
    },
    {
      "metadata": {
        "id": "VIcZy8I1epxw",
        "colab_type": "code",
        "outputId": "6250e257-bb9f-4616-92bd-ee89613750b1",
        "colab": {}
      },
      "cell_type": "code",
      "source": [
        "text = input()\n",
        "text"
      ],
      "execution_count": 0,
      "outputs": [
        {
          "output_type": "stream",
          "text": [
            "dyy\n"
          ],
          "name": "stdout"
        },
        {
          "output_type": "execute_result",
          "data": {
            "text/plain": [
              "'dyy'"
            ]
          },
          "metadata": {
            "tags": []
          },
          "execution_count": 56
        }
      ]
    },
    {
      "metadata": {
        "id": "4st27mNDepxx",
        "colab_type": "code",
        "outputId": "113710c8-8d03-4083-f1cc-64d7a08a5377",
        "colab": {}
      },
      "cell_type": "code",
      "source": [
        "name = input('What...is your name?\\n')\n",
        "\n",
        "name\n"
      ],
      "execution_count": 0,
      "outputs": [
        {
          "output_type": "stream",
          "text": [
            "What...is your name?\n",
            "Arthur, King of the Britons!\n"
          ],
          "name": "stdout"
        },
        {
          "output_type": "execute_result",
          "data": {
            "text/plain": [
              "'Arthur, King of the Britons!'"
            ]
          },
          "metadata": {
            "tags": []
          },
          "execution_count": 55
        }
      ]
    },
    {
      "metadata": {
        "id": "1M7IIGV8epxy",
        "colab_type": "code",
        "outputId": "ce4e5256-e9d2-4c6e-e24b-169372a628f4",
        "colab": {}
      },
      "cell_type": "code",
      "source": [
        "prompt = 'What...is the airspeed velocity of an unladen swallow?\\n'\n",
        "speed = input(prompt)\n",
        "int(speed)\n"
      ],
      "execution_count": 0,
      "outputs": [
        {
          "output_type": "stream",
          "text": [
            "What...is the airspeed velocity of an unladen swallow?\n",
            "34\n"
          ],
          "name": "stdout"
        },
        {
          "output_type": "execute_result",
          "data": {
            "text/plain": [
              "34"
            ]
          },
          "metadata": {
            "tags": []
          },
          "execution_count": 59
        }
      ]
    },
    {
      "metadata": {
        "id": "zbJ_JtwHepx0",
        "colab_type": "code",
        "outputId": "9942d7b5-d8e3-4064-9160-61d80b38257a",
        "colab": {}
      },
      "cell_type": "code",
      "source": [
        "speed = input(prompt)\n",
        "What...is the airspeed velocity of an unladen swallow?\n",
        "\n",
        "int(speed)\n"
      ],
      "execution_count": 0,
      "outputs": [
        {
          "output_type": "stream",
          "text": [
            "What...is the airspeed velocity of an unladen swallow?\n",
            "What do you mean, an African or a European swallow?\n",
            "Object `swallow` not found.\n"
          ],
          "name": "stdout"
        },
        {
          "output_type": "error",
          "ename": "ValueError",
          "evalue": "invalid literal for int() with base 10: 'What do you mean, an African or a European swallow?'",
          "traceback": [
            "\u001b[1;31m---------------------------------------------------------------------------\u001b[0m",
            "\u001b[1;31mValueError\u001b[0m                                Traceback (most recent call last)",
            "\u001b[1;32m<ipython-input-60-7472318b105e>\u001b[0m in \u001b[0;36m<module>\u001b[1;34m\u001b[0m\n\u001b[0;32m      2\u001b[0m \u001b[0mget_ipython\u001b[0m\u001b[1;33m(\u001b[0m\u001b[1;33m)\u001b[0m\u001b[1;33m.\u001b[0m\u001b[0mrun_line_magic\u001b[0m\u001b[1;33m(\u001b[0m\u001b[1;34m'pinfo'\u001b[0m\u001b[1;33m,\u001b[0m \u001b[1;34m'swallow'\u001b[0m\u001b[1;33m)\u001b[0m\u001b[1;33m\u001b[0m\u001b[1;33m\u001b[0m\u001b[0m\n\u001b[0;32m      3\u001b[0m \u001b[1;33m\u001b[0m\u001b[0m\n\u001b[1;32m----> 4\u001b[1;33m \u001b[0mint\u001b[0m\u001b[1;33m(\u001b[0m\u001b[0mspeed\u001b[0m\u001b[1;33m)\u001b[0m\u001b[1;33m\u001b[0m\u001b[1;33m\u001b[0m\u001b[0m\n\u001b[0m",
            "\u001b[1;31mValueError\u001b[0m: invalid literal for int() with base 10: 'What do you mean, an African or a European swallow?'"
          ]
        }
      ]
    },
    {
      "metadata": {
        "id": "edVLCp5Xepx2",
        "colab_type": "code",
        "outputId": "752eda90-1c22-4732-a49f-30b175140d47",
        "colab": {}
      },
      "cell_type": "code",
      "source": [
        " x = 5\n",
        "  y = 6"
      ],
      "execution_count": 0,
      "outputs": [
        {
          "output_type": "error",
          "ename": "IndentationError",
          "evalue": "unexpected indent (<ipython-input-61-33618411f379>, line 2)",
          "traceback": [
            "\u001b[1;36m  File \u001b[1;32m\"<ipython-input-61-33618411f379>\"\u001b[1;36m, line \u001b[1;32m2\u001b[0m\n\u001b[1;33m    y = 6\u001b[0m\n\u001b[1;37m    ^\u001b[0m\n\u001b[1;31mIndentationError\u001b[0m\u001b[1;31m:\u001b[0m unexpected indent\n"
          ]
        }
      ]
    },
    {
      "metadata": {
        "id": "ASk5Sc5yepx4",
        "colab_type": "code",
        "outputId": "b3a9de8e-b73c-40cb-9777-147a898957ad",
        "colab": {}
      },
      "cell_type": "code",
      "source": [
        "import math\n",
        "signal_power = 9\n",
        "noise_power = 10\n",
        "ratio = signal_power / noise_power\n",
        "decibels = 10 * math.log10(ratio)\n",
        "print(decibels)"
      ],
      "execution_count": 0,
      "outputs": [
        {
          "output_type": "stream",
          "text": [
            "-0.4575749056067512\n"
          ],
          "name": "stdout"
        }
      ]
    },
    {
      "metadata": {
        "id": "TnmB7yjSepx5",
        "colab_type": "code",
        "outputId": "402b89ed-47ac-481d-c744-1a854e06148e",
        "colab": {}
      },
      "cell_type": "code",
      "source": [
        "import time\n",
        "time.time()"
      ],
      "execution_count": 0,
      "outputs": [
        {
          "output_type": "execute_result",
          "data": {
            "text/plain": [
              "1548109338.9877985"
            ]
          },
          "metadata": {
            "tags": []
          },
          "execution_count": 9
        }
      ]
    },
    {
      "metadata": {
        "id": "ihPfo9Goepx8",
        "colab_type": "code",
        "outputId": "8c385225-ae8c-47aa-fc4b-155cc735a885",
        "colab": {}
      },
      "cell_type": "code",
      "source": [
        "def draw(t, length, n):\n",
        "    if n == 0:\n",
        "        return\n",
        "    angle = 50\n",
        "    fd(t, length*n)\n",
        "    lt(t, angle)\n",
        "    draw(t, length, n-1)\n",
        "    rt(t, 2*angle)\n",
        "    draw(t, length, n-1)\n",
        "    lt(t, angle)\n",
        "    bk(t, length*n)\n",
        "draw(3,5,6)"
      ],
      "execution_count": 0,
      "outputs": [
        {
          "output_type": "error",
          "ename": "NameError",
          "evalue": "name 'fd' is not defined",
          "traceback": [
            "\u001b[1;31m---------------------------------------------------------------------------\u001b[0m",
            "\u001b[1;31mNameError\u001b[0m                                 Traceback (most recent call last)",
            "\u001b[1;32m<ipython-input-12-4d94effbccdb>\u001b[0m in \u001b[0;36m<module>\u001b[1;34m\u001b[0m\n\u001b[0;32m     10\u001b[0m     \u001b[0mlt\u001b[0m\u001b[1;33m(\u001b[0m\u001b[0mt\u001b[0m\u001b[1;33m,\u001b[0m \u001b[0mangle\u001b[0m\u001b[1;33m)\u001b[0m\u001b[1;33m\u001b[0m\u001b[1;33m\u001b[0m\u001b[0m\n\u001b[0;32m     11\u001b[0m     \u001b[0mbk\u001b[0m\u001b[1;33m(\u001b[0m\u001b[0mt\u001b[0m\u001b[1;33m,\u001b[0m \u001b[0mlength\u001b[0m\u001b[1;33m*\u001b[0m\u001b[0mn\u001b[0m\u001b[1;33m)\u001b[0m\u001b[1;33m\u001b[0m\u001b[1;33m\u001b[0m\u001b[0m\n\u001b[1;32m---> 12\u001b[1;33m \u001b[0mdraw\u001b[0m\u001b[1;33m(\u001b[0m\u001b[1;36m3\u001b[0m\u001b[1;33m,\u001b[0m\u001b[1;36m5\u001b[0m\u001b[1;33m,\u001b[0m\u001b[1;36m6\u001b[0m\u001b[1;33m)\u001b[0m\u001b[1;33m\u001b[0m\u001b[1;33m\u001b[0m\u001b[0m\n\u001b[0m",
            "\u001b[1;32m<ipython-input-12-4d94effbccdb>\u001b[0m in \u001b[0;36mdraw\u001b[1;34m(t, length, n)\u001b[0m\n\u001b[0;32m      3\u001b[0m         \u001b[1;32mreturn\u001b[0m\u001b[1;33m\u001b[0m\u001b[1;33m\u001b[0m\u001b[0m\n\u001b[0;32m      4\u001b[0m     \u001b[0mangle\u001b[0m \u001b[1;33m=\u001b[0m \u001b[1;36m50\u001b[0m\u001b[1;33m\u001b[0m\u001b[1;33m\u001b[0m\u001b[0m\n\u001b[1;32m----> 5\u001b[1;33m     \u001b[0mfd\u001b[0m\u001b[1;33m(\u001b[0m\u001b[0mt\u001b[0m\u001b[1;33m,\u001b[0m \u001b[0mlength\u001b[0m\u001b[1;33m*\u001b[0m\u001b[0mn\u001b[0m\u001b[1;33m)\u001b[0m\u001b[1;33m\u001b[0m\u001b[1;33m\u001b[0m\u001b[0m\n\u001b[0m\u001b[0;32m      6\u001b[0m     \u001b[0mlt\u001b[0m\u001b[1;33m(\u001b[0m\u001b[0mt\u001b[0m\u001b[1;33m,\u001b[0m \u001b[0mangle\u001b[0m\u001b[1;33m)\u001b[0m\u001b[1;33m\u001b[0m\u001b[1;33m\u001b[0m\u001b[0m\n\u001b[0;32m      7\u001b[0m     \u001b[0mdraw\u001b[0m\u001b[1;33m(\u001b[0m\u001b[0mt\u001b[0m\u001b[1;33m,\u001b[0m \u001b[0mlength\u001b[0m\u001b[1;33m,\u001b[0m \u001b[0mn\u001b[0m\u001b[1;33m-\u001b[0m\u001b[1;36m1\u001b[0m\u001b[1;33m)\u001b[0m\u001b[1;33m\u001b[0m\u001b[1;33m\u001b[0m\u001b[0m\n",
            "\u001b[1;31mNameError\u001b[0m: name 'fd' is not defined"
          ]
        }
      ]
    },
    {
      "metadata": {
        "id": "zHzDOEnbepx9",
        "colab_type": "code",
        "outputId": "6dcb4606-e48f-41c1-f1ed-0da7927f17ba",
        "colab": {}
      },
      "cell_type": "code",
      "source": [
        "def recurse(n, s):\n",
        "    if n == 0:\n",
        "        print(s)\n",
        "    else:\n",
        "        recurse(n-1, n+s)\n",
        "\n",
        "recurse(4, 2)"
      ],
      "execution_count": 0,
      "outputs": [
        {
          "output_type": "stream",
          "text": [
            "12\n"
          ],
          "name": "stdout"
        }
      ]
    },
    {
      "metadata": {
        "id": "FZUZQwVYepx-",
        "colab_type": "code",
        "colab": {}
      },
      "cell_type": "code",
      "source": [
        ""
      ],
      "execution_count": 0,
      "outputs": []
    },
    {
      "metadata": {
        "id": "OSDrnivHepyA",
        "colab_type": "code",
        "colab": {}
      },
      "cell_type": "code",
      "source": [
        ""
      ],
      "execution_count": 0,
      "outputs": []
    },
    {
      "metadata": {
        "id": "ixJAPgy2epyB",
        "colab_type": "code",
        "colab": {}
      },
      "cell_type": "code",
      "source": [
        ""
      ],
      "execution_count": 0,
      "outputs": []
    },
    {
      "metadata": {
        "id": "X8mEwKxcepyD",
        "colab_type": "code",
        "outputId": "ea81cf14-52b9-45e4-e228-672eff43ec98",
        "colab": {}
      },
      "cell_type": "code",
      "source": [
        "import math\n",
        "e = math.exp(1.0)\n",
        "height = radius * math.sin(radians)"
      ],
      "execution_count": 0,
      "outputs": [
        {
          "output_type": "error",
          "ename": "NameError",
          "evalue": "name 'radius' is not defined",
          "traceback": [
            "\u001b[1;31m---------------------------------------------------------------------------\u001b[0m",
            "\u001b[1;31mNameError\u001b[0m                                 Traceback (most recent call last)",
            "\u001b[1;32m<ipython-input-3-438bad3eba75>\u001b[0m in \u001b[0;36m<module>\u001b[1;34m\u001b[0m\n\u001b[0;32m      1\u001b[0m \u001b[1;32mimport\u001b[0m \u001b[0mmath\u001b[0m\u001b[1;33m\u001b[0m\u001b[1;33m\u001b[0m\u001b[0m\n\u001b[0;32m      2\u001b[0m \u001b[0me\u001b[0m \u001b[1;33m=\u001b[0m \u001b[0mmath\u001b[0m\u001b[1;33m.\u001b[0m\u001b[0mexp\u001b[0m\u001b[1;33m(\u001b[0m\u001b[1;36m1.0\u001b[0m\u001b[1;33m)\u001b[0m\u001b[1;33m\u001b[0m\u001b[1;33m\u001b[0m\u001b[0m\n\u001b[1;32m----> 3\u001b[1;33m \u001b[0mheight\u001b[0m \u001b[1;33m=\u001b[0m \u001b[0mradius\u001b[0m \u001b[1;33m*\u001b[0m \u001b[0mmath\u001b[0m\u001b[1;33m.\u001b[0m\u001b[0msin\u001b[0m\u001b[1;33m(\u001b[0m\u001b[0mradians\u001b[0m\u001b[1;33m)\u001b[0m\u001b[1;33m\u001b[0m\u001b[1;33m\u001b[0m\u001b[0m\n\u001b[0m",
            "\u001b[1;31mNameError\u001b[0m: name 'radius' is not defined"
          ]
        }
      ]
    },
    {
      "metadata": {
        "id": "6alllRaQepyF",
        "colab_type": "code",
        "colab": {}
      },
      "cell_type": "code",
      "source": [
        "def area(radius):\n",
        "    a = math.pi * radius**2\n",
        "    return a"
      ],
      "execution_count": 0,
      "outputs": []
    },
    {
      "metadata": {
        "id": "CJ-4pfpoepyG",
        "colab_type": "code",
        "colab": {}
      },
      "cell_type": "code",
      "source": [
        "def area(radius):\n",
        "    return math.pi * radius**2"
      ],
      "execution_count": 0,
      "outputs": []
    },
    {
      "metadata": {
        "id": "kJ_un3J8epyI",
        "colab_type": "code",
        "outputId": "180c53e1-157f-4b91-aaff-460ac946f0be",
        "colab": {}
      },
      "cell_type": "code",
      "source": [
        "def absolute_value(x):\n",
        "    if x < 0:\n",
        "        return -x\n",
        "    else:\n",
        "        return x\n",
        "absolute_value(0)"
      ],
      "execution_count": 0,
      "outputs": [
        {
          "output_type": "execute_result",
          "data": {
            "text/plain": [
              "0"
            ]
          },
          "metadata": {
            "tags": []
          },
          "execution_count": 7
        }
      ]
    },
    {
      "metadata": {
        "id": "33cgaaIbepyJ",
        "colab_type": "code",
        "outputId": "6c564259-2e91-49b0-9713-ae48876be6ea",
        "colab": {}
      },
      "cell_type": "code",
      "source": [
        "absolute_value(-9)"
      ],
      "execution_count": 0,
      "outputs": [
        {
          "output_type": "execute_result",
          "data": {
            "text/plain": [
              "9"
            ]
          },
          "metadata": {
            "tags": []
          },
          "execution_count": 8
        }
      ]
    },
    {
      "metadata": {
        "id": "E3cICSyQepyK",
        "colab_type": "code",
        "colab": {}
      },
      "cell_type": "code",
      "source": [
        "def distance(x1, y1, x2, y2):\n",
        "    return 0.0"
      ],
      "execution_count": 0,
      "outputs": []
    },
    {
      "metadata": {
        "id": "d4ZDKZ61epyL",
        "colab_type": "code",
        "outputId": "2280293b-da6d-47e9-a3c3-c6603d946523",
        "colab": {}
      },
      "cell_type": "code",
      "source": [
        "distance(1, 2, 4, 6)"
      ],
      "execution_count": 0,
      "outputs": [
        {
          "output_type": "execute_result",
          "data": {
            "text/plain": [
              "0.0"
            ]
          },
          "metadata": {
            "tags": []
          },
          "execution_count": 10
        }
      ]
    },
    {
      "metadata": {
        "id": "tnceR7NqepyM",
        "colab_type": "code",
        "colab": {}
      },
      "cell_type": "code",
      "source": [
        "def distance(x1, y1, x2, y2):\n",
        "    dx = x2 - x1\n",
        "    dy = y2 - y1\n",
        "    print('dx is', dx)\n",
        "    print('dy is', dy)\n",
        "    return 0.0"
      ],
      "execution_count": 0,
      "outputs": []
    },
    {
      "metadata": {
        "id": "TzzN4VMyepyN",
        "colab_type": "code",
        "outputId": "255cdfe1-2b48-48ee-8741-9d1e880d444b",
        "colab": {}
      },
      "cell_type": "code",
      "source": [
        "distance(1, 2, 4, 6)"
      ],
      "execution_count": 0,
      "outputs": [
        {
          "output_type": "stream",
          "text": [
            "dx is 3\n",
            "dy is 4\n"
          ],
          "name": "stdout"
        },
        {
          "output_type": "execute_result",
          "data": {
            "text/plain": [
              "0.0"
            ]
          },
          "metadata": {
            "tags": []
          },
          "execution_count": 12
        }
      ]
    },
    {
      "metadata": {
        "id": "vKvD54u7epyQ",
        "colab_type": "code",
        "outputId": "55e4a7ce-49a5-4478-d992-9e5d7596c58f",
        "colab": {}
      },
      "cell_type": "code",
      "source": [
        "def distance(x1, y1, x2, y2):\n",
        "    dx = x2 - x1\n",
        "    dy = y2 - y1\n",
        "    dsquared = dx**2 + dy**2\n",
        "    print('dsquared is: ', dsquared)\n",
        "    return 0.0\n",
        "distance(1, 2, 4, 6)"
      ],
      "execution_count": 0,
      "outputs": [
        {
          "output_type": "stream",
          "text": [
            "dsquared is:  25\n"
          ],
          "name": "stdout"
        },
        {
          "output_type": "execute_result",
          "data": {
            "text/plain": [
              "0.0"
            ]
          },
          "metadata": {
            "tags": []
          },
          "execution_count": 14
        }
      ]
    },
    {
      "metadata": {
        "id": "S2j7u2ZsepyR",
        "colab_type": "code",
        "outputId": "626936d3-4d35-426e-ec70-30302bc9067c",
        "colab": {}
      },
      "cell_type": "code",
      "source": [
        "def distance(x1, y1, x2, y2):\n",
        "    dx = x2 - x1\n",
        "    dy = y2 - y1\n",
        "    dsquared = dx**2 + dy**2\n",
        "    result = math.sqrt(dsquared)\n",
        "    return result\n",
        "distance(1, 2, 4, 6)"
      ],
      "execution_count": 0,
      "outputs": [
        {
          "output_type": "execute_result",
          "data": {
            "text/plain": [
              "5.0"
            ]
          },
          "metadata": {
            "tags": []
          },
          "execution_count": 16
        }
      ]
    },
    {
      "metadata": {
        "id": "j2PqAJ1VepyT",
        "colab_type": "code",
        "outputId": "2cb1101a-7f1e-40d6-f4ff-5d3beb677909",
        "colab": {}
      },
      "cell_type": "code",
      "source": [
        "radius = distance(xc, yc, xp, yp)"
      ],
      "execution_count": 0,
      "outputs": [
        {
          "output_type": "error",
          "ename": "NameError",
          "evalue": "name 'xc' is not defined",
          "traceback": [
            "\u001b[1;31m---------------------------------------------------------------------------\u001b[0m",
            "\u001b[1;31mNameError\u001b[0m                                 Traceback (most recent call last)",
            "\u001b[1;32m<ipython-input-17-13acf7bfb877>\u001b[0m in \u001b[0;36m<module>\u001b[1;34m\u001b[0m\n\u001b[1;32m----> 1\u001b[1;33m \u001b[0mradius\u001b[0m \u001b[1;33m=\u001b[0m \u001b[0mdistance\u001b[0m\u001b[1;33m(\u001b[0m\u001b[0mxc\u001b[0m\u001b[1;33m,\u001b[0m \u001b[0myc\u001b[0m\u001b[1;33m,\u001b[0m \u001b[0mxp\u001b[0m\u001b[1;33m,\u001b[0m \u001b[0myp\u001b[0m\u001b[1;33m)\u001b[0m\u001b[1;33m\u001b[0m\u001b[1;33m\u001b[0m\u001b[0m\n\u001b[0m",
            "\u001b[1;31mNameError\u001b[0m: name 'xc' is not defined"
          ]
        }
      ]
    },
    {
      "metadata": {
        "id": "qB6_tpxpepyU",
        "colab_type": "code",
        "outputId": "b2f9f55d-ec9d-47a5-fb6f-db8f075ed57b",
        "colab": {}
      },
      "cell_type": "code",
      "source": [
        "def circle_area(xc, yc, xp, yp):\n",
        "    radius = distance(xc, yc, xp, yp)\n",
        "    result = area(radius)\n",
        "    return result\n",
        "\n",
        "circle_area(1,5,6,9)"
      ],
      "execution_count": 0,
      "outputs": [
        {
          "output_type": "execute_result",
          "data": {
            "text/plain": [
              "128.8052987971815"
            ]
          },
          "metadata": {
            "tags": []
          },
          "execution_count": 22
        }
      ]
    },
    {
      "metadata": {
        "id": "w7FMxULPepyV",
        "colab_type": "code",
        "colab": {}
      },
      "cell_type": "code",
      "source": [
        "def is_divisible(x, y):\n",
        "    if x % y == 0:\n",
        "        return True\n",
        "    else:\n",
        "        return False"
      ],
      "execution_count": 0,
      "outputs": []
    },
    {
      "metadata": {
        "id": "Vq82k9HDepyX",
        "colab_type": "code",
        "outputId": "ab8a2dfc-a12f-492e-ee25-80c17b1a115e",
        "colab": {}
      },
      "cell_type": "code",
      "source": [
        "is_divisible(6, 4)"
      ],
      "execution_count": 0,
      "outputs": [
        {
          "output_type": "execute_result",
          "data": {
            "text/plain": [
              "False"
            ]
          },
          "metadata": {
            "tags": []
          },
          "execution_count": 24
        }
      ]
    },
    {
      "metadata": {
        "id": "KY7fZwzpepyY",
        "colab_type": "code",
        "outputId": "fd516caa-be25-4fab-ff81-cfe3bfbc263d",
        "colab": {}
      },
      "cell_type": "code",
      "source": [
        "is_divisible(6, 3)"
      ],
      "execution_count": 0,
      "outputs": [
        {
          "output_type": "execute_result",
          "data": {
            "text/plain": [
              "True"
            ]
          },
          "metadata": {
            "tags": []
          },
          "execution_count": 25
        }
      ]
    },
    {
      "metadata": {
        "id": "JYNQxG_Vepyb",
        "colab_type": "code",
        "colab": {}
      },
      "cell_type": "code",
      "source": [
        "def is_divisible(x, y):\n",
        "    return x % y == 0\n",
        "    if is_divisible(x, y) == True:\n",
        "        print('x is divisible by y')"
      ],
      "execution_count": 0,
      "outputs": []
    },
    {
      "metadata": {
        "id": "q1lr0xPLepyj",
        "colab_type": "code",
        "outputId": "0083d202-2bac-4fa1-cf15-dd2acf6e7f4e",
        "colab": {}
      },
      "cell_type": "code",
      "source": [
        "def factorial(n):\n",
        "    if n == 0:\n",
        "        return 1\n",
        "    else:\n",
        "        recurse = factorial(n-1)\n",
        "        result = n * recurse\n",
        "        return result\n",
        "factorial(4)"
      ],
      "execution_count": 0,
      "outputs": [
        {
          "output_type": "execute_result",
          "data": {
            "text/plain": [
              "24"
            ]
          },
          "metadata": {
            "tags": []
          },
          "execution_count": 44
        }
      ]
    },
    {
      "metadata": {
        "id": "SWE5wJorepym",
        "colab_type": "code",
        "outputId": "db6b0eb3-4816-464c-b610-5bb5e4905b98",
        "colab": {}
      },
      "cell_type": "code",
      "source": [
        "def fibonacci(n):\n",
        "    if n == 0:\n",
        "        return 0\n",
        "    elif  n == 1:\n",
        "        return 1\n",
        "    else:\n",
        "        return fibonacci(n-1) + fibonacci(n-2)\n",
        "fibonacci(4)"
      ],
      "execution_count": 0,
      "outputs": [
        {
          "output_type": "execute_result",
          "data": {
            "text/plain": [
              "3"
            ]
          },
          "metadata": {
            "tags": []
          },
          "execution_count": 41
        }
      ]
    },
    {
      "metadata": {
        "id": "GUqiFp3wepyq",
        "colab_type": "code",
        "outputId": "55e2bb95-d414-4ed2-ea7f-e5193fce2e45",
        "colab": {}
      },
      "cell_type": "code",
      "source": [
        "def factorial (n):\n",
        "    if not isinstance(n, int):\n",
        "        print('Factorial is only defined for integers.')\n",
        "        return None\n",
        "    elif n < 0:\n",
        "        print('Factorial is not defined for negative integers.')\n",
        "        return None\n",
        "    elif n == 0:\n",
        "        return 1\n",
        "    else:\n",
        "        return n * factorial(n-1)\n",
        "factorial (1.5)"
      ],
      "execution_count": 0,
      "outputs": [
        {
          "output_type": "stream",
          "text": [
            "Factorial is only defined for integers.\n"
          ],
          "name": "stdout"
        }
      ]
    },
    {
      "metadata": {
        "id": "Y4hsaIw5epys",
        "colab_type": "code",
        "outputId": "891846a2-32da-4653-88d5-52d878ba3b60",
        "colab": {}
      },
      "cell_type": "code",
      "source": [
        "factorial (-2)"
      ],
      "execution_count": 0,
      "outputs": [
        {
          "output_type": "stream",
          "text": [
            "Factorial is not defined for negative integers.\n"
          ],
          "name": "stdout"
        }
      ]
    },
    {
      "metadata": {
        "id": "6GyguswXepyy",
        "colab_type": "code",
        "outputId": "19ef64a2-ca8a-48a6-d616-619eece6b667",
        "colab": {}
      },
      "cell_type": "code",
      "source": [
        "factorial('fred')"
      ],
      "execution_count": 0,
      "outputs": [
        {
          "output_type": "stream",
          "text": [
            "Factorial is only defined for integers.\n"
          ],
          "name": "stdout"
        }
      ]
    },
    {
      "metadata": {
        "id": "9-s_ClRrepy4",
        "colab_type": "code",
        "colab": {}
      },
      "cell_type": "code",
      "source": [
        "def factorial(n):\n",
        "    space = ' ' * (4 * n)\n",
        "    print(space, 'factorial', n)\n",
        "    if n == 0:\n",
        "        print(space, 'returning 1')\n",
        "        return 1\n",
        "    else:\n",
        "        recurse = factorial(n-1)\n",
        "        result = n * recurse\n",
        "        print(space, 'returning', result)\n",
        "        return result"
      ],
      "execution_count": 0,
      "outputs": []
    },
    {
      "metadata": {
        "id": "iJWaKYk6epy5",
        "colab_type": "code",
        "outputId": "ad1b273c-4763-41dc-9ef8-9ad1cc1686de",
        "colab": {}
      },
      "cell_type": "code",
      "source": [
        "factorial(3)"
      ],
      "execution_count": 0,
      "outputs": [
        {
          "output_type": "stream",
          "text": [
            "             factorial 3\n",
            "         factorial 2\n",
            "     factorial 1\n",
            " factorial 0\n",
            " returning 1\n",
            "     returning 1\n",
            "         returning 2\n",
            "             returning 6\n"
          ],
          "name": "stdout"
        },
        {
          "output_type": "execute_result",
          "data": {
            "text/plain": [
              "6"
            ]
          },
          "metadata": {
            "tags": []
          },
          "execution_count": 50
        }
      ]
    },
    {
      "metadata": {
        "id": "XFSv-KUxepy8",
        "colab_type": "code",
        "outputId": "dbf69205-b4fa-4099-8a2e-b08f297eb78e",
        "colab": {}
      },
      "cell_type": "code",
      "source": [
        "def b(z):\n",
        "    prod = a(z, z)\n",
        "    print(z, prod)\n",
        "    return prod\n",
        "\n",
        "def a(x, y):\n",
        "    x = x + 1\n",
        "    return x * y\n",
        "\n",
        "def c(x, y, z):\n",
        "    total = x + y + z\n",
        "    square = b(total)**2\n",
        "    return square\n",
        "\n",
        "x = 1\n",
        "y = x + 1\n",
        "print(c(x, y+3, x+y))"
      ],
      "execution_count": 0,
      "outputs": [
        {
          "output_type": "stream",
          "text": [
            "9 90\n",
            "8100\n"
          ],
          "name": "stdout"
        }
      ]
    },
    {
      "metadata": {
        "id": "NeEgtWCAepy-",
        "colab_type": "code",
        "colab": {}
      },
      "cell_type": "code",
      "source": [
        ""
      ],
      "execution_count": 0,
      "outputs": []
    },
    {
      "metadata": {
        "id": "PicofI9iepzA",
        "colab_type": "code",
        "colab": {}
      },
      "cell_type": "code",
      "source": [
        ""
      ],
      "execution_count": 0,
      "outputs": []
    },
    {
      "metadata": {
        "id": "BTYiE2aDepzC",
        "colab_type": "code",
        "outputId": "cde6ee74-aa88-447b-bab3-436546e61a51",
        "colab": {}
      },
      "cell_type": "code",
      "source": [
        "a = 5\n",
        "b = a    \n",
        "a = 3  \n",
        "b\n"
      ],
      "execution_count": 0,
      "outputs": [
        {
          "output_type": "execute_result",
          "data": {
            "text/plain": [
              "5"
            ]
          },
          "metadata": {
            "tags": []
          },
          "execution_count": 75
        }
      ]
    },
    {
      "metadata": {
        "id": "HHFwRZqEepzF",
        "colab_type": "code",
        "outputId": "3f0631b5-feed-410a-d130-65dff448ab1a",
        "colab": {}
      },
      "cell_type": "code",
      "source": [
        "x = 0\n",
        "x = x + 1\n",
        "x\n"
      ],
      "execution_count": 0,
      "outputs": [
        {
          "output_type": "execute_result",
          "data": {
            "text/plain": [
              "1"
            ]
          },
          "metadata": {
            "tags": []
          },
          "execution_count": 63
        }
      ]
    },
    {
      "metadata": {
        "id": "Ag6qdiiaepzJ",
        "colab_type": "code",
        "outputId": "f65f1c29-8d2a-45e5-9514-8d47216ef541",
        "colab": {}
      },
      "cell_type": "code",
      "source": [
        "def countdown(n):\n",
        "    while n > 0:\n",
        "        print(n)\n",
        "        n = n - 1\n",
        "    print('Blastoff!')\n",
        "countdown(3)"
      ],
      "execution_count": 0,
      "outputs": [
        {
          "output_type": "stream",
          "text": [
            "3\n",
            "2\n",
            "1\n",
            "Blastoff!\n"
          ],
          "name": "stdout"
        }
      ]
    },
    {
      "metadata": {
        "id": "VEJWt2QBepzP",
        "colab_type": "code",
        "outputId": "0dc0d482-2757-4bb8-d5c9-3d70959ae989",
        "colab": {}
      },
      "cell_type": "code",
      "source": [
        "def sequence(n):\n",
        "    while n != 1:\n",
        "        print(n)\n",
        "        if n % 2 == 0:       \n",
        "            n = n / 2\n",
        "        else:                \n",
        "            n = n*3 + 1\n",
        "sequence(3)            "
      ],
      "execution_count": 0,
      "outputs": [
        {
          "output_type": "stream",
          "text": [
            "3\n",
            "10\n",
            "5.0\n",
            "16.0\n",
            "8.0\n",
            "4.0\n",
            "2.0\n"
          ],
          "name": "stdout"
        }
      ]
    },
    {
      "metadata": {
        "id": "HecsAfj5epzS",
        "colab_type": "code",
        "outputId": "3d1785bb-5b7c-418b-f1c1-3f5206972f14",
        "colab": {}
      },
      "cell_type": "code",
      "source": [
        "while True:\n",
        "    line = input('> ')\n",
        "    if line == 'done':\n",
        "        break\n",
        "    print(line)\n",
        "\n",
        "print('Done!')"
      ],
      "execution_count": 0,
      "outputs": [
        {
          "output_type": "stream",
          "text": [
            "> done\n",
            "Done!\n"
          ],
          "name": "stdout"
        }
      ]
    },
    {
      "metadata": {
        "id": "RxoPvd7EepzV",
        "colab_type": "code",
        "outputId": "99a69197-a9f6-47ca-de5e-73a18532a524",
        "colab": {}
      },
      "cell_type": "code",
      "source": [
        "a = 4\n",
        "x = 3\n",
        "y = (x + a/x) / 2\n",
        "y"
      ],
      "execution_count": 0,
      "outputs": [
        {
          "output_type": "execute_result",
          "data": {
            "text/plain": [
              "2.1666666666666665"
            ]
          },
          "metadata": {
            "tags": []
          },
          "execution_count": 68
        }
      ]
    },
    {
      "metadata": {
        "id": "ukVgqMBpepzY",
        "colab_type": "code",
        "outputId": "90030d1e-fcef-4838-fb43-17c3e96909ec",
        "colab": {}
      },
      "cell_type": "code",
      "source": [
        "x = y\n",
        "y = (x + a/x) / 2\n",
        "y"
      ],
      "execution_count": 0,
      "outputs": [
        {
          "output_type": "execute_result",
          "data": {
            "text/plain": [
              "2.0064102564102564"
            ]
          },
          "metadata": {
            "tags": []
          },
          "execution_count": 69
        }
      ]
    },
    {
      "metadata": {
        "id": "4iUEt20ZepzY",
        "colab_type": "code",
        "outputId": "5ea48c4a-21fa-46e7-ffe4-36cbf9c95525",
        "colab": {}
      },
      "cell_type": "code",
      "source": [
        "while True:\n",
        "    print(x)\n",
        "    y = (x + a/x) / 2\n",
        "    if y == x:\n",
        "        break\n",
        "    x = y"
      ],
      "execution_count": 0,
      "outputs": [
        {
          "output_type": "stream",
          "text": [
            "2.1666666666666665\n",
            "2.0064102564102564\n",
            "2.0000102400262145\n",
            "2.0000000000262146\n",
            "2.0\n"
          ],
          "name": "stdout"
        }
      ]
    },
    {
      "metadata": {
        "id": "3sPzhlBnepzZ",
        "colab_type": "code",
        "outputId": "a597a2d8-ad50-4cdb-acab-2614a9ac2976",
        "colab": {}
      },
      "cell_type": "code",
      "source": [
        "while True:\n",
        "    print(x)\n",
        "    y = (x + a/x) / 2\n",
        "    if abs(y-x) < epsilon:\n",
        "        break\n",
        "    x=y"
      ],
      "execution_count": 0,
      "outputs": [
        {
          "output_type": "stream",
          "text": [
            "2.0\n"
          ],
          "name": "stdout"
        },
        {
          "output_type": "error",
          "ename": "NameError",
          "evalue": "name 'epsilon' is not defined",
          "traceback": [
            "\u001b[1;31m---------------------------------------------------------------------------\u001b[0m",
            "\u001b[1;31mNameError\u001b[0m                                 Traceback (most recent call last)",
            "\u001b[1;32m<ipython-input-74-cf806647ec7f>\u001b[0m in \u001b[0;36m<module>\u001b[1;34m\u001b[0m\n\u001b[0;32m      2\u001b[0m     \u001b[0mprint\u001b[0m\u001b[1;33m(\u001b[0m\u001b[0mx\u001b[0m\u001b[1;33m)\u001b[0m\u001b[1;33m\u001b[0m\u001b[1;33m\u001b[0m\u001b[0m\n\u001b[0;32m      3\u001b[0m     \u001b[0my\u001b[0m \u001b[1;33m=\u001b[0m \u001b[1;33m(\u001b[0m\u001b[0mx\u001b[0m \u001b[1;33m+\u001b[0m \u001b[0ma\u001b[0m\u001b[1;33m/\u001b[0m\u001b[0mx\u001b[0m\u001b[1;33m)\u001b[0m \u001b[1;33m/\u001b[0m \u001b[1;36m2\u001b[0m\u001b[1;33m\u001b[0m\u001b[1;33m\u001b[0m\u001b[0m\n\u001b[1;32m----> 4\u001b[1;33m     \u001b[1;32mif\u001b[0m \u001b[0mabs\u001b[0m\u001b[1;33m(\u001b[0m\u001b[0my\u001b[0m\u001b[1;33m-\u001b[0m\u001b[0mx\u001b[0m\u001b[1;33m)\u001b[0m \u001b[1;33m<\u001b[0m \u001b[0mepsilon\u001b[0m\u001b[1;33m:\u001b[0m\u001b[1;33m\u001b[0m\u001b[1;33m\u001b[0m\u001b[0m\n\u001b[0m\u001b[0;32m      5\u001b[0m         \u001b[1;32mbreak\u001b[0m\u001b[1;33m\u001b[0m\u001b[1;33m\u001b[0m\u001b[0m\n\u001b[0;32m      6\u001b[0m     \u001b[0mx\u001b[0m\u001b[1;33m=\u001b[0m\u001b[0my\u001b[0m\u001b[1;33m\u001b[0m\u001b[1;33m\u001b[0m\u001b[0m\n",
            "\u001b[1;31mNameError\u001b[0m: name 'epsilon' is not defined"
          ]
        }
      ]
    },
    {
      "metadata": {
        "id": "pHxZkkBcepzh",
        "colab_type": "code",
        "colab": {}
      },
      "cell_type": "code",
      "source": [
        ""
      ],
      "execution_count": 0,
      "outputs": []
    }
  ]
}