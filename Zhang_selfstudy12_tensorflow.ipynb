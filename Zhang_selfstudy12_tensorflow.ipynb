{
  "nbformat": 4,
  "nbformat_minor": 0,
  "metadata": {
    "colab": {
      "name": "Jiyuan_selfstudy12_tensorflow.ipynb",
      "version": "0.3.2",
      "provenance": []
    },
    "kernelspec": {
      "name": "python3",
      "display_name": "Python 3"
    },
    "accelerator": "GPU"
  },
  "cells": [
    {
      "metadata": {
        "id": "MIniZ8lcl6bW",
        "colab_type": "code",
        "outputId": "74991c69-8d4f-432f-abd7-20529c96ae79",
        "colab": {
          "base_uri": "https://localhost:8080/",
          "height": 201
        }
      },
      "cell_type": "code",
      "source": [
        "!wget https://raw.githubusercontent.com/wshuyi/demo-customer-churn-ann/master/customer_churn.csv"
      ],
      "execution_count": 1,
      "outputs": [
        {
          "output_type": "stream",
          "text": [
            "--2019-04-24 23:34:04--  https://raw.githubusercontent.com/wshuyi/demo-customer-churn-ann/master/customer_churn.csv\n",
            "Resolving raw.githubusercontent.com (raw.githubusercontent.com)... 151.101.0.133, 151.101.64.133, 151.101.128.133, ...\n",
            "Connecting to raw.githubusercontent.com (raw.githubusercontent.com)|151.101.0.133|:443... connected.\n",
            "HTTP request sent, awaiting response... 200 OK\n",
            "Length: 684858 (669K) [text/plain]\n",
            "Saving to: ‘customer_churn.csv.2’\n",
            "\n",
            "\rcustomer_churn.csv.   0%[                    ]       0  --.-KB/s               \rcustomer_churn.csv. 100%[===================>] 668.81K  --.-KB/s    in 0.06s   \n",
            "\n",
            "2019-04-24 23:34:04 (10.5 MB/s) - ‘customer_churn.csv.2’ saved [684858/684858]\n",
            "\n"
          ],
          "name": "stdout"
        }
      ]
    },
    {
      "metadata": {
        "id": "E8jXURyEp6vs",
        "colab_type": "code",
        "colab": {}
      },
      "cell_type": "code",
      "source": [
        "import pandas as pd"
      ],
      "execution_count": 0,
      "outputs": []
    },
    {
      "metadata": {
        "id": "7p3vOb4Krhr7",
        "colab_type": "code",
        "colab": {}
      },
      "cell_type": "code",
      "source": [
        "df = pd.read_csv(\"customer_churn.csv\")"
      ],
      "execution_count": 0,
      "outputs": []
    },
    {
      "metadata": {
        "id": "GZOYW83Rrz4N",
        "colab_type": "code",
        "colab": {}
      },
      "cell_type": "code",
      "source": [
        "numeric_columns = ['CreditScore', 'Age', 'Tenure', 'Balance', 'NumOfProducts', 'EstimatedSalary']"
      ],
      "execution_count": 0,
      "outputs": []
    },
    {
      "metadata": {
        "id": "5Cnebpfmr18p",
        "colab_type": "code",
        "colab": {
          "base_uri": "https://localhost:8080/",
          "height": 104
        },
        "outputId": "9ba2f993-f09b-44ec-b6a7-240843fb424c"
      },
      "cell_type": "code",
      "source": [
        "from sklearn.preprocessing import StandardScaler\n",
        "scaler = StandardScaler()\n",
        "df[numeric_columns] = scaler.fit_transform(df[numeric_columns])"
      ],
      "execution_count": 5,
      "outputs": [
        {
          "output_type": "stream",
          "text": [
            "/usr/local/lib/python3.6/dist-packages/sklearn/preprocessing/data.py:645: DataConversionWarning: Data with input dtype int64, float64 were all converted to float64 by StandardScaler.\n",
            "  return self.partial_fit(X, y)\n",
            "/usr/local/lib/python3.6/dist-packages/sklearn/base.py:464: DataConversionWarning: Data with input dtype int64, float64 were all converted to float64 by StandardScaler.\n",
            "  return self.fit(X, **fit_params).transform(X)\n"
          ],
          "name": "stderr"
        }
      ]
    },
    {
      "metadata": {
        "id": "6-bymCwWrk-r",
        "colab_type": "code",
        "outputId": "9b5ad42f-673c-4b77-fdd0-5241341953b6",
        "colab": {
          "base_uri": "https://localhost:8080/",
          "height": 196
        }
      },
      "cell_type": "code",
      "source": [
        "df.head()"
      ],
      "execution_count": 6,
      "outputs": [
        {
          "output_type": "execute_result",
          "data": {
            "text/html": [
              "<div>\n",
              "<style scoped>\n",
              "    .dataframe tbody tr th:only-of-type {\n",
              "        vertical-align: middle;\n",
              "    }\n",
              "\n",
              "    .dataframe tbody tr th {\n",
              "        vertical-align: top;\n",
              "    }\n",
              "\n",
              "    .dataframe thead th {\n",
              "        text-align: right;\n",
              "    }\n",
              "</style>\n",
              "<table border=\"1\" class=\"dataframe\">\n",
              "  <thead>\n",
              "    <tr style=\"text-align: right;\">\n",
              "      <th></th>\n",
              "      <th>RowNumber</th>\n",
              "      <th>CustomerId</th>\n",
              "      <th>Surname</th>\n",
              "      <th>CreditScore</th>\n",
              "      <th>Geography</th>\n",
              "      <th>Gender</th>\n",
              "      <th>Age</th>\n",
              "      <th>Tenure</th>\n",
              "      <th>Balance</th>\n",
              "      <th>NumOfProducts</th>\n",
              "      <th>HasCrCard</th>\n",
              "      <th>IsActiveMember</th>\n",
              "      <th>EstimatedSalary</th>\n",
              "      <th>Exited</th>\n",
              "    </tr>\n",
              "  </thead>\n",
              "  <tbody>\n",
              "    <tr>\n",
              "      <th>0</th>\n",
              "      <td>1</td>\n",
              "      <td>15634602</td>\n",
              "      <td>Hargrave</td>\n",
              "      <td>-0.326221</td>\n",
              "      <td>France</td>\n",
              "      <td>Female</td>\n",
              "      <td>0.293517</td>\n",
              "      <td>-1.041760</td>\n",
              "      <td>-1.225848</td>\n",
              "      <td>-0.911583</td>\n",
              "      <td>1</td>\n",
              "      <td>1</td>\n",
              "      <td>0.021886</td>\n",
              "      <td>1</td>\n",
              "    </tr>\n",
              "    <tr>\n",
              "      <th>1</th>\n",
              "      <td>2</td>\n",
              "      <td>15647311</td>\n",
              "      <td>Hill</td>\n",
              "      <td>-0.440036</td>\n",
              "      <td>Spain</td>\n",
              "      <td>Female</td>\n",
              "      <td>0.198164</td>\n",
              "      <td>-1.387538</td>\n",
              "      <td>0.117350</td>\n",
              "      <td>-0.911583</td>\n",
              "      <td>0</td>\n",
              "      <td>1</td>\n",
              "      <td>0.216534</td>\n",
              "      <td>0</td>\n",
              "    </tr>\n",
              "    <tr>\n",
              "      <th>2</th>\n",
              "      <td>3</td>\n",
              "      <td>15619304</td>\n",
              "      <td>Onio</td>\n",
              "      <td>-1.536794</td>\n",
              "      <td>France</td>\n",
              "      <td>Female</td>\n",
              "      <td>0.293517</td>\n",
              "      <td>1.032908</td>\n",
              "      <td>1.333053</td>\n",
              "      <td>2.527057</td>\n",
              "      <td>1</td>\n",
              "      <td>0</td>\n",
              "      <td>0.240687</td>\n",
              "      <td>1</td>\n",
              "    </tr>\n",
              "    <tr>\n",
              "      <th>3</th>\n",
              "      <td>4</td>\n",
              "      <td>15701354</td>\n",
              "      <td>Boni</td>\n",
              "      <td>0.501521</td>\n",
              "      <td>France</td>\n",
              "      <td>Female</td>\n",
              "      <td>0.007457</td>\n",
              "      <td>-1.387538</td>\n",
              "      <td>-1.225848</td>\n",
              "      <td>0.807737</td>\n",
              "      <td>0</td>\n",
              "      <td>0</td>\n",
              "      <td>-0.108918</td>\n",
              "      <td>0</td>\n",
              "    </tr>\n",
              "    <tr>\n",
              "      <th>4</th>\n",
              "      <td>5</td>\n",
              "      <td>15737888</td>\n",
              "      <td>Mitchell</td>\n",
              "      <td>2.063884</td>\n",
              "      <td>Spain</td>\n",
              "      <td>Female</td>\n",
              "      <td>0.388871</td>\n",
              "      <td>-1.041760</td>\n",
              "      <td>0.785728</td>\n",
              "      <td>-0.911583</td>\n",
              "      <td>1</td>\n",
              "      <td>1</td>\n",
              "      <td>-0.365276</td>\n",
              "      <td>0</td>\n",
              "    </tr>\n",
              "  </tbody>\n",
              "</table>\n",
              "</div>"
            ],
            "text/plain": [
              "   RowNumber  CustomerId   Surname  CreditScore Geography  Gender       Age  \\\n",
              "0          1    15634602  Hargrave    -0.326221    France  Female  0.293517   \n",
              "1          2    15647311      Hill    -0.440036     Spain  Female  0.198164   \n",
              "2          3    15619304      Onio    -1.536794    France  Female  0.293517   \n",
              "3          4    15701354      Boni     0.501521    France  Female  0.007457   \n",
              "4          5    15737888  Mitchell     2.063884     Spain  Female  0.388871   \n",
              "\n",
              "     Tenure   Balance  NumOfProducts  HasCrCard  IsActiveMember  \\\n",
              "0 -1.041760 -1.225848      -0.911583          1               1   \n",
              "1 -1.387538  0.117350      -0.911583          0               1   \n",
              "2  1.032908  1.333053       2.527057          1               0   \n",
              "3 -1.387538 -1.225848       0.807737          0               0   \n",
              "4 -1.041760  0.785728      -0.911583          1               1   \n",
              "\n",
              "   EstimatedSalary  Exited  \n",
              "0         0.021886       1  \n",
              "1         0.216534       0  \n",
              "2         0.240687       1  \n",
              "3        -0.108918       0  \n",
              "4        -0.365276       0  "
            ]
          },
          "metadata": {
            "tags": []
          },
          "execution_count": 6
        }
      ]
    },
    {
      "metadata": {
        "id": "3S5eWTtbrlt8",
        "colab_type": "code",
        "colab": {}
      },
      "cell_type": "code",
      "source": [
        "!pip install -q tensorflow==2.0.0-alpha0"
      ],
      "execution_count": 0,
      "outputs": []
    },
    {
      "metadata": {
        "id": "c8cAZxhirw7L",
        "colab_type": "code",
        "colab": {}
      },
      "cell_type": "code",
      "source": [
        "import tensorflow as tf\n",
        "from tensorflow import keras"
      ],
      "execution_count": 0,
      "outputs": []
    },
    {
      "metadata": {
        "id": "Kxp6PZafse1M",
        "colab_type": "code",
        "colab": {}
      },
      "cell_type": "code",
      "source": [
        "from sklearn.model_selection import train_test_split"
      ],
      "execution_count": 0,
      "outputs": []
    },
    {
      "metadata": {
        "id": "WYyO3fIGsnFb",
        "colab_type": "code",
        "colab": {}
      },
      "cell_type": "code",
      "source": [
        "train, test = train_test_split(df, test_size=0.2, random_state=1)"
      ],
      "execution_count": 0,
      "outputs": []
    },
    {
      "metadata": {
        "id": "jZcaM23vt2q6",
        "colab_type": "code",
        "colab": {}
      },
      "cell_type": "code",
      "source": [
        "train, valid = train_test_split(train, test_size=0.2, random_state=1)"
      ],
      "execution_count": 0,
      "outputs": []
    },
    {
      "metadata": {
        "id": "56pYYK-yrnyl",
        "colab_type": "code",
        "colab": {}
      },
      "cell_type": "code",
      "source": [
        ""
      ],
      "execution_count": 0,
      "outputs": []
    },
    {
      "metadata": {
        "id": "iUK8X6gcuBCM",
        "colab_type": "code",
        "outputId": "9e2c6f2e-50bb-4cd8-f888-eec7d4c8dd38",
        "colab": {
          "base_uri": "https://localhost:8080/",
          "height": 216
        }
      },
      "cell_type": "code",
      "source": [
        "valid.head()"
      ],
      "execution_count": 12,
      "outputs": [
        {
          "output_type": "execute_result",
          "data": {
            "text/html": [
              "<div>\n",
              "<style scoped>\n",
              "    .dataframe tbody tr th:only-of-type {\n",
              "        vertical-align: middle;\n",
              "    }\n",
              "\n",
              "    .dataframe tbody tr th {\n",
              "        vertical-align: top;\n",
              "    }\n",
              "\n",
              "    .dataframe thead th {\n",
              "        text-align: right;\n",
              "    }\n",
              "</style>\n",
              "<table border=\"1\" class=\"dataframe\">\n",
              "  <thead>\n",
              "    <tr style=\"text-align: right;\">\n",
              "      <th></th>\n",
              "      <th>RowNumber</th>\n",
              "      <th>CustomerId</th>\n",
              "      <th>Surname</th>\n",
              "      <th>CreditScore</th>\n",
              "      <th>Geography</th>\n",
              "      <th>Gender</th>\n",
              "      <th>Age</th>\n",
              "      <th>Tenure</th>\n",
              "      <th>Balance</th>\n",
              "      <th>NumOfProducts</th>\n",
              "      <th>HasCrCard</th>\n",
              "      <th>IsActiveMember</th>\n",
              "      <th>EstimatedSalary</th>\n",
              "      <th>Exited</th>\n",
              "    </tr>\n",
              "  </thead>\n",
              "  <tbody>\n",
              "    <tr>\n",
              "      <th>7857</th>\n",
              "      <td>7858</td>\n",
              "      <td>15621457</td>\n",
              "      <td>Chu</td>\n",
              "      <td>2.063884</td>\n",
              "      <td>France</td>\n",
              "      <td>Male</td>\n",
              "      <td>-1.136786</td>\n",
              "      <td>0.341352</td>\n",
              "      <td>0.323248</td>\n",
              "      <td>0.807737</td>\n",
              "      <td>0</td>\n",
              "      <td>0</td>\n",
              "      <td>0.915530</td>\n",
              "      <td>0</td>\n",
              "    </tr>\n",
              "    <tr>\n",
              "      <th>9924</th>\n",
              "      <td>9925</td>\n",
              "      <td>15578865</td>\n",
              "      <td>Palerma</td>\n",
              "      <td>-0.191713</td>\n",
              "      <td>Germany</td>\n",
              "      <td>Female</td>\n",
              "      <td>1.056346</td>\n",
              "      <td>-0.004426</td>\n",
              "      <td>0.504429</td>\n",
              "      <td>-0.911583</td>\n",
              "      <td>1</td>\n",
              "      <td>1</td>\n",
              "      <td>-1.619001</td>\n",
              "      <td>1</td>\n",
              "    </tr>\n",
              "    <tr>\n",
              "      <th>3087</th>\n",
              "      <td>3088</td>\n",
              "      <td>15715160</td>\n",
              "      <td>Khan</td>\n",
              "      <td>-2.188641</td>\n",
              "      <td>France</td>\n",
              "      <td>Male</td>\n",
              "      <td>-0.278604</td>\n",
              "      <td>-1.041760</td>\n",
              "      <td>1.427220</td>\n",
              "      <td>0.807737</td>\n",
              "      <td>1</td>\n",
              "      <td>1</td>\n",
              "      <td>0.415016</td>\n",
              "      <td>0</td>\n",
              "    </tr>\n",
              "    <tr>\n",
              "      <th>3513</th>\n",
              "      <td>3514</td>\n",
              "      <td>15801395</td>\n",
              "      <td>Warren</td>\n",
              "      <td>1.443077</td>\n",
              "      <td>France</td>\n",
              "      <td>Female</td>\n",
              "      <td>-0.564665</td>\n",
              "      <td>1.724464</td>\n",
              "      <td>0.939747</td>\n",
              "      <td>-0.911583</td>\n",
              "      <td>0</td>\n",
              "      <td>0</td>\n",
              "      <td>1.653950</td>\n",
              "      <td>0</td>\n",
              "    </tr>\n",
              "    <tr>\n",
              "      <th>2105</th>\n",
              "      <td>2106</td>\n",
              "      <td>15615096</td>\n",
              "      <td>Costa</td>\n",
              "      <td>-1.640262</td>\n",
              "      <td>France</td>\n",
              "      <td>Female</td>\n",
              "      <td>-0.755372</td>\n",
              "      <td>0.687130</td>\n",
              "      <td>-1.225848</td>\n",
              "      <td>0.807737</td>\n",
              "      <td>1</td>\n",
              "      <td>1</td>\n",
              "      <td>-0.880349</td>\n",
              "      <td>0</td>\n",
              "    </tr>\n",
              "  </tbody>\n",
              "</table>\n",
              "</div>"
            ],
            "text/plain": [
              "      RowNumber  CustomerId  Surname  CreditScore Geography  Gender       Age  \\\n",
              "7857       7858    15621457      Chu     2.063884    France    Male -1.136786   \n",
              "9924       9925    15578865  Palerma    -0.191713   Germany  Female  1.056346   \n",
              "3087       3088    15715160     Khan    -2.188641    France    Male -0.278604   \n",
              "3513       3514    15801395   Warren     1.443077    France  Female -0.564665   \n",
              "2105       2106    15615096    Costa    -1.640262    France  Female -0.755372   \n",
              "\n",
              "        Tenure   Balance  NumOfProducts  HasCrCard  IsActiveMember  \\\n",
              "7857  0.341352  0.323248       0.807737          0               0   \n",
              "9924 -0.004426  0.504429      -0.911583          1               1   \n",
              "3087 -1.041760  1.427220       0.807737          1               1   \n",
              "3513  1.724464  0.939747      -0.911583          0               0   \n",
              "2105  0.687130 -1.225848       0.807737          1               1   \n",
              "\n",
              "      EstimatedSalary  Exited  \n",
              "7857         0.915530       0  \n",
              "9924        -1.619001       1  \n",
              "3087         0.415016       0  \n",
              "3513         1.653950       0  \n",
              "2105        -0.880349       0  "
            ]
          },
          "metadata": {
            "tags": []
          },
          "execution_count": 12
        }
      ]
    },
    {
      "metadata": {
        "id": "UB_oN95SuGTr",
        "colab_type": "code",
        "colab": {}
      },
      "cell_type": "code",
      "source": [
        "from tensorflow import feature_column"
      ],
      "execution_count": 0,
      "outputs": []
    },
    {
      "metadata": {
        "id": "POkj0Ab0ubSb",
        "colab_type": "code",
        "colab": {}
      },
      "cell_type": "code",
      "source": [
        "tf.random.set_seed(1)"
      ],
      "execution_count": 0,
      "outputs": []
    },
    {
      "metadata": {
        "id": "auInt4UTvMhN",
        "colab_type": "code",
        "outputId": "d044ab6a-1e60-4ae8-eac5-ab02a8f02bf1",
        "colab": {
          "base_uri": "https://localhost:8080/",
          "height": 84
        }
      },
      "cell_type": "code",
      "source": [
        "df.columns"
      ],
      "execution_count": 15,
      "outputs": [
        {
          "output_type": "execute_result",
          "data": {
            "text/plain": [
              "Index(['RowNumber', 'CustomerId', 'Surname', 'CreditScore', 'Geography',\n",
              "       'Gender', 'Age', 'Tenure', 'Balance', 'NumOfProducts', 'HasCrCard',\n",
              "       'IsActiveMember', 'EstimatedSalary', 'Exited'],\n",
              "      dtype='object')"
            ]
          },
          "metadata": {
            "tags": []
          },
          "execution_count": 15
        }
      ]
    },
    {
      "metadata": {
        "id": "lGCvZ44zugH7",
        "colab_type": "code",
        "colab": {}
      },
      "cell_type": "code",
      "source": [
        "numeric_columns = ['CreditScore', 'Age', 'Tenure', 'Balance', 'NumOfProducts', 'EstimatedSalary']\n",
        "categorical_columns = ['Geography',\n",
        "       'Gender', 'HasCrCard',\n",
        "       'IsActiveMember']"
      ],
      "execution_count": 0,
      "outputs": []
    },
    {
      "metadata": {
        "id": "_JqQw_74oPZI",
        "colab_type": "code",
        "outputId": "af402971-b2b6-4115-cc1b-dc51f26b2a3c",
        "colab": {
          "base_uri": "https://localhost:8080/",
          "height": 196
        }
      },
      "cell_type": "code",
      "source": [
        "df[numeric_columns].head()"
      ],
      "execution_count": 17,
      "outputs": [
        {
          "output_type": "execute_result",
          "data": {
            "text/html": [
              "<div>\n",
              "<style scoped>\n",
              "    .dataframe tbody tr th:only-of-type {\n",
              "        vertical-align: middle;\n",
              "    }\n",
              "\n",
              "    .dataframe tbody tr th {\n",
              "        vertical-align: top;\n",
              "    }\n",
              "\n",
              "    .dataframe thead th {\n",
              "        text-align: right;\n",
              "    }\n",
              "</style>\n",
              "<table border=\"1\" class=\"dataframe\">\n",
              "  <thead>\n",
              "    <tr style=\"text-align: right;\">\n",
              "      <th></th>\n",
              "      <th>CreditScore</th>\n",
              "      <th>Age</th>\n",
              "      <th>Tenure</th>\n",
              "      <th>Balance</th>\n",
              "      <th>NumOfProducts</th>\n",
              "      <th>EstimatedSalary</th>\n",
              "    </tr>\n",
              "  </thead>\n",
              "  <tbody>\n",
              "    <tr>\n",
              "      <th>0</th>\n",
              "      <td>-0.326221</td>\n",
              "      <td>0.293517</td>\n",
              "      <td>-1.041760</td>\n",
              "      <td>-1.225848</td>\n",
              "      <td>-0.911583</td>\n",
              "      <td>0.021886</td>\n",
              "    </tr>\n",
              "    <tr>\n",
              "      <th>1</th>\n",
              "      <td>-0.440036</td>\n",
              "      <td>0.198164</td>\n",
              "      <td>-1.387538</td>\n",
              "      <td>0.117350</td>\n",
              "      <td>-0.911583</td>\n",
              "      <td>0.216534</td>\n",
              "    </tr>\n",
              "    <tr>\n",
              "      <th>2</th>\n",
              "      <td>-1.536794</td>\n",
              "      <td>0.293517</td>\n",
              "      <td>1.032908</td>\n",
              "      <td>1.333053</td>\n",
              "      <td>2.527057</td>\n",
              "      <td>0.240687</td>\n",
              "    </tr>\n",
              "    <tr>\n",
              "      <th>3</th>\n",
              "      <td>0.501521</td>\n",
              "      <td>0.007457</td>\n",
              "      <td>-1.387538</td>\n",
              "      <td>-1.225848</td>\n",
              "      <td>0.807737</td>\n",
              "      <td>-0.108918</td>\n",
              "    </tr>\n",
              "    <tr>\n",
              "      <th>4</th>\n",
              "      <td>2.063884</td>\n",
              "      <td>0.388871</td>\n",
              "      <td>-1.041760</td>\n",
              "      <td>0.785728</td>\n",
              "      <td>-0.911583</td>\n",
              "      <td>-0.365276</td>\n",
              "    </tr>\n",
              "  </tbody>\n",
              "</table>\n",
              "</div>"
            ],
            "text/plain": [
              "   CreditScore       Age    Tenure   Balance  NumOfProducts  EstimatedSalary\n",
              "0    -0.326221  0.293517 -1.041760 -1.225848      -0.911583         0.021886\n",
              "1    -0.440036  0.198164 -1.387538  0.117350      -0.911583         0.216534\n",
              "2    -1.536794  0.293517  1.032908  1.333053       2.527057         0.240687\n",
              "3     0.501521  0.007457 -1.387538 -1.225848       0.807737        -0.108918\n",
              "4     2.063884  0.388871 -1.041760  0.785728      -0.911583        -0.365276"
            ]
          },
          "metadata": {
            "tags": []
          },
          "execution_count": 17
        }
      ]
    },
    {
      "metadata": {
        "id": "hpGbHsomm25p",
        "colab_type": "code",
        "colab": {}
      },
      "cell_type": "code",
      "source": [
        ""
      ],
      "execution_count": 0,
      "outputs": []
    },
    {
      "metadata": {
        "id": "Qls0NadVonbJ",
        "colab_type": "code",
        "outputId": "7230dc53-2ea3-468c-a108-3abae39eb8e1",
        "colab": {
          "base_uri": "https://localhost:8080/",
          "height": 196
        }
      },
      "cell_type": "code",
      "source": [
        "df[numeric_columns].head()"
      ],
      "execution_count": 18,
      "outputs": [
        {
          "output_type": "execute_result",
          "data": {
            "text/html": [
              "<div>\n",
              "<style scoped>\n",
              "    .dataframe tbody tr th:only-of-type {\n",
              "        vertical-align: middle;\n",
              "    }\n",
              "\n",
              "    .dataframe tbody tr th {\n",
              "        vertical-align: top;\n",
              "    }\n",
              "\n",
              "    .dataframe thead th {\n",
              "        text-align: right;\n",
              "    }\n",
              "</style>\n",
              "<table border=\"1\" class=\"dataframe\">\n",
              "  <thead>\n",
              "    <tr style=\"text-align: right;\">\n",
              "      <th></th>\n",
              "      <th>CreditScore</th>\n",
              "      <th>Age</th>\n",
              "      <th>Tenure</th>\n",
              "      <th>Balance</th>\n",
              "      <th>NumOfProducts</th>\n",
              "      <th>EstimatedSalary</th>\n",
              "    </tr>\n",
              "  </thead>\n",
              "  <tbody>\n",
              "    <tr>\n",
              "      <th>0</th>\n",
              "      <td>-0.326221</td>\n",
              "      <td>0.293517</td>\n",
              "      <td>-1.041760</td>\n",
              "      <td>-1.225848</td>\n",
              "      <td>-0.911583</td>\n",
              "      <td>0.021886</td>\n",
              "    </tr>\n",
              "    <tr>\n",
              "      <th>1</th>\n",
              "      <td>-0.440036</td>\n",
              "      <td>0.198164</td>\n",
              "      <td>-1.387538</td>\n",
              "      <td>0.117350</td>\n",
              "      <td>-0.911583</td>\n",
              "      <td>0.216534</td>\n",
              "    </tr>\n",
              "    <tr>\n",
              "      <th>2</th>\n",
              "      <td>-1.536794</td>\n",
              "      <td>0.293517</td>\n",
              "      <td>1.032908</td>\n",
              "      <td>1.333053</td>\n",
              "      <td>2.527057</td>\n",
              "      <td>0.240687</td>\n",
              "    </tr>\n",
              "    <tr>\n",
              "      <th>3</th>\n",
              "      <td>0.501521</td>\n",
              "      <td>0.007457</td>\n",
              "      <td>-1.387538</td>\n",
              "      <td>-1.225848</td>\n",
              "      <td>0.807737</td>\n",
              "      <td>-0.108918</td>\n",
              "    </tr>\n",
              "    <tr>\n",
              "      <th>4</th>\n",
              "      <td>2.063884</td>\n",
              "      <td>0.388871</td>\n",
              "      <td>-1.041760</td>\n",
              "      <td>0.785728</td>\n",
              "      <td>-0.911583</td>\n",
              "      <td>-0.365276</td>\n",
              "    </tr>\n",
              "  </tbody>\n",
              "</table>\n",
              "</div>"
            ],
            "text/plain": [
              "   CreditScore       Age    Tenure   Balance  NumOfProducts  EstimatedSalary\n",
              "0    -0.326221  0.293517 -1.041760 -1.225848      -0.911583         0.021886\n",
              "1    -0.440036  0.198164 -1.387538  0.117350      -0.911583         0.216534\n",
              "2    -1.536794  0.293517  1.032908  1.333053       2.527057         0.240687\n",
              "3     0.501521  0.007457 -1.387538 -1.225848       0.807737        -0.108918\n",
              "4     2.063884  0.388871 -1.041760  0.785728      -0.911583        -0.365276"
            ]
          },
          "metadata": {
            "tags": []
          },
          "execution_count": 18
        }
      ]
    },
    {
      "metadata": {
        "id": "6z3Lyl8-vbh8",
        "colab_type": "code",
        "colab": {}
      },
      "cell_type": "code",
      "source": [
        "feature_columns = []"
      ],
      "execution_count": 0,
      "outputs": []
    },
    {
      "metadata": {
        "id": "zjfRzz-Ovfts",
        "colab_type": "code",
        "colab": {}
      },
      "cell_type": "code",
      "source": [
        "for header in numeric_columns:\n",
        "  feature_columns.append(feature_column.numeric_column(header))"
      ],
      "execution_count": 0,
      "outputs": []
    },
    {
      "metadata": {
        "id": "nid1HCm4wCjM",
        "colab_type": "code",
        "outputId": "211c5f97-24eb-4c5b-fc73-218e369ff2a5",
        "colab": {
          "base_uri": "https://localhost:8080/",
          "height": 117
        }
      },
      "cell_type": "code",
      "source": [
        "feature_columns"
      ],
      "execution_count": 21,
      "outputs": [
        {
          "output_type": "execute_result",
          "data": {
            "text/plain": [
              "[NumericColumn(key='CreditScore', shape=(1,), default_value=None, dtype=tf.float32, normalizer_fn=None),\n",
              " NumericColumn(key='Age', shape=(1,), default_value=None, dtype=tf.float32, normalizer_fn=None),\n",
              " NumericColumn(key='Tenure', shape=(1,), default_value=None, dtype=tf.float32, normalizer_fn=None),\n",
              " NumericColumn(key='Balance', shape=(1,), default_value=None, dtype=tf.float32, normalizer_fn=None),\n",
              " NumericColumn(key='NumOfProducts', shape=(1,), default_value=None, dtype=tf.float32, normalizer_fn=None),\n",
              " NumericColumn(key='EstimatedSalary', shape=(1,), default_value=None, dtype=tf.float32, normalizer_fn=None)]"
            ]
          },
          "metadata": {
            "tags": []
          },
          "execution_count": 21
        }
      ]
    },
    {
      "metadata": {
        "id": "Lks9brBowEec",
        "colab_type": "code",
        "colab": {}
      },
      "cell_type": "code",
      "source": [
        "def get_one_hot_rom_categorical(colname):\n",
        "  categorical = feature_column.categorical_column_with_vocabulary_list(\n",
        "  colname,\n",
        "  train[colname].unique().tolist())\n",
        "  return feature_column.indicator_column(categorical)"
      ],
      "execution_count": 0,
      "outputs": []
    },
    {
      "metadata": {
        "id": "Lq-hifeHwZTY",
        "colab_type": "code",
        "colab": {}
      },
      "cell_type": "code",
      "source": [
        "# train[\"Geography\"].unique().tolist()"
      ],
      "execution_count": 0,
      "outputs": []
    },
    {
      "metadata": {
        "id": "nfahsetgwb8s",
        "colab_type": "code",
        "outputId": "ee53998e-881c-42c5-c94a-5613b941f950",
        "colab": {
          "base_uri": "https://localhost:8080/",
          "height": 53
        }
      },
      "cell_type": "code",
      "source": [
        "get_one_hot_rom_categorical(\"Geography\")"
      ],
      "execution_count": 24,
      "outputs": [
        {
          "output_type": "execute_result",
          "data": {
            "text/plain": [
              "IndicatorColumn(categorical_column=VocabularyListCategoricalColumn(key='Geography', vocabulary_list=('France', 'Spain', 'Germany'), dtype=tf.string, default_value=-1, num_oov_buckets=0))"
            ]
          },
          "metadata": {
            "tags": []
          },
          "execution_count": 24
        }
      ]
    },
    {
      "metadata": {
        "id": "qUwc8z7kwqRM",
        "colab_type": "code",
        "colab": {}
      },
      "cell_type": "code",
      "source": [
        "for col in categorical_columns:\n",
        "  feature_columns.append(get_one_hot_rom_categorical(col))"
      ],
      "execution_count": 0,
      "outputs": []
    },
    {
      "metadata": {
        "id": "DrUPqyAmw668",
        "colab_type": "code",
        "outputId": "64939262-2c9a-4e0a-e35d-939e5d798c83",
        "colab": {
          "base_uri": "https://localhost:8080/",
          "height": 204
        }
      },
      "cell_type": "code",
      "source": [
        "feature_columns"
      ],
      "execution_count": 26,
      "outputs": [
        {
          "output_type": "execute_result",
          "data": {
            "text/plain": [
              "[NumericColumn(key='CreditScore', shape=(1,), default_value=None, dtype=tf.float32, normalizer_fn=None),\n",
              " NumericColumn(key='Age', shape=(1,), default_value=None, dtype=tf.float32, normalizer_fn=None),\n",
              " NumericColumn(key='Tenure', shape=(1,), default_value=None, dtype=tf.float32, normalizer_fn=None),\n",
              " NumericColumn(key='Balance', shape=(1,), default_value=None, dtype=tf.float32, normalizer_fn=None),\n",
              " NumericColumn(key='NumOfProducts', shape=(1,), default_value=None, dtype=tf.float32, normalizer_fn=None),\n",
              " NumericColumn(key='EstimatedSalary', shape=(1,), default_value=None, dtype=tf.float32, normalizer_fn=None),\n",
              " IndicatorColumn(categorical_column=VocabularyListCategoricalColumn(key='Geography', vocabulary_list=('France', 'Spain', 'Germany'), dtype=tf.string, default_value=-1, num_oov_buckets=0)),\n",
              " IndicatorColumn(categorical_column=VocabularyListCategoricalColumn(key='Gender', vocabulary_list=('Male', 'Female'), dtype=tf.string, default_value=-1, num_oov_buckets=0)),\n",
              " IndicatorColumn(categorical_column=VocabularyListCategoricalColumn(key='HasCrCard', vocabulary_list=(1, 0), dtype=tf.int64, default_value=-1, num_oov_buckets=0)),\n",
              " IndicatorColumn(categorical_column=VocabularyListCategoricalColumn(key='IsActiveMember', vocabulary_list=(0, 1), dtype=tf.int64, default_value=-1, num_oov_buckets=0))]"
            ]
          },
          "metadata": {
            "tags": []
          },
          "execution_count": 26
        }
      ]
    },
    {
      "metadata": {
        "id": "GmGW0nAOw7tM",
        "colab_type": "code",
        "colab": {}
      },
      "cell_type": "code",
      "source": [
        "from tensorflow.keras import layers"
      ],
      "execution_count": 0,
      "outputs": []
    },
    {
      "metadata": {
        "id": "puXQ2JTJxK5M",
        "colab_type": "code",
        "colab": {}
      },
      "cell_type": "code",
      "source": [
        "feature_layer = layers.DenseFeatures(feature_columns)"
      ],
      "execution_count": 0,
      "outputs": []
    },
    {
      "metadata": {
        "id": "AwNBJL9FxQDt",
        "colab_type": "code",
        "outputId": "9a6f042b-5a17-4035-e850-5cccb05ab5be",
        "colab": {
          "base_uri": "https://localhost:8080/",
          "height": 33
        }
      },
      "cell_type": "code",
      "source": [
        "feature_layer"
      ],
      "execution_count": 29,
      "outputs": [
        {
          "output_type": "execute_result",
          "data": {
            "text/plain": [
              "<tensorflow.python.feature_column.feature_column_v2.DenseFeatures at 0x7f28d7bbdda0>"
            ]
          },
          "metadata": {
            "tags": []
          },
          "execution_count": 29
        }
      ]
    },
    {
      "metadata": {
        "id": "5t3rm0BBxQz_",
        "colab_type": "code",
        "colab": {}
      },
      "cell_type": "code",
      "source": [
        "model = keras.Sequential()\n",
        "model.add(feature_layer)\n",
        "model.add(layers.Dense(200, activation='relu'))\n",
        "model.add(layers.Dense(100, activation='relu'))\n",
        "model.add(layers.Dense(1, activation='sigmoid'))"
      ],
      "execution_count": 0,
      "outputs": []
    },
    {
      "metadata": {
        "id": "3NvsdcGTyAr9",
        "colab_type": "code",
        "colab": {}
      },
      "cell_type": "code",
      "source": [
        "model.compile(optimizer='adam',\n",
        "             loss='binary_crossentropy',\n",
        "             metrics=['accuracy'])"
      ],
      "execution_count": 0,
      "outputs": []
    },
    {
      "metadata": {
        "id": "MmzLApAGyLvt",
        "colab_type": "code",
        "colab": {}
      },
      "cell_type": "code",
      "source": [
        "def df_to_tfdata(df, shuffle=True, bs=32):\n",
        "  df = df.copy()\n",
        "  labels = df.pop('Exited')\n",
        "  ds = tf.data.Dataset.from_tensor_slices((dict(df), labels))\n",
        "  if shuffle:\n",
        "    ds = ds.shuffle(buffer_size=len(df), seed=1)\n",
        "  ds = ds.batch(bs)\n",
        "  return ds"
      ],
      "execution_count": 0,
      "outputs": []
    },
    {
      "metadata": {
        "id": "XZT5usTjy-hc",
        "colab_type": "code",
        "colab": {}
      },
      "cell_type": "code",
      "source": [
        "train_ds = df_to_tfdata(train)"
      ],
      "execution_count": 0,
      "outputs": []
    },
    {
      "metadata": {
        "id": "Bm9AT7BBzE1e",
        "colab_type": "code",
        "colab": {}
      },
      "cell_type": "code",
      "source": [
        "valid_ds = df_to_tfdata(valid, shuffle=False)\n",
        "test_ds = df_to_tfdata(test, shuffle=False)"
      ],
      "execution_count": 0,
      "outputs": []
    },
    {
      "metadata": {
        "id": "S5xGmRrbzNEN",
        "colab_type": "code",
        "outputId": "ec481e22-d0aa-4291-a2b3-1fc4ef02b81f",
        "colab": {
          "base_uri": "https://localhost:8080/",
          "height": 438
        }
      },
      "cell_type": "code",
      "source": [
        "model.fit(train_ds,\n",
        "         validation_data = valid_ds,\n",
        "         epochs=5)"
      ],
      "execution_count": 35,
      "outputs": [
        {
          "output_type": "stream",
          "text": [
            "WARNING: Logging before flag parsing goes to stderr.\n",
            "W0424 23:34:09.195401 139814358144896 deprecation.py:323] From /usr/local/lib/python3.6/dist-packages/tensorflow/python/feature_column/feature_column_v2.py:2758: to_float (from tensorflow.python.ops.math_ops) is deprecated and will be removed in a future version.\n",
            "Instructions for updating:\n",
            "Use `tf.cast` instead.\n",
            "W0424 23:34:09.325691 139814358144896 deprecation.py:323] From /usr/local/lib/python3.6/dist-packages/tensorflow/python/ops/lookup_ops.py:1347: to_int64 (from tensorflow.python.ops.math_ops) is deprecated and will be removed in a future version.\n",
            "Instructions for updating:\n",
            "Use `tf.cast` instead.\n",
            "W0424 23:34:09.335387 139814358144896 deprecation.py:323] From /usr/local/lib/python3.6/dist-packages/tensorflow/python/feature_column/feature_column_v2.py:4307: IndicatorColumn._variable_shape (from tensorflow.python.feature_column.feature_column_v2) is deprecated and will be removed in a future version.\n",
            "Instructions for updating:\n",
            "The old _FeatureColumn APIs are being deprecated. Please use the new FeatureColumn APIs instead.\n",
            "W0424 23:34:09.336329 139814358144896 deprecation.py:323] From /usr/local/lib/python3.6/dist-packages/tensorflow/python/feature_column/feature_column_v2.py:4362: VocabularyListCategoricalColumn._num_buckets (from tensorflow.python.feature_column.feature_column_v2) is deprecated and will be removed in a future version.\n",
            "Instructions for updating:\n",
            "The old _FeatureColumn APIs are being deprecated. Please use the new FeatureColumn APIs instead.\n"
          ],
          "name": "stderr"
        },
        {
          "output_type": "stream",
          "text": [
            "Epoch 1/5\n",
            "200/200 [==============================] - 4s 21ms/step - loss: 0.4115 - accuracy: 0.8082 - val_loss: 0.3852 - val_accuracy: 0.8363\n",
            "Epoch 2/5\n",
            "200/200 [==============================] - 4s 19ms/step - loss: 0.3474 - accuracy: 0.8565 - val_loss: 0.3785 - val_accuracy: 0.8406\n",
            "Epoch 3/5\n",
            "200/200 [==============================] - 4s 19ms/step - loss: 0.3371 - accuracy: 0.8623 - val_loss: 0.3753 - val_accuracy: 0.8438\n",
            "Epoch 4/5\n",
            "200/200 [==============================] - 4s 19ms/step - loss: 0.3320 - accuracy: 0.8633 - val_loss: 0.3742 - val_accuracy: 0.8438\n",
            "Epoch 5/5\n",
            "200/200 [==============================] - 4s 19ms/step - loss: 0.3282 - accuracy: 0.8628 - val_loss: 0.3733 - val_accuracy: 0.8431\n"
          ],
          "name": "stdout"
        },
        {
          "output_type": "execute_result",
          "data": {
            "text/plain": [
              "<tensorflow.python.keras.callbacks.History at 0x7f28d291f518>"
            ]
          },
          "metadata": {
            "tags": []
          },
          "execution_count": 35
        }
      ]
    },
    {
      "metadata": {
        "id": "jTk3W18s2CM2",
        "colab_type": "code",
        "colab": {}
      },
      "cell_type": "code",
      "source": [
        ""
      ],
      "execution_count": 0,
      "outputs": []
    },
    {
      "metadata": {
        "id": "U6dUm_nczW2N",
        "colab_type": "code",
        "outputId": "9295e2af-d1f8-4e9e-a8a4-c2594b705c06",
        "colab": {
          "base_uri": "https://localhost:8080/",
          "height": 50
        }
      },
      "cell_type": "code",
      "source": [
        "model.evaluate(test_ds)"
      ],
      "execution_count": 36,
      "outputs": [
        {
          "output_type": "stream",
          "text": [
            "63/63 [==============================] - 1s 11ms/step - loss: 0.3388 - accuracy: 0.8660\n"
          ],
          "name": "stdout"
        },
        {
          "output_type": "execute_result",
          "data": {
            "text/plain": [
              "[0.3387696042893425, 0.866]"
            ]
          },
          "metadata": {
            "tags": []
          },
          "execution_count": 36
        }
      ]
    },
    {
      "metadata": {
        "id": "z3zbcs8TzuYN",
        "colab_type": "code",
        "outputId": "3db8aeb7-4ccd-44ca-a1d1-be55b949b255",
        "colab": {
          "base_uri": "https://localhost:8080/",
          "height": 67
        }
      },
      "cell_type": "code",
      "source": [
        "train.Exited.value_counts()"
      ],
      "execution_count": 37,
      "outputs": [
        {
          "output_type": "execute_result",
          "data": {
            "text/plain": [
              "0    5108\n",
              "1    1292\n",
              "Name: Exited, dtype: int64"
            ]
          },
          "metadata": {
            "tags": []
          },
          "execution_count": 37
        }
      ]
    },
    {
      "metadata": {
        "id": "QBls2daB1kQg",
        "colab_type": "code",
        "outputId": "3b2cd0ae-5882-4dea-d5f4-bce2822f6a89",
        "colab": {
          "base_uri": "https://localhost:8080/",
          "height": 67
        }
      },
      "cell_type": "code",
      "source": [
        "test.Exited.value_counts()"
      ],
      "execution_count": 38,
      "outputs": [
        {
          "output_type": "execute_result",
          "data": {
            "text/plain": [
              "0    1585\n",
              "1     415\n",
              "Name: Exited, dtype: int64"
            ]
          },
          "metadata": {
            "tags": []
          },
          "execution_count": 38
        }
      ]
    },
    {
      "metadata": {
        "id": "dlWGhcg61oTO",
        "colab_type": "code",
        "outputId": "7e36a313-2eac-4239-e20c-f4e3a8cd1370",
        "colab": {
          "base_uri": "https://localhost:8080/",
          "height": 33
        }
      },
      "cell_type": "code",
      "source": [
        "1585 / 2000"
      ],
      "execution_count": 39,
      "outputs": [
        {
          "output_type": "execute_result",
          "data": {
            "text/plain": [
              "0.7925"
            ]
          },
          "metadata": {
            "tags": []
          },
          "execution_count": 39
        }
      ]
    },
    {
      "metadata": {
        "id": "ujrim0Uy1wbw",
        "colab_type": "code",
        "colab": {}
      },
      "cell_type": "code",
      "source": [
        ""
      ],
      "execution_count": 0,
      "outputs": []
    }
  ]
}