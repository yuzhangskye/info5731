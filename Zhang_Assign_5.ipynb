{
  "nbformat": 4,
  "nbformat_minor": 0,
  "metadata": {
    "colab": {
      "name": "Zhang_Assign_5",
      "version": "0.3.2",
      "provenance": [],
      "collapsed_sections": []
    },
    "kernelspec": {
      "name": "python3",
      "display_name": "Python 3"
    },
    "accelerator": "GPU"
  },
  "cells": [
    {
      "metadata": {
        "id": "y_zb-KGkittm",
        "colab_type": "text"
      },
      "cell_type": "markdown",
      "source": [
        "# Assignment 5: IMDB review sample Classification with fast.ai Deep Learning Framework"
      ]
    },
    {
      "metadata": {
        "id": "oGvN9KtGi4T_",
        "colab_type": "text"
      },
      "cell_type": "markdown",
      "source": [
        "**Question 1: (10 points)**\n",
        "\n",
        "Export the sample data set you created in [Classwork 3](https://colab.research.google.com/drive/1be7ksupqRkdjU1fZUAS37F5GiLCkFzkR) with pickle library, name it `imdb-sample.pickle`, and upload it to Google Colab. Then run the following codes."
      ]
    },
    {
      "metadata": {
        "_uuid": "8f2839f25d086af736a60e9eeb907d3b93b6e0e5",
        "_cell_guid": "b1076dfc-b9ad-4769-8c92-a6c4dae69d19",
        "trusted": true,
        "id": "s3rD3HkMbCq-",
        "colab_type": "code",
        "colab": {
          "base_uri": "https://localhost:8080/",
          "height": 204
        },
        "outputId": "6b9d4713-9746-4d72-d48a-40e189d67a21"
      },
      "cell_type": "code",
      "source": [
        "from fastai.text import *\n",
        "path = Path('.')\n",
        "with open(\"imdb-sample.pickle\", 'rb') as f:\n",
        "    train, valid = pickle.load(f)\n",
        "valid.tail()"
      ],
      "execution_count": 1,
      "outputs": [
        {
          "output_type": "execute_result",
          "data": {
            "text/html": [
              "<div>\n",
              "<style scoped>\n",
              "    .dataframe tbody tr th:only-of-type {\n",
              "        vertical-align: middle;\n",
              "    }\n",
              "\n",
              "    .dataframe tbody tr th {\n",
              "        vertical-align: top;\n",
              "    }\n",
              "\n",
              "    .dataframe thead th {\n",
              "        text-align: right;\n",
              "    }\n",
              "</style>\n",
              "<table border=\"1\" class=\"dataframe\">\n",
              "  <thead>\n",
              "    <tr style=\"text-align: right;\">\n",
              "      <th></th>\n",
              "      <th>text</th>\n",
              "      <th>sentiment</th>\n",
              "    </tr>\n",
              "  </thead>\n",
              "  <tbody>\n",
              "    <tr>\n",
              "      <th>995</th>\n",
              "      <td>This is my opinion of this movie, expressed in...</td>\n",
              "      <td>0</td>\n",
              "    </tr>\n",
              "    <tr>\n",
              "      <th>996</th>\n",
              "      <td>Why can't a movie be rated a zero? Or even a n...</td>\n",
              "      <td>0</td>\n",
              "    </tr>\n",
              "    <tr>\n",
              "      <th>997</th>\n",
              "      <td>The Gun is probably the worst film I've ever s...</td>\n",
              "      <td>0</td>\n",
              "    </tr>\n",
              "    <tr>\n",
              "      <th>998</th>\n",
              "      <td>If you are thinking of going to see this film ...</td>\n",
              "      <td>0</td>\n",
              "    </tr>\n",
              "    <tr>\n",
              "      <th>999</th>\n",
              "      <td>This movie was like a gathering of people that...</td>\n",
              "      <td>0</td>\n",
              "    </tr>\n",
              "  </tbody>\n",
              "</table>\n",
              "</div>"
            ],
            "text/plain": [
              "                                                  text  sentiment\n",
              "995  This is my opinion of this movie, expressed in...          0\n",
              "996  Why can't a movie be rated a zero? Or even a n...          0\n",
              "997  The Gun is probably the worst film I've ever s...          0\n",
              "998  If you are thinking of going to see this film ...          0\n",
              "999  This movie was like a gathering of people that...          0"
            ]
          },
          "metadata": {
            "tags": []
          },
          "execution_count": 1
        }
      ]
    },
    {
      "metadata": {
        "id": "dJy9CWMijk9v",
        "colab_type": "text"
      },
      "cell_type": "markdown",
      "source": [
        "You should see the output like this:\n",
        "\n",
        "![](https://github.com/wshuyi/github_pub_img/raw/master/assets/2019-03-26-10-11-10-085256.png)"
      ]
    },
    {
      "metadata": {
        "id": "pD8ua3DMjt2V",
        "colab_type": "text"
      },
      "cell_type": "markdown",
      "source": [
        "**Question 2: (10 points)**\n",
        "\n",
        "Create a TextLMDataBunch instance called `data_lm`, load your train and valid Dataframe into it, and run the following code."
      ]
    },
    {
      "metadata": {
        "trusted": true,
        "_uuid": "3eb854d800019951627b86b9d0d2ddb1b0690dff",
        "id": "-5Y4DLmIbCsF",
        "colab_type": "code",
        "colab": {}
      },
      "cell_type": "code",
      "source": [
        "data_lm = TextLMDataBunch.from_df(path, train_df=train, valid_df=valid, text_cols='text', label_cols='sentiment')"
      ],
      "execution_count": 0,
      "outputs": []
    },
    {
      "metadata": {
        "trusted": true,
        "_uuid": "046c6510e26fe07dcf7d87936a80ffa079a46e4b",
        "id": "e87K11gHbCsP",
        "colab_type": "code",
        "colab": {
          "base_uri": "https://localhost:8080/",
          "height": 374
        },
        "outputId": "bf56aedb-e7f8-4364-c937-e4c91bcf1568"
      },
      "cell_type": "code",
      "source": [
        "data_lm.show_batch()"
      ],
      "execution_count": 3,
      "outputs": [
        {
          "output_type": "display_data",
          "data": {
            "text/html": [
              "<table border=\"1\" class=\"dataframe\">\n",
              "  <thead>\n",
              "    <tr style=\"text-align: right;\">\n",
              "      <th>idx</th>\n",
              "      <th>text</th>\n",
              "    </tr>\n",
              "  </thead>\n",
              "  <tbody>\n",
              "    <tr>\n",
              "      <td>0</td>\n",
              "      <td>very moment . xxmaj mary xxmaj xxunk , who i seem to remember from xxup snl or some other xxup tv comedy skit show , is the evil wife , and xxmaj larry xxmaj drake plays the lunatic in the xxunk xxmaj santa outfit . i had forgotten xxmaj santa was played by xxmaj drake over the years . xxmaj his xxmaj santa is an unstoppable force and quite</td>\n",
              "    </tr>\n",
              "    <tr>\n",
              "      <td>1</td>\n",
              "      <td>these days . \\n \\n  i understand it 's a movie and that 's why i accept it as a funny situation . xxmaj plus , the humor is versatile . xxmaj there are moments involving xxup xxunk , funny lines with xxmaj chabat 's best friend , some lesbian references , funny situations involving the family women , and more . \\n \\n  xxmaj charlotte xxmaj xxunk</td>\n",
              "    </tr>\n",
              "    <tr>\n",
              "      <td>2</td>\n",
              "      <td>xxmaj chocolat before my viewing of it . i did n't know anything about the story , the cast , the director , or anything about the film 's history . xxmaj all i knew was it was a highly - acclaimed xxmaj french film . xxmaj had i known more , i probably would n't have viewed the picture with an open mind . xxmaj on paper ,</td>\n",
              "    </tr>\n",
              "    <tr>\n",
              "      <td>3</td>\n",
              "      <td>xxunk xxmaj digital xxunk xxmaj surround xxmaj sound . xxup dvd also an jam session with xxmaj sandler &amp; xxmaj cheadle , an featurette , photo montage and previews . i was expecting more for the xxup dvd features like an audio commentary track by the director and deleted scenes . \" xxmaj reign xxmaj over xxmaj me \" is certainly one of the best films that came out</td>\n",
              "    </tr>\n",
              "    <tr>\n",
              "      <td>4</td>\n",
              "      <td>his stuntmen were injured during this movie that nobody would insure them anymore - xxmaj jackie had to take responsibility himself . xxmaj there are no gimmicks , wires or stand - ins - it is all true - life action that is a treat to watch . xxmaj it is this type of action that made him the phenomenon that he is and it is a movie that</td>\n",
              "    </tr>\n",
              "  </tbody>\n",
              "</table>"
            ],
            "text/plain": [
              "<IPython.core.display.HTML object>"
            ]
          },
          "metadata": {
            "tags": []
          }
        }
      ]
    },
    {
      "metadata": {
        "id": "O2_lfse1pkup",
        "colab_type": "text"
      },
      "cell_type": "markdown",
      "source": [
        "You should see the output like this:\n",
        "\n",
        "![](https://github.com/wshuyi/github_pub_img/raw/master/assets/2019-03-26-10-14-25-459713.png)"
      ]
    },
    {
      "metadata": {
        "id": "LaqcTDHikUOm",
        "colab_type": "text"
      },
      "cell_type": "markdown",
      "source": [
        "**Question 3: (10 points)**\n",
        "\n",
        "Create a `language_model_learner` named `learn`, use `data_lm` as input data, `AWD_LSTM` as architecture, and choose 0.5 as Dropout rate. Draw the result of learning rate finder."
      ]
    },
    {
      "metadata": {
        "trusted": true,
        "_uuid": "04ce1c9b393afde82a2301ac217760a4f559a7c6",
        "id": "Dl21NZpzbCsU",
        "colab_type": "code",
        "colab": {
          "base_uri": "https://localhost:8080/",
          "height": 378
        },
        "outputId": "e198f202-8785-457c-862d-9d1bae2c7bd1"
      },
      "cell_type": "code",
      "source": [
        "learn = language_model_learner(data_lm, AWD_LSTM, drop_mult=0.5)\n",
        "learn.lr_find()\n",
        "learn.recorder.plot()"
      ],
      "execution_count": 4,
      "outputs": [
        {
          "output_type": "display_data",
          "data": {
            "text/html": [
              ""
            ],
            "text/plain": [
              "<IPython.core.display.HTML object>"
            ]
          },
          "metadata": {
            "tags": []
          }
        },
        {
          "output_type": "stream",
          "text": [
            "LR Finder is complete, type {learner_name}.recorder.plot() to see the graph.\n"
          ],
          "name": "stdout"
        },
        {
          "output_type": "display_data",
          "data": {
            "image/png": "[encoded data removed]",
            "text/plain": [
              "<Figure size 576x396 with 1 Axes>"
            ]
          },
          "metadata": {
            "tags": []
          }
        }
      ]
    },
    {
      "metadata": {
        "id": "RRFH6xlOmEmz",
        "colab_type": "text"
      },
      "cell_type": "markdown",
      "source": [
        "You should see the output like this:\n",
        "\n",
        "![](https://github.com/wshuyi/github_pub_img/raw/master/assets/2019-03-26-10-17-47-701082.png)"
      ]
    },
    {
      "metadata": {
        "colab_type": "text",
        "id": "kYdco7i0lNsW"
      },
      "cell_type": "markdown",
      "source": [
        "**Question 4: (20 points)**\n",
        "\n",
        "Fit one cycle with your language learner (`learn`), unfreeze it and fit another 3 cycles. Save the language learner's encoder as `ft_enc`."
      ]
    },
    {
      "metadata": {
        "trusted": true,
        "_uuid": "baafa7bf5fd351f5dca7a5f6cf1f89c84a3281e8",
        "id": "Vr1IdeC0bCsp",
        "colab_type": "code",
        "colab": {
          "base_uri": "https://localhost:8080/",
          "height": 103
        },
        "outputId": "0f23113b-e28d-416f-e4c9-a730035f3bdc"
      },
      "cell_type": "code",
      "source": [
        "learn.fit_one_cycle(1, 1e-2)"
      ],
      "execution_count": 5,
      "outputs": [
        {
          "output_type": "display_data",
          "data": {
            "text/html": [
              "Total time: 01:02 <p><table border=\"1\" class=\"dataframe\">\n",
              "  <thead>\n",
              "    <tr style=\"text-align: left;\">\n",
              "      <th>epoch</th>\n",
              "      <th>train_loss</th>\n",
              "      <th>valid_loss</th>\n",
              "      <th>accuracy</th>\n",
              "      <th>time</th>\n",
              "    </tr>\n",
              "  </thead>\n",
              "  <tbody>\n",
              "    <tr>\n",
              "      <td>0</td>\n",
              "      <td>4.454444</td>\n",
              "      <td>4.001839</td>\n",
              "      <td>0.284187</td>\n",
              "      <td>01:02</td>\n",
              "    </tr>\n",
              "  </tbody>\n",
              "</table>"
            ],
            "text/plain": [
              "<IPython.core.display.HTML object>"
            ]
          },
          "metadata": {
            "tags": []
          }
        }
      ]
    },
    {
      "metadata": {
        "id": "pqofZi-AGQz1",
        "colab_type": "code",
        "colab": {}
      },
      "cell_type": "code",
      "source": [
        "learn.unfreeze()"
      ],
      "execution_count": 0,
      "outputs": []
    },
    {
      "metadata": {
        "id": "klsA7ZoCGWQH",
        "colab_type": "code",
        "colab": {
          "base_uri": "https://localhost:8080/",
          "height": 165
        },
        "outputId": "ea565887-6bf1-4815-afc5-6b7619801236"
      },
      "cell_type": "code",
      "source": [
        "learn.fit_one_cycle(3,1e-3)"
      ],
      "execution_count": 7,
      "outputs": [
        {
          "output_type": "display_data",
          "data": {
            "text/html": [
              "Total time: 03:47 <p><table border=\"1\" class=\"dataframe\">\n",
              "  <thead>\n",
              "    <tr style=\"text-align: left;\">\n",
              "      <th>epoch</th>\n",
              "      <th>train_loss</th>\n",
              "      <th>valid_loss</th>\n",
              "      <th>accuracy</th>\n",
              "      <th>time</th>\n",
              "    </tr>\n",
              "  </thead>\n",
              "  <tbody>\n",
              "    <tr>\n",
              "      <td>0</td>\n",
              "      <td>4.120882</td>\n",
              "      <td>3.930785</td>\n",
              "      <td>0.290541</td>\n",
              "      <td>01:15</td>\n",
              "    </tr>\n",
              "    <tr>\n",
              "      <td>1</td>\n",
              "      <td>3.993020</td>\n",
              "      <td>3.881789</td>\n",
              "      <td>0.295686</td>\n",
              "      <td>01:15</td>\n",
              "    </tr>\n",
              "    <tr>\n",
              "      <td>2</td>\n",
              "      <td>3.849882</td>\n",
              "      <td>3.871659</td>\n",
              "      <td>0.296606</td>\n",
              "      <td>01:15</td>\n",
              "    </tr>\n",
              "  </tbody>\n",
              "</table>"
            ],
            "text/plain": [
              "<IPython.core.display.HTML object>"
            ]
          },
          "metadata": {
            "tags": []
          }
        }
      ]
    },
    {
      "metadata": {
        "id": "eFtTNTqMK92a",
        "colab_type": "code",
        "colab": {}
      },
      "cell_type": "code",
      "source": [
        "learn.save_encoder('ft_enc')"
      ],
      "execution_count": 0,
      "outputs": []
    },
    {
      "metadata": {
        "id": "1Bb_WPtcmGYz",
        "colab_type": "text"
      },
      "cell_type": "markdown",
      "source": [
        "You should see the output like this:\n",
        "\n",
        "![](https://github.com/wshuyi/github_pub_img/raw/master/assets/2019-03-26-10-20-09-953060.png)"
      ]
    },
    {
      "metadata": {
        "id": "MI5j3jWQmLmv",
        "colab_type": "text"
      },
      "cell_type": "markdown",
      "source": [
        "**Question 5: (10 points)**\n",
        "\n",
        "Create a TextClasDataBunch instance called `data_clas`, load your train and valid Dataframe into it, use the vocab from `data_lm.train_ds.vocab`, set batch size as 32, and run the following code."
      ]
    },
    {
      "metadata": {
        "trusted": true,
        "_uuid": "d8c40e52341b435d6bb828faf6fbee1095262192",
        "id": "sOWsKtK8bCtC",
        "colab_type": "code",
        "colab": {}
      },
      "cell_type": "code",
      "source": [
        "data_clas = TextClasDataBunch.from_df(path, train_df=train, valid_df=valid, text_cols='text', label_cols='sentiment', vocab=data_lm.train_ds.vocab, bs=32)"
      ],
      "execution_count": 0,
      "outputs": []
    },
    {
      "metadata": {
        "trusted": true,
        "_uuid": "0105c7ddb6df1dd207c9533dd98804d59a4fcce6",
        "id": "xGRPON5wbCtQ",
        "colab_type": "code",
        "colab": {
          "base_uri": "https://localhost:8080/",
          "height": 374
        },
        "outputId": "74721ced-2a2a-41ca-c4a2-793acb6b0dd3"
      },
      "cell_type": "code",
      "source": [
        "data_clas.show_batch()"
      ],
      "execution_count": 10,
      "outputs": [
        {
          "output_type": "display_data",
          "data": {
            "text/html": [
              "<table border=\"1\" class=\"dataframe\">\n",
              "  <thead>\n",
              "    <tr style=\"text-align: right;\">\n",
              "      <th>text</th>\n",
              "      <th>target</th>\n",
              "    </tr>\n",
              "  </thead>\n",
              "  <tbody>\n",
              "    <tr>\n",
              "      <td>xxbos xxmaj the freedom of having your own xxmaj sea xxmaj going xxmaj power xxmaj boat , the excitement of going on underwater adventures a rugged , an 's man of an adventurer and xxunk so well endowed ! ) xxunk in fine xxmaj bikinis were all definite selling points for \" xxup sea xxup xxunk - 61 ) . \\n \\n  xxmaj just what was the reason for</td>\n",
              "      <td>1</td>\n",
              "    </tr>\n",
              "    <tr>\n",
              "      <td>xxbos i have never seen any of xxmaj spike xxmaj lee 's prior films , as their trailers never caught my interest . i have seen , and admire xxmaj denzel xxmaj washington , and xxmaj jodie xxmaj foster 's work , and have several of their dvds . i was , however , entirely disappointed with this movie . xxmaj if this film is any indication of xxmaj spike</td>\n",
              "      <td>0</td>\n",
              "    </tr>\n",
              "    <tr>\n",
              "      <td>xxbos xxmaj to be a xxmaj buster xxmaj keaton fan is to have your heart broken on a regular basis . xxmaj most of us first encounter xxmaj keaton in one of the brilliant feature films from his great period of independent production : ' xxmaj the xxmaj general ' , ' xxmaj the xxmaj xxunk ' , ' xxmaj sherlock xxmaj jnr ' . xxmaj we recognise him as</td>\n",
              "      <td>0</td>\n",
              "    </tr>\n",
              "    <tr>\n",
              "      <td>xxbos xxmaj watching xxmaj cliffhanger makes me nostalgic for the early ' 90s , a time when virtually every new action movie could be described as \" xxmaj die xxmaj hard in a / on a. \" xxmaj cliffhanger is \" xxmaj die xxmaj hard on a mountain , \" and pretty good , for what it is . \\n \\n  xxmaj but unlike xxmaj passenger xxunk and xxmaj</td>\n",
              "      <td>1</td>\n",
              "    </tr>\n",
              "    <tr>\n",
              "      <td>xxbos xxmaj enterprise , the latest high budget spin - off to the most successful franchise in film and or television history opens to the tune of a 90-minute episode called ' xxmaj broken xxmaj bow ' . xxmaj first we are swept into a massive action sequence with a xxmaj xxunk being chased by some xxmaj xxunk ( who are the main enemy in the first season of the</td>\n",
              "      <td>1</td>\n",
              "    </tr>\n",
              "  </tbody>\n",
              "</table>"
            ],
            "text/plain": [
              "<IPython.core.display.HTML object>"
            ]
          },
          "metadata": {
            "tags": []
          }
        }
      ]
    },
    {
      "metadata": {
        "id": "LXrBPvi0njxX",
        "colab_type": "text"
      },
      "cell_type": "markdown",
      "source": [
        "You should see the output like this:\n",
        "\n",
        "![](https://github.com/wshuyi/github_pub_img/raw/master/assets/2019-03-26-10-24-53-893234.png)"
      ]
    },
    {
      "metadata": {
        "id": "BjA_2QH0m6AZ",
        "colab_type": "text"
      },
      "cell_type": "markdown",
      "source": [
        "**Question 6: (10 points)**\n",
        "\n",
        "Create a `text_classifier_learner` named `learn`, use `data_clas` as input data, `AWD_LSTM` as architecture, and choose 0.5 as Dropout rate. Note to compare the result with Scikit-learn and textblob later, you need to make sure Precision and Recall are in the metrics list. Load the encoder  (`ft_enc`) you saved just now into `learn`. Draw the result of learning rate finder."
      ]
    },
    {
      "metadata": {
        "trusted": true,
        "_uuid": "ee96a122db78a62ee1a841ec2b63761d643b11b9",
        "id": "KFi3uvq-bCtH",
        "colab_type": "code",
        "colab": {}
      },
      "cell_type": "code",
      "source": [
        "learn=text_classifier_learner(data_clas, AWD_LSTM, drop_mult=0.5, metrics=[accuracy,Precision(), Recall()])\n",
        "learn.load_encoder('ft_enc')"
      ],
      "execution_count": 0,
      "outputs": []
    },
    {
      "metadata": {
        "id": "xTSs22ZNLDKw",
        "colab_type": "code",
        "colab": {
          "base_uri": "https://localhost:8080/",
          "height": 126
        },
        "outputId": "791521ef-5026-4f46-f425-6c5fd5f2ce4e"
      },
      "cell_type": "code",
      "source": [
        "learn.lr_find()"
      ],
      "execution_count": 12,
      "outputs": [
        {
          "output_type": "display_data",
          "data": {
            "text/html": [
              ""
            ],
            "text/plain": [
              "<IPython.core.display.HTML object>"
            ]
          },
          "metadata": {
            "tags": []
          }
        },
        {
          "output_type": "stream",
          "text": [
            "LR Finder is complete, type {learner_name}.recorder.plot() to see the graph.\n"
          ],
          "name": "stdout"
        }
      ]
    },
    {
      "metadata": {
        "id": "Co-ZwEAPIwBo",
        "colab_type": "code",
        "colab": {
          "base_uri": "https://localhost:8080/",
          "height": 364
        },
        "outputId": "5112caf4-82ba-492f-c9d7-791c96baf9ba"
      },
      "cell_type": "code",
      "source": [
        "learn.recorder.plot()"
      ],
      "execution_count": 13,
      "outputs": [
        {
          "output_type": "display_data",
          "data": {
            "image/png": "[encoded data removed]",
            "text/plain": [
              "<Figure size 576x396 with 1 Axes>"
            ]
          },
          "metadata": {
            "tags": []
          }
        }
      ]
    },
    {
      "metadata": {
        "id": "vqn-pdAXniIw",
        "colab_type": "text"
      },
      "cell_type": "markdown",
      "source": [
        "You should see the output like this:\n",
        "\n",
        "![](https://github.com/wshuyi/github_pub_img/raw/master/assets/2019-03-26-10-27-55-239469.png)"
      ]
    },
    {
      "metadata": {
        "id": "FdAZakubnwx7",
        "colab_type": "text"
      },
      "cell_type": "markdown",
      "source": [
        "**Question 7: (20 points)**\n",
        "\n",
        "Fit one cycle with your text classifier learner (`learn`). Unfreeze the last two layers, and fit 3 cycles. Then unfreeze it totally, and fit another 2 cycles. Show the training result."
      ]
    },
    {
      "metadata": {
        "trusted": true,
        "_uuid": "b612e63b0a924444712627e3cc2224c2f69bfc7d",
        "id": "jdO8fcfxbCtY",
        "colab_type": "code",
        "colab": {}
      },
      "cell_type": "code",
      "source": [
        "# Your code here:\n"
      ],
      "execution_count": 0,
      "outputs": []
    },
    {
      "metadata": {
        "id": "4LOhB6DRoUqU",
        "colab_type": "text"
      },
      "cell_type": "markdown",
      "source": [
        "You should see the output like this:\n",
        "\n",
        "![](https://github.com/wshuyi/github_pub_img/raw/master/assets/2019-03-26-10-31-32-631875.png)"
      ]
    },
    {
      "metadata": {
        "id": "C4A7JMTnobiI",
        "colab_type": "text"
      },
      "cell_type": "markdown",
      "source": [
        "**Question 8: (10 points)**\n",
        "\n",
        "Comparing the result with those from textblob, scikit-learn in Classwork 3, what is your finding? How about comparing with the result from Self-study 7 (the whole IMDB dataset)? Write down your answer and comments."
      ]
    },
    {
      "metadata": {
        "id": "cQypGalko4LQ",
        "colab_type": "text"
      },
      "cell_type": "markdown",
      "source": [
        "*Your answer here:*\n",
        "\n"
      ]
    },
    {
      "metadata": {
        "trusted": true,
        "_uuid": "b59afd22f92c215777af52635ceea9fa76c3b10c",
        "id": "yde4NU-ObCt3",
        "colab_type": "code",
        "colab": {}
      },
      "cell_type": "code",
      "source": [
        ""
      ],
      "execution_count": 0,
      "outputs": []
    }
  ]
}